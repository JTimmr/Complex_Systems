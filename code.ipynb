{
 "cells": [
  {
   "cell_type": "code",
   "execution_count": null,
   "metadata": {},
   "outputs": [],
   "source": [
    "import matplotlib.pyplot as plt\n",
    "import matplotlib.animation as animation\n",
    "import matplotlib.colors as colors\n",
    "import numpy as np\n",
    "import powerlaw\n",
    "from tree import Tree\n",
    "from fire import Fire\n",
    "from forest import Forest\n",
    "from analysis import Analyse\n",
    "from forest_sim import run_simulation, initialize_forest\n"
   ]
  },
  {
   "cell_type": "code",
   "execution_count": null,
   "metadata": {},
   "outputs": [],
   "source": [
    "L = 50\n",
    "g = 1\n",
    "f = 50\n",
    "timesteps = 2000\n",
    "instances = 1\n",
    "freeze_time_during_fire = True\n",
    "remember_history = False\n",
    "\n",
    "analysis_exp =  Analyse(L, g, f, freeze_time_during_fire, remember_history, timesteps, instances)\n",
    "analysis_exp.run_one_instance()\n",
    "\n",
    "analysis_exp.animate('animation')"
   ]
  },
  {
   "cell_type": "code",
   "execution_count": null,
   "metadata": {},
   "outputs": [],
   "source": [
    "print(analysis_exp.find_proportion_power_law())\n",
    "analysis_exp.log_log_plot()"
   ]
  },
  {
   "cell_type": "code",
   "execution_count": null,
   "metadata": {},
   "outputs": [],
   "source": [
    "analysis_exp.proportion_power_law"
   ]
  },
  {
   "cell_type": "code",
   "execution_count": null,
   "metadata": {},
   "outputs": [],
   "source": [
    "L = 100\n",
    "g = 1\n",
    "f = 50\n",
    "timesteps = 10**5\n",
    "instances = 10\n",
    "freeze_time_during_fire = True\n",
    "remember_history = False\n",
    "\n",
    "analysis_exp =  Analyse(L, g, f, freeze_time_during_fire, remember_history, timesteps, instances)\n",
    "analysis_exp.run_all()\n",
    "print(analysis_exp.find_proportion_power_law())\n",
    "analysis_exp.log_log_plot(3)"
   ]
  },
  {
   "cell_type": "code",
   "execution_count": null,
   "metadata": {},
   "outputs": [],
   "source": [
    "analysis_exp.proportion_power_law"
   ]
  },
  {
   "cell_type": "markdown",
   "metadata": {},
   "source": [
    "Ilias Data analys"
   ]
  },
  {
   "cell_type": "code",
   "execution_count": null,
   "metadata": {},
   "outputs": [],
   "source": [
    "# Parameters\n",
    "size: tuple = (50, 50) \n",
    "tree_density: float = 0.01\n",
    "iterations: int = 50000\n",
    "fire_start: tuple = (250, 250)\n",
    "growth_prob: float = 0.001\n",
    "ortho_burn_prob: float = 0.8\n",
    "diag_burn_prob: float = 0.8\n",
    "lightning_prob: float = 0.0001 \n",
    "FireLength: int  = 0\n",
    "arrayOfFireLengths: list[int] = []\n",
    "forest = initialize_forest(size=size, tree_density=tree_density) "
   ]
  },
  {
   "cell_type": "code",
   "execution_count": null,
   "metadata": {},
   "outputs": [],
   "source": [
    "FireLength, arrayOfFireLengths  = run_simulation(size=size, tree_density=tree_density, iterations=iterations, fire_start=fire_start, growth_prob=growth_prob, lightning_prob=lightning_prob, ortho_burn_prob=ortho_burn_prob, diag_burn_prob=diag_burn_prob, FireLength=FireLength, arrayOfFireLengths=arrayOfFireLengths)\n"
   ]
  },
  {
   "cell_type": "code",
   "execution_count": null,
   "metadata": {},
   "outputs": [],
   "source": [
    "y = np.bincount(arrayOfFireLengths)\n",
    "x = np.nonzero(a=y)[0]\n",
    "plt.scatter(x=x, y=y[x])\n",
    "plt.xscale(value='log')\n",
    "plt.yscale(value='log')\n",
    "plt.show()\n",
    "plt.hist(arrayOfFireLengths, bins=50)\n",
    "plt.show()\n",
    "results = powerlaw.Fit(data=arrayOfFireLengths)\n",
    "print(results.power_law.alpha)\n",
    "print(results.power_law.xmin)\n",
    "R, p = results.distribution_compare(dist1='truncated_power_law', dist2='lognormal')\n",
    "print(R, p)"
   ]
  },
  {
   "cell_type": "code",
   "execution_count": null,
   "metadata": {},
   "outputs": [],
   "source": [
    "unique_identifiers = range(len(arrayOfFireLengths))\n",
    "plt.plot(unique_identifiers, arrayOfFireLengths)\n",
    "\n",
    "plt.xlabel('Fire Events')\n",
    "plt.ylabel('Length of Fire')\n",
    "plt.title('Bar Plot of Fire Lengths Over Time')\n",
    "\n",
    "plt.show()"
   ]
  },
  {
   "cell_type": "code",
   "execution_count": null,
   "metadata": {},
   "outputs": [],
   "source": [
    "print(max(arrayOfFireLengths))\n"
   ]
  },
  {
   "cell_type": "code",
   "execution_count": null,
   "metadata": {},
   "outputs": [],
   "source": [
    "# Total number of clusters\n",
    "from collections import Counter\n",
    "\n",
    "\n",
    "total_clusters = len(arrayOfFireLengths)\n",
    "frequency_distribution = Counter(arrayOfFireLengths)\n",
    "# Normalizing by the total number of clusters\n",
    "n_s_clusters = {s: freq / total_clusters for s, freq in frequency_distribution.items()}\n",
    "\n",
    "\n",
    "# Normalizing by the total number of sites\n",
    "# n_s_sites = {s: freq / total_sites for s, freq in frequency_distribution.items()}\n",
    "# Prepare data for plotting\n",
    "cluster_sizes = np.array(list(n_s_clusters.keys()))/max(arrayOfFireLengths)\n",
    "frequencies = np.array(list(n_s_clusters.values()))\n",
    "\n",
    "# Filter out zero frequencies for log-log plot\n",
    "nonzero_indices = frequencies > 0\n",
    "cluster_sizes = cluster_sizes[nonzero_indices]\n",
    "frequencies = frequencies[nonzero_indices]\n",
    "\n",
    "# Create a log-log plot\n",
    "plt.figure(figsize=(10, 6))\n",
    "plt.loglog(cluster_sizes, frequencies, 'o')  \n",
    "plt.xlabel(xlabel='Cluster Size (s)')\n",
    "plt.ylabel(ylabel='Normalized Frequency (n(s))')\n",
    "plt.title(label='Log-Log Plot of Cluster Size Distribution')\n",
    "plt.grid(visible=True)\n",
    "plt.show()"
   ]
  }
 ],
 "metadata": {
  "kernelspec": {
   "display_name": "Python 3",
   "language": "python",
   "name": "python3"
  },
  "language_info": {
   "codemirror_mode": {
    "name": "ipython",
    "version": 3
   },
   "file_extension": ".py",
   "mimetype": "text/x-python",
   "name": "python",
   "nbconvert_exporter": "python",
   "pygments_lexer": "ipython3",
   "version": "3.9.7"
  }
 },
 "nbformat": 4,
 "nbformat_minor": 2
}
