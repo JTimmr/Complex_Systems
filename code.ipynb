{
 "cells": [
  {
   "cell_type": "code",
   "execution_count": null,
   "metadata": {},
   "outputs": [],
   "source": [
    "import matplotlib.pyplot as plt\n",
    "import matplotlib.animation as animation\n",
    "import matplotlib.colors as colors\n",
    "import numpy as np\n",
    "import powerlaw\n",
    "from tree import Tree\n",
    "from fire import Fire\n",
    "from forest import Forest\n",
    "from analysis import Analyse\n",
    "import pandas as pd\n",
    "from forest_sim import run_simulation, initialize_forest\n"
   ]
  },
  {
   "cell_type": "markdown",
   "metadata": {},
   "source": [
    "A first step in our work is to show that our basic model based on Turcotte (1999) does indeed show Self-Organized Criticality. In other words: (1) it has a steady input, (2) there are 'avalanches' of output of size proportional tot hat of the system and (3) the system remains at a quasi-equilibrium state. \n",
    "\n",
    "(1) This is determined by the design of the model, per each time step there is between 0 and 1 new trees planted. \n",
    "\n",
    "(2) This is shown by comparing the distribution of fire sizes (i.e. the output of the system) to a power law distribution \n",
    "\n",
    "(3) This is deduced from the fact that, after a period of growth in number of trees, reaches a stable number around which it oscillates. "
   ]
  },
  {
   "cell_type": "code",
   "execution_count": null,
   "metadata": {},
   "outputs": [],
   "source": [
    "L = 50\n",
    "g = 1\n",
    "f = 50\n",
    "timesteps = 10**5\n",
    "instances = 20\n",
    "freeze_time_during_fire = False\n",
    "remember_history = False\n",
    "analysis_1 =  Analyse(L, g, f, freeze_time_during_fire, remember_history, timesteps, instances)\n",
    "analysis_1.run_all()\n"
   ]
  },
  {
   "cell_type": "code",
   "execution_count": null,
   "metadata": {},
   "outputs": [],
   "source": [
    "# (2)\n",
    "analysis_1.find_proportion_power_law()\n",
    "print(f'{analysis_1.proportion_power_law * 100}% of the model instances are best fitted by a power law distribution')\n",
    "analysis_1.log_log_plot()"
   ]
  },
  {
   "cell_type": "code",
   "execution_count": null,
   "metadata": {},
   "outputs": [],
   "source": [
    "# (3)\n",
    "proportion_stable = analysis_1.find_proportion_stable(0.01)\n",
    "print(f'{proportion_stable * 100}% of the model instances converge to a quasi equilibrium state')\n",
    "analysis_1.plot_number_trees_timeseries()"
   ]
  },
  {
   "cell_type": "code",
   "execution_count": null,
   "metadata": {},
   "outputs": [],
   "source": [
    "fig, ax = plt.subplots()\n",
    "\n",
    "\n",
    "L = 100\n",
    "g = 1\n",
    "f = 50\n",
    "timesteps = 10**2\n",
    "instances = 20\n",
    "freeze_time_during_fire = False\n",
    "remember_history = False\n",
    "analysis_1 =  Analyse(L, g, f, freeze_time_during_fire, remember_history, timesteps, instances)\n",
    "analysis_1.run_all()\n",
    "\n",
    "# (2)\n",
    "label = f't={timesteps}'\n",
    "analysis_1.find_proportion_power_law()\n",
    "print(f'{analysis_1.proportion_power_law * 100}% of the model instances are best fitted by a power law distribution')\n",
    "analysis_1.log_log_plot(ax, fig, label=label)\n",
    "\n",
    "\n",
    "timesteps = 10**3\n",
    "label = f't={timesteps}'\n",
    "\n",
    "analysis_1 =  Analyse(L, g, f, freeze_time_during_fire, remember_history, timesteps, instances)\n",
    "analysis_1.run_all()\n",
    "\n",
    "analysis_1.find_proportion_power_law()\n",
    "print(f'{analysis_1.proportion_power_law * 100}% of the model instances are best fitted by a power law distribution')\n",
    "analysis_1.log_log_plot(ax, fig, color='orange', label=label)\n",
    "\n",
    "\n",
    "timesteps = 10**4\n",
    "label = f't={timesteps}'\n",
    "\n",
    "analysis_1 =  Analyse(L, g, f, freeze_time_during_fire, remember_history, timesteps, instances)\n",
    "analysis_1.run_all()\n",
    "\n",
    "analysis_1.find_proportion_power_law()\n",
    "print(f'{analysis_1.proportion_power_law * 100}% of the model instances are best fitted by a power law distribution')\n",
    "analysis_1.log_log_plot(ax, fig, color='blue', label=label)\n",
    "\n",
    "\n",
    "\n",
    "timesteps = 10**5\n",
    "label = f't={timesteps}'\n",
    "\n",
    "analysis_1 =  Analyse(L, g, f, freeze_time_during_fire, remember_history, timesteps, instances)\n",
    "analysis_1.run_all()\n",
    "\n",
    "analysis_1.find_proportion_power_law()\n",
    "print(f'{analysis_1.proportion_power_law * 100}% of the model instances are best fitted by a power law distribution')\n",
    "analysis_1.log_log_plot(ax, fig, color='green', label=label, show=True)"
   ]
  },
  {
   "cell_type": "code",
   "execution_count": null,
   "metadata": {},
   "outputs": [],
   "source": [
    "freeze_time_during_fire = False\n",
    "timesteps = 1500000\n",
    "analysis_2 =  Analyse(L, g, f, freeze_time_during_fire, remember_history, timesteps, instances)\n",
    "analysis_2.run_one_instance(0)\n"
   ]
  },
  {
   "cell_type": "code",
   "execution_count": null,
   "metadata": {},
   "outputs": [],
   "source": [
    "# (2)\n",
    "analysis_2.find_proportion_power_law()\n",
    "print(f'{analysis_2.proportion_power_law * 100}% of the model instances are best fitted by a power law distribution')\n",
    "analysis_2.log_log_plot()"
   ]
  },
  {
   "cell_type": "code",
   "execution_count": null,
   "metadata": {},
   "outputs": [],
   "source": [
    "# (3)\n",
    "proportion_stable = analysis_2.find_proportion_stable(0.01)\n",
    "print(f'{proportion_stable * 100}% of the model instances converge to a quasi equilibrium state')\n",
    "analysis_2.plot_number_trees_timeseries()"
   ]
  },
  {
   "cell_type": "markdown",
   "metadata": {},
   "source": [
    "Ilias Data analys"
   ]
  },
  {
   "cell_type": "code",
   "execution_count": null,
   "metadata": {},
   "outputs": [],
   "source": [
    "# Parameters\n",
    "size: tuple = (50, 50) \n",
    "tree_density: float = 0.01\n",
    "iterations: int = 50000\n",
    "fire_start: tuple = (250, 250)\n",
    "growth_prob: float = 0.001\n",
    "ortho_burn_prob: float = 0.8\n",
    "diag_burn_prob: float = 0.8\n",
    "lightning_prob: float = 0.0001 \n",
    "FireLength: int  = 0\n",
    "arrayOfFireLengths: list[int] = []\n",
    "forest = initialize_forest(size=size, tree_density=tree_density) "
   ]
  },
  {
   "cell_type": "code",
   "execution_count": null,
   "metadata": {},
   "outputs": [],
   "source": [
    "FireLength, arrayOfFireLengths  = run_simulation(size=size, tree_density=tree_density, iterations=iterations, fire_start=fire_start, growth_prob=growth_prob, lightning_prob=lightning_prob, ortho_burn_prob=ortho_burn_prob, diag_burn_prob=diag_burn_prob, FireLength=FireLength, arrayOfFireLengths=arrayOfFireLengths)\n"
   ]
  },
  {
   "cell_type": "code",
   "execution_count": null,
   "metadata": {},
   "outputs": [],
   "source": [
    "y = np.bincount(arrayOfFireLengths)\n",
    "x = np.nonzero(a=y)[0]\n",
    "plt.scatter(x=x, y=y[x])\n",
    "plt.xscale(value='log')\n",
    "plt.yscale(value='log')\n",
    "plt.show()\n",
    "plt.hist(arrayOfFireLengths, bins=50)\n",
    "plt.show()\n",
    "results = powerlaw.Fit(data=arrayOfFireLengths)\n",
    "print(results.power_law.alpha)\n",
    "print(results.power_law.xmin)\n",
    "R, p = results.distribution_compare(dist1='truncated_power_law', dist2='lognormal')\n",
    "print(R, p)"
   ]
  },
  {
   "cell_type": "code",
   "execution_count": null,
   "metadata": {},
   "outputs": [],
   "source": [
    "unique_identifiers = range(len(arrayOfFireLengths))\n",
    "plt.plot(unique_identifiers, arrayOfFireLengths)\n",
    "\n",
    "plt.xlabel('Fire Events')\n",
    "plt.ylabel('Length of Fire')\n",
    "plt.title('Bar Plot of Fire Lengths Over Time')\n",
    "\n",
    "plt.show()"
   ]
  },
  {
   "cell_type": "code",
   "execution_count": null,
   "metadata": {},
   "outputs": [],
   "source": [
    "print(max(arrayOfFireLengths))\n"
   ]
  },
  {
   "cell_type": "code",
   "execution_count": null,
   "metadata": {},
   "outputs": [],
   "source": [
    "# Total number of clusters\n",
    "from collections import Counter\n",
    "\n",
    "\n",
    "total_clusters = len(arrayOfFireLengths)\n",
    "frequency_distribution = Counter(arrayOfFireLengths)\n",
    "# Normalizing by the total number of clusters\n",
    "n_s_clusters = {s: freq / total_clusters for s, freq in frequency_distribution.items()}\n",
    "\n",
    "\n",
    "# Normalizing by the total number of sites\n",
    "# n_s_sites = {s: freq / total_sites for s, freq in frequency_distribution.items()}\n",
    "# Prepare data for plotting\n",
    "cluster_sizes = np.array(list(n_s_clusters.keys()))/max(arrayOfFireLengths)\n",
    "frequencies = np.array(list(n_s_clusters.values()))\n",
    "\n",
    "# Filter out zero frequencies for log-log plot\n",
    "nonzero_indices = frequencies > 0\n",
    "cluster_sizes = cluster_sizes[nonzero_indices]\n",
    "frequencies = frequencies[nonzero_indices]\n",
    "\n",
    "# Create a log-log plot\n",
    "plt.figure(figsize=(10, 6))\n",
    "plt.loglog(cluster_sizes, frequencies, 'o')  \n",
    "plt.xlabel(xlabel='Cluster Size (s)')\n",
    "plt.ylabel(ylabel='Normalized Frequency (n(s))')\n",
    "plt.title(label='Log-Log Plot of Cluster Size Distribution')\n",
    "plt.grid(visible=True)\n",
    "plt.show()"
   ]
  }
 ],
 "metadata": {
  "kernelspec": {
   "display_name": "Python 3",
   "language": "python",
   "name": "python3"
  },
  "language_info": {
   "codemirror_mode": {
    "name": "ipython",
    "version": 3
   },
   "file_extension": ".py",
   "mimetype": "text/x-python",
   "name": "python",
   "nbconvert_exporter": "python",
   "pygments_lexer": "ipython3",
   "version": "3.11.7"
  }
 },
 "nbformat": 4,
 "nbformat_minor": 2
}
