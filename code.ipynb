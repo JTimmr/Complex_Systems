{
 "cells": [
  {
   "cell_type": "code",
   "execution_count": 2,
   "metadata": {},
   "outputs": [],
   "source": [
    "import matplotlib.pyplot as plt\n",
    "import matplotlib.animation as animation\n",
    "import matplotlib.colors as colors\n",
    "import numpy as np\n",
    "import powerlaw\n",
    "from tree import Tree\n",
    "from fire import Fire\n",
    "from forest import Forest\n",
    "from analysis import Analyse"
   ]
  },
  {
   "cell_type": "code",
   "execution_count": 4,
   "metadata": {},
   "outputs": [],
   "source": [
    "L = 15\n",
    "g = 1\n",
    "f = 50\n",
    "timesteps = 200\n",
    "instances = 1\n",
    "freeze_time_during_fire = True\n",
    "remember_history = False\n",
    "\n",
    "analysis_exp =  Analyse(L, g, f, freeze_time_during_fire, remember_history, timesteps, instances)\n",
    "analysis_exp.run_one_instance()\n",
    "\n",
    "# analysis_exp.animate('animation')"
   ]
  },
  {
   "cell_type": "code",
   "execution_count": 5,
   "metadata": {},
   "outputs": [
    {
     "name": "stdout",
     "output_type": "stream",
     "text": [
      "Calculating best minimal value for power law fit\n",
      "xmin progress: 00%\r"
     ]
    },
    {
     "name": "stderr",
     "output_type": "stream",
     "text": [
      "Assuming nested distributions\n"
     ]
    },
    {
     "name": "stdout",
     "output_type": "stream",
     "text": [
      "None\n"
     ]
    },
    {
     "data": {
      "image/png": "[encoded data removed]",
      "text/plain": [
       "<Figure size 640x480 with 1 Axes>"
      ]
     },
     "metadata": {},
     "output_type": "display_data"
    }
   ],
   "source": [
    "print(analysis_exp.find_proportion_power_law())\n",
    "analysis_exp.log_log_plot()"
   ]
  },
  {
   "cell_type": "code",
   "execution_count": 4,
   "metadata": {},
   "outputs": [
    {
     "data": {
      "text/plain": [
       "1.0"
      ]
     },
     "execution_count": 4,
     "metadata": {},
     "output_type": "execute_result"
    }
   ],
   "source": [
    "analysis_exp.proportion_power_law"
   ]
  },
  {
   "cell_type": "code",
   "execution_count": null,
   "metadata": {},
   "outputs": [],
   "source": [
    "L = 100\n",
    "g = 1\n",
    "f = 50\n",
    "timesteps = 10**5\n",
    "instances = 10\n",
    "freeze_time_during_fire = True\n",
    "remember_history = False\n",
    "\n",
    "analysis_exp =  Analyse(L, g, f, freeze_time_during_fire, remember_history, timesteps, instances)\n",
    "analysis_exp.run_all()\n",
    "print(analysis_exp.find_proportion_power_law())\n",
    "analysis_exp.log_log_plot(3)"
   ]
  },
  {
   "cell_type": "code",
   "execution_count": null,
   "metadata": {},
   "outputs": [],
   "source": [
    "analysis_exp.proportion_power_law"
   ]
  }
 ],
 "metadata": {
  "kernelspec": {
   "display_name": "Python 3",
   "language": "python",
   "name": "python3"
  },
  "language_info": {
   "codemirror_mode": {
    "name": "ipython",
    "version": 3
   },
   "file_extension": ".py",
   "mimetype": "text/x-python",
   "name": "python",
   "nbconvert_exporter": "python",
   "pygments_lexer": "ipython3",
   "version": "3.9.7"
  }
 },
 "nbformat": 4,
 "nbformat_minor": 2
}
