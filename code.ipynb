{
 "cells": [
  {
   "cell_type": "code",
   "execution_count": 2,
   "metadata": {},
   "outputs": [],
   "source": [
    "import matplotlib.pyplot as plt\n",
    "import matplotlib.animation as animation\n",
    "import matplotlib.colors as colors\n",
    "import numpy as np\n",
    "import powerlaw\n",
    "from tree import Tree\n",
    "from fire import Fire\n",
    "from forest import Forest\n",
    "from analysis import Analyse\n",
    "import pandas as pd\n",
    "from sensitivity_analysis import SensitivityAnal\n",
    "# from forest_sim import run_simulation, initialize_forest\n"
   ]
  },
  {
   "cell_type": "code",
   "execution_count": null,
   "metadata": {},
   "outputs": [],
   "source": []
  },
  {
   "cell_type": "markdown",
   "metadata": {},
   "source": [
    "## H_2: Sensitivity analysis"
   ]
  },
  {
   "cell_type": "markdown",
   "metadata": {},
   "source": [
    "### Testing the effect of $L$ on the model"
   ]
  },
  {
   "cell_type": "markdown",
   "metadata": {},
   "source": [
    "Example runs at $t = 10^5$ and $L = 50$ and $500$"
   ]
  },
  {
   "cell_type": "code",
   "execution_count": 4,
   "metadata": {},
   "outputs": [
    {
     "ename": "KeyboardInterrupt",
     "evalue": "",
     "output_type": "error",
     "traceback": [
      "\u001b[1;31m---------------------------------------------------------------------------\u001b[0m",
      "\u001b[1;31mKeyboardInterrupt\u001b[0m                         Traceback (most recent call last)",
      "\u001b[1;32m~\\AppData\\Local\\Temp/ipykernel_10724/365540458.py\u001b[0m in \u001b[0;36m<module>\u001b[1;34m\u001b[0m\n\u001b[0;32m     12\u001b[0m \u001b[1;33m\u001b[0m\u001b[0m\n\u001b[0;32m     13\u001b[0m \u001b[0manalysis_50\u001b[0m \u001b[1;33m=\u001b[0m \u001b[0mAnalyse\u001b[0m\u001b[1;33m(\u001b[0m\u001b[0mL\u001b[0m\u001b[1;33m,\u001b[0m \u001b[0mf\u001b[0m\u001b[1;33m,\u001b[0m \u001b[1;32mFalse\u001b[0m\u001b[1;33m,\u001b[0m \u001b[1;32mFalse\u001b[0m\u001b[1;33m,\u001b[0m \u001b[0mtime_steps\u001b[0m\u001b[1;33m,\u001b[0m \u001b[0minstances\u001b[0m\u001b[1;33m,\u001b[0m \u001b[0mlake_proportion\u001b[0m\u001b[1;33m=\u001b[0m\u001b[1;36m0\u001b[0m\u001b[1;33m,\u001b[0m \u001b[0minclude_lakes\u001b[0m\u001b[1;33m=\u001b[0m\u001b[1;32mFalse\u001b[0m\u001b[1;33m)\u001b[0m\u001b[1;33m\u001b[0m\u001b[1;33m\u001b[0m\u001b[0m\n\u001b[1;32m---> 14\u001b[1;33m \u001b[0manalysis_50\u001b[0m\u001b[1;33m.\u001b[0m\u001b[0mrun_all\u001b[0m\u001b[1;33m(\u001b[0m\u001b[1;33m)\u001b[0m\u001b[1;33m\u001b[0m\u001b[1;33m\u001b[0m\u001b[0m\n\u001b[0m\u001b[0;32m     15\u001b[0m \u001b[0manalysis_50\u001b[0m\u001b[1;33m.\u001b[0m\u001b[0mfind_best_fitting_distributions\u001b[0m\u001b[1;33m(\u001b[0m\u001b[1;33m)\u001b[0m\u001b[1;33m\u001b[0m\u001b[1;33m\u001b[0m\u001b[0m\n\u001b[0;32m     16\u001b[0m \u001b[0manalysis_50\u001b[0m\u001b[1;33m.\u001b[0m\u001b[0mlog_log_plot\u001b[0m\u001b[1;33m(\u001b[0m\u001b[1;33m)\u001b[0m\u001b[1;33m\u001b[0m\u001b[1;33m\u001b[0m\u001b[0m\n",
      "\u001b[1;32mc:\\Users\\user\\OneDrive - UvA\\Desktop\\Master\\Complex_Systems\\Complex_Systems\\analysis.py\u001b[0m in \u001b[0;36mrun_all\u001b[1;34m(self)\u001b[0m\n\u001b[0;32m     55\u001b[0m     \u001b[1;32mdef\u001b[0m \u001b[0mrun_all\u001b[0m\u001b[1;33m(\u001b[0m\u001b[0mself\u001b[0m\u001b[1;33m)\u001b[0m\u001b[1;33m:\u001b[0m\u001b[1;33m\u001b[0m\u001b[1;33m\u001b[0m\u001b[0m\n\u001b[0;32m     56\u001b[0m         \u001b[1;32mfor\u001b[0m \u001b[0minstance_number\u001b[0m \u001b[1;32min\u001b[0m \u001b[0mrange\u001b[0m\u001b[1;33m(\u001b[0m\u001b[0mself\u001b[0m\u001b[1;33m.\u001b[0m\u001b[0minstances\u001b[0m\u001b[1;33m)\u001b[0m\u001b[1;33m:\u001b[0m\u001b[1;33m\u001b[0m\u001b[1;33m\u001b[0m\u001b[0m\n\u001b[1;32m---> 57\u001b[1;33m             \u001b[0mself\u001b[0m\u001b[1;33m.\u001b[0m\u001b[0mrun_one_instance\u001b[0m\u001b[1;33m(\u001b[0m\u001b[0minstance_number\u001b[0m\u001b[1;33m)\u001b[0m\u001b[1;33m\u001b[0m\u001b[1;33m\u001b[0m\u001b[0m\n\u001b[0m\u001b[0;32m     58\u001b[0m \u001b[1;33m\u001b[0m\u001b[0m\n\u001b[0;32m     59\u001b[0m     \u001b[1;32mdef\u001b[0m \u001b[0mfind_best_fitting_distributions\u001b[0m\u001b[1;33m(\u001b[0m\u001b[0mself\u001b[0m\u001b[1;33m)\u001b[0m\u001b[1;33m:\u001b[0m\u001b[1;33m\u001b[0m\u001b[1;33m\u001b[0m\u001b[0m\n",
      "\u001b[1;32mc:\\Users\\user\\OneDrive - UvA\\Desktop\\Master\\Complex_Systems\\Complex_Systems\\analysis.py\u001b[0m in \u001b[0;36mrun_one_instance\u001b[1;34m(self, instance_number)\u001b[0m\n\u001b[0;32m     41\u001b[0m         \u001b[0mforest\u001b[0m \u001b[1;33m=\u001b[0m \u001b[0mForest\u001b[0m\u001b[1;33m(\u001b[0m\u001b[0mself\u001b[0m\u001b[1;33m.\u001b[0m\u001b[0mL\u001b[0m\u001b[1;33m,\u001b[0m \u001b[0mself\u001b[0m\u001b[1;33m.\u001b[0m\u001b[0mf\u001b[0m\u001b[1;33m,\u001b[0m \u001b[0mself\u001b[0m\u001b[1;33m.\u001b[0m\u001b[0mfreeze_time_during_fire\u001b[0m\u001b[1;33m,\u001b[0m \u001b[0mself\u001b[0m\u001b[1;33m.\u001b[0m\u001b[0mtimesteps\u001b[0m\u001b[1;33m,\u001b[0m \u001b[0minclude_lakes\u001b[0m\u001b[1;33m=\u001b[0m\u001b[0mself\u001b[0m\u001b[1;33m.\u001b[0m\u001b[0minclude_lakes\u001b[0m\u001b[1;33m,\u001b[0m \u001b[0mlake_proportion\u001b[0m\u001b[1;33m=\u001b[0m\u001b[0mself\u001b[0m\u001b[1;33m.\u001b[0m\u001b[0mlake_proportion\u001b[0m\u001b[1;33m)\u001b[0m\u001b[1;33m\u001b[0m\u001b[1;33m\u001b[0m\u001b[0m\n\u001b[0;32m     42\u001b[0m         \u001b[1;32mwhile\u001b[0m \u001b[0mforest\u001b[0m\u001b[1;33m.\u001b[0m\u001b[0mt\u001b[0m \u001b[1;33m<\u001b[0m \u001b[0mself\u001b[0m\u001b[1;33m.\u001b[0m\u001b[0mtimesteps\u001b[0m\u001b[1;33m:\u001b[0m\u001b[1;33m\u001b[0m\u001b[1;33m\u001b[0m\u001b[0m\n\u001b[1;32m---> 43\u001b[1;33m             \u001b[0mforest\u001b[0m\u001b[1;33m.\u001b[0m\u001b[0mdo_timestep\u001b[0m\u001b[1;33m(\u001b[0m\u001b[1;33m)\u001b[0m\u001b[1;33m\u001b[0m\u001b[1;33m\u001b[0m\u001b[0m\n\u001b[0m\u001b[0;32m     44\u001b[0m             \u001b[1;32mif\u001b[0m \u001b[0mself\u001b[0m\u001b[1;33m.\u001b[0m\u001b[0minstances\u001b[0m \u001b[1;33m==\u001b[0m \u001b[1;36m1\u001b[0m \u001b[1;32mand\u001b[0m \u001b[0mself\u001b[0m\u001b[1;33m.\u001b[0m\u001b[0mremember_history\u001b[0m\u001b[1;33m:\u001b[0m\u001b[1;33m\u001b[0m\u001b[1;33m\u001b[0m\u001b[0m\n\u001b[0;32m     45\u001b[0m                 \u001b[0mself\u001b[0m\u001b[1;33m.\u001b[0m\u001b[0mims\u001b[0m\u001b[1;33m.\u001b[0m\u001b[0mappend\u001b[0m\u001b[1;33m(\u001b[0m\u001b[1;33m[\u001b[0m\u001b[0mself\u001b[0m\u001b[1;33m.\u001b[0m\u001b[0manimation_ax\u001b[0m\u001b[1;33m.\u001b[0m\u001b[0mimshow\u001b[0m\u001b[1;33m(\u001b[0m\u001b[0mforest\u001b[0m\u001b[1;33m.\u001b[0m\u001b[0mforest\u001b[0m\u001b[1;33m,\u001b[0m \u001b[0manimated\u001b[0m\u001b[1;33m=\u001b[0m\u001b[1;32mTrue\u001b[0m\u001b[1;33m,\u001b[0m \u001b[0mcmap\u001b[0m \u001b[1;33m=\u001b[0m \u001b[0mself\u001b[0m\u001b[1;33m.\u001b[0m\u001b[0mcmap\u001b[0m\u001b[1;33m,\u001b[0m \u001b[0mvmin\u001b[0m\u001b[1;33m=\u001b[0m\u001b[1;36m0\u001b[0m\u001b[1;33m,\u001b[0m \u001b[0mvmax\u001b[0m\u001b[1;33m=\u001b[0m\u001b[1;36m2\u001b[0m\u001b[1;33m)\u001b[0m\u001b[1;33m]\u001b[0m\u001b[1;33m)\u001b[0m\u001b[1;33m\u001b[0m\u001b[1;33m\u001b[0m\u001b[0m\n",
      "\u001b[1;32mc:\\Users\\user\\OneDrive - UvA\\Desktop\\Master\\Complex_Systems\\Complex_Systems\\forest.py\u001b[0m in \u001b[0;36mdo_timestep\u001b[1;34m(self)\u001b[0m\n\u001b[0;32m    147\u001b[0m     \u001b[1;32mdef\u001b[0m \u001b[0mdo_timestep\u001b[0m\u001b[1;33m(\u001b[0m\u001b[0mself\u001b[0m\u001b[1;33m)\u001b[0m\u001b[1;33m:\u001b[0m\u001b[1;33m\u001b[0m\u001b[1;33m\u001b[0m\u001b[0m\n\u001b[0;32m    148\u001b[0m         \u001b[1;32mif\u001b[0m \u001b[1;32mnot\u001b[0m \u001b[0mself\u001b[0m\u001b[1;33m.\u001b[0m\u001b[0mfreeze_time_during_fire\u001b[0m \u001b[1;32mor\u001b[0m \u001b[0mlen\u001b[0m\u001b[1;33m(\u001b[0m\u001b[0mself\u001b[0m\u001b[1;33m.\u001b[0m\u001b[0mfires\u001b[0m\u001b[1;33m)\u001b[0m \u001b[1;33m==\u001b[0m \u001b[1;36m0\u001b[0m\u001b[1;33m:\u001b[0m\u001b[1;33m\u001b[0m\u001b[1;33m\u001b[0m\u001b[0m\n\u001b[1;32m--> 149\u001b[1;33m             \u001b[0mself\u001b[0m\u001b[1;33m.\u001b[0m\u001b[0mplant_tree\u001b[0m\u001b[1;33m(\u001b[0m\u001b[1;33m)\u001b[0m\u001b[1;33m\u001b[0m\u001b[1;33m\u001b[0m\u001b[0m\n\u001b[0m\u001b[0;32m    150\u001b[0m \u001b[1;33m\u001b[0m\u001b[0m\n\u001b[0;32m    151\u001b[0m         \u001b[0mself\u001b[0m\u001b[1;33m.\u001b[0m\u001b[0mgrow_fire\u001b[0m\u001b[1;33m(\u001b[0m\u001b[1;33m)\u001b[0m\u001b[1;33m\u001b[0m\u001b[1;33m\u001b[0m\u001b[0m\n",
      "\u001b[1;32mc:\\Users\\user\\OneDrive - UvA\\Desktop\\Master\\Complex_Systems\\Complex_Systems\\forest.py\u001b[0m in \u001b[0;36mplant_tree\u001b[1;34m(self)\u001b[0m\n\u001b[0;32m     40\u001b[0m     \u001b[1;32mdef\u001b[0m \u001b[0mplant_tree\u001b[0m\u001b[1;33m(\u001b[0m\u001b[0mself\u001b[0m\u001b[1;33m)\u001b[0m\u001b[1;33m:\u001b[0m\u001b[1;33m\u001b[0m\u001b[1;33m\u001b[0m\u001b[0m\n\u001b[0;32m     41\u001b[0m         \u001b[1;32mwhile\u001b[0m \u001b[1;32mTrue\u001b[0m\u001b[1;33m:\u001b[0m\u001b[1;33m\u001b[0m\u001b[1;33m\u001b[0m\u001b[0m\n\u001b[1;32m---> 42\u001b[1;33m             \u001b[0mx\u001b[0m\u001b[1;33m,\u001b[0m \u001b[0my\u001b[0m \u001b[1;33m=\u001b[0m \u001b[0mnp\u001b[0m\u001b[1;33m.\u001b[0m\u001b[0mrandom\u001b[0m\u001b[1;33m.\u001b[0m\u001b[0mrandint\u001b[0m\u001b[1;33m(\u001b[0m\u001b[0mself\u001b[0m\u001b[1;33m.\u001b[0m\u001b[0mL\u001b[0m\u001b[1;33m,\u001b[0m \u001b[0msize\u001b[0m\u001b[1;33m=\u001b[0m\u001b[1;36m2\u001b[0m\u001b[1;33m)\u001b[0m\u001b[1;33m\u001b[0m\u001b[1;33m\u001b[0m\u001b[0m\n\u001b[0m\u001b[0;32m     43\u001b[0m             \u001b[1;32mif\u001b[0m \u001b[0mself\u001b[0m\u001b[1;33m.\u001b[0m\u001b[0mforest\u001b[0m\u001b[1;33m[\u001b[0m\u001b[0mx\u001b[0m\u001b[1;33m,\u001b[0m \u001b[0my\u001b[0m\u001b[1;33m]\u001b[0m \u001b[1;33m!=\u001b[0m \u001b[1;36m3\u001b[0m\u001b[1;33m:\u001b[0m  \u001b[1;31m# lake check\u001b[0m\u001b[1;33m\u001b[0m\u001b[1;33m\u001b[0m\u001b[0m\n\u001b[0;32m     44\u001b[0m                 \u001b[0mself\u001b[0m\u001b[1;33m.\u001b[0m\u001b[0mforest\u001b[0m\u001b[1;33m[\u001b[0m\u001b[0mx\u001b[0m\u001b[1;33m,\u001b[0m \u001b[0my\u001b[0m\u001b[1;33m]\u001b[0m \u001b[1;33m=\u001b[0m \u001b[1;36m1\u001b[0m\u001b[1;33m\u001b[0m\u001b[1;33m\u001b[0m\u001b[0m\n",
      "\u001b[1;31mKeyboardInterrupt\u001b[0m: "
     ]
    }
   ],
   "source": [
    "L = 50\n",
    "g = 1\n",
    "f = 125\n",
    "parameter_to_change = 'L'\n",
    "range_min = 10\n",
    "range_max = 510\n",
    "range_step = 50\n",
    "time_steps = 10 ** 5\n",
    "instances = 20\n",
    "include_lakes = False\n",
    "lake_proportion = 0\n",
    "\n",
    "analysis_50 = Analyse(L, f, False, False, time_steps, instances, lake_proportion=0, include_lakes=False)\n",
    "analysis_50.run_all()\n",
    "analysis_50.find_best_fitting_distributions()\n",
    "analysis_50.log_log_plot()"
   ]
  },
  {
   "cell_type": "code",
   "execution_count": 20,
   "metadata": {},
   "outputs": [
    {
     "name": "stdout",
     "output_type": "stream",
     "text": [
      "Best fitting slope: -0.9899093913712186\n"
     ]
    },
    {
     "data": {
      "image/png": "[encoded data removed]",
      "text/plain": [
       "<Figure size 432x288 with 1 Axes>"
      ]
     },
     "metadata": {
      "needs_background": "light"
     },
     "output_type": "display_data"
    }
   ],
   "source": [
    "analysis_50.log_log_plot()"
   ]
  },
  {
   "cell_type": "code",
   "execution_count": 17,
   "metadata": {},
   "outputs": [
    {
     "name": "stdout",
     "output_type": "stream",
     "text": [
      "xmin progress: 92%\r"
     ]
    },
    {
     "name": "stderr",
     "output_type": "stream",
     "text": [
      "Assuming nested distributions\n",
      "Assuming nested distributions\n"
     ]
    },
    {
     "name": "stdout",
     "output_type": "stream",
     "text": [
      "xmin progress: 92%\r"
     ]
    },
    {
     "name": "stderr",
     "output_type": "stream",
     "text": [
      "Assuming nested distributions\n",
      "c:\\Users\\user\\anaconda3\\lib\\site-packages\\powerlaw.py:1507: RuntimeWarning: overflow encountered in divide\n",
      "  likelihoods = f/C\n",
      "c:\\Users\\user\\anaconda3\\lib\\site-packages\\powerlaw.py:1615: RuntimeWarning: invalid value encountered in divide\n",
      "  CDF = CDF/norm\n",
      "'nan' in fit cumulative distribution values.\n",
      "Likely underflow or overflow error: the optimal fit for this distribution gives values that are so extreme that we lack the numerical precision to calculate them.\n",
      "Assuming nested distributions\n"
     ]
    },
    {
     "name": "stdout",
     "output_type": "stream",
     "text": [
      "xmin progress: 91%\r"
     ]
    },
    {
     "name": "stderr",
     "output_type": "stream",
     "text": [
      "Assuming nested distributions\n",
      "'nan' in fit cumulative distribution values.\n",
      "Likely underflow or overflow error: the optimal fit for this distribution gives values that are so extreme that we lack the numerical precision to calculate them.\n",
      "Assuming nested distributions\n"
     ]
    },
    {
     "name": "stdout",
     "output_type": "stream",
     "text": [
      "xmin progress: 94%\r"
     ]
    },
    {
     "name": "stderr",
     "output_type": "stream",
     "text": [
      "'nan' in fit cumulative distribution values.\n",
      "Likely underflow or overflow error: the optimal fit for this distribution gives values that are so extreme that we lack the numerical precision to calculate them.\n",
      "Assuming nested distributions\n"
     ]
    },
    {
     "name": "stdout",
     "output_type": "stream",
     "text": [
      "xmin progress: 91%\r"
     ]
    },
    {
     "name": "stderr",
     "output_type": "stream",
     "text": [
      "c:\\Users\\user\\anaconda3\\lib\\site-packages\\powerlaw.py:1615: RuntimeWarning: divide by zero encountered in divide\n",
      "  CDF = CDF/norm\n",
      "'nan' in fit cumulative distribution values.\n",
      "Likely underflow or overflow error: the optimal fit for this distribution gives values that are so extreme that we lack the numerical precision to calculate them.\n",
      "Assuming nested distributions\n"
     ]
    },
    {
     "name": "stdout",
     "output_type": "stream",
     "text": [
      "xmin progress: 92%\r"
     ]
    },
    {
     "name": "stderr",
     "output_type": "stream",
     "text": [
      "'nan' in fit cumulative distribution values.\n",
      "Likely underflow or overflow error: the optimal fit for this distribution gives values that are so extreme that we lack the numerical precision to calculate them.\n",
      "Assuming nested distributions\n"
     ]
    },
    {
     "name": "stdout",
     "output_type": "stream",
     "text": [
      "xmin progress: 92%\r"
     ]
    },
    {
     "name": "stderr",
     "output_type": "stream",
     "text": [
      "'nan' in fit cumulative distribution values.\n",
      "Likely underflow or overflow error: the optimal fit for this distribution gives values that are so extreme that we lack the numerical precision to calculate them.\n",
      "Assuming nested distributions\n"
     ]
    },
    {
     "name": "stdout",
     "output_type": "stream",
     "text": [
      "xmin progress: 93%\r"
     ]
    },
    {
     "name": "stderr",
     "output_type": "stream",
     "text": [
      "'nan' in fit cumulative distribution values.\n",
      "Likely underflow or overflow error: the optimal fit for this distribution gives values that are so extreme that we lack the numerical precision to calculate them.\n",
      "Assuming nested distributions\n"
     ]
    },
    {
     "name": "stdout",
     "output_type": "stream",
     "text": [
      "xmin progress: 93%\r"
     ]
    },
    {
     "name": "stderr",
     "output_type": "stream",
     "text": [
      "'nan' in fit cumulative distribution values.\n",
      "Likely underflow or overflow error: the optimal fit for this distribution gives values that are so extreme that we lack the numerical precision to calculate them.\n",
      "Assuming nested distributions\n"
     ]
    },
    {
     "name": "stdout",
     "output_type": "stream",
     "text": [
      "xmin progress: 94%\r"
     ]
    },
    {
     "name": "stderr",
     "output_type": "stream",
     "text": [
      "Assuming nested distributions\n",
      "'nan' in fit cumulative distribution values.\n",
      "Likely underflow or overflow error: the optimal fit for this distribution gives values that are so extreme that we lack the numerical precision to calculate them.\n",
      "Assuming nested distributions\n"
     ]
    },
    {
     "name": "stdout",
     "output_type": "stream",
     "text": [
      "xmin progress: 94%\r"
     ]
    },
    {
     "name": "stderr",
     "output_type": "stream",
     "text": [
      "'nan' in fit cumulative distribution values.\n",
      "Likely underflow or overflow error: the optimal fit for this distribution gives values that are so extreme that we lack the numerical precision to calculate them.\n",
      "Assuming nested distributions\n"
     ]
    },
    {
     "name": "stdout",
     "output_type": "stream",
     "text": [
      "xmin progress: 93%\r"
     ]
    },
    {
     "name": "stderr",
     "output_type": "stream",
     "text": [
      "'nan' in fit cumulative distribution values.\n",
      "Likely underflow or overflow error: the optimal fit for this distribution gives values that are so extreme that we lack the numerical precision to calculate them.\n",
      "Assuming nested distributions\n",
      "'nan' in fit cumulative distribution values.\n",
      "Likely underflow or overflow error: the optimal fit for this distribution gives values that are so extreme that we lack the numerical precision to calculate them.\n",
      "Assuming nested distributions\n"
     ]
    },
    {
     "name": "stdout",
     "output_type": "stream",
     "text": [
      "xmin progress: 93%\r"
     ]
    },
    {
     "name": "stderr",
     "output_type": "stream",
     "text": [
      "Assuming nested distributions\n"
     ]
    },
    {
     "name": "stdout",
     "output_type": "stream",
     "text": [
      "xmin progress: 94%\r"
     ]
    },
    {
     "name": "stderr",
     "output_type": "stream",
     "text": [
      "Assuming nested distributions\n",
      "'nan' in fit cumulative distribution values.\n",
      "Likely underflow or overflow error: the optimal fit for this distribution gives values that are so extreme that we lack the numerical precision to calculate them.\n",
      "Assuming nested distributions\n"
     ]
    },
    {
     "name": "stdout",
     "output_type": "stream",
     "text": [
      "Best fitting slope: -1.6335225170191003\n"
     ]
    },
    {
     "data": {
      "image/png": "[encoded data removed]",
      "text/plain": [
       "<Figure size 432x288 with 1 Axes>"
      ]
     },
     "metadata": {
      "needs_background": "light"
     },
     "output_type": "display_data"
    }
   ],
   "source": [
    "L = 500\n",
    "f = 125\n",
    "parameter_to_change = 'L'\n",
    "range_min = 10\n",
    "range_max = 510\n",
    "range_step = 50\n",
    "time_steps = 10 ** 5\n",
    "instances = 20\n",
    "include_lakes = False\n",
    "lake_proportion = 0\n",
    "\n",
    "analysis_500 = Analyse(L, f, False, False, time_steps, instances, lake_proportion=0, include_lakes=True)\n",
    "analysis_500.run_all()\n",
    "analysis_500.find_best_fitting_distributions()\n"
   ]
  },
  {
   "cell_type": "code",
   "execution_count": 22,
   "metadata": {},
   "outputs": [
    {
     "name": "stdout",
     "output_type": "stream",
     "text": [
      "Best fitting slope: -1.6335225170191003\n"
     ]
    },
    {
     "data": {
      "image/png": "[encoded data removed]",
      "text/plain": [
       "<Figure size 432x288 with 1 Axes>"
      ]
     },
     "metadata": {
      "needs_background": "light"
     },
     "output_type": "display_data"
    }
   ],
   "source": [
    "analysis_500.log_log_plot()"
   ]
  },
  {
   "cell_type": "markdown",
   "metadata": {},
   "source": [
    "Sensitivity analysis from $L = 10$ up until $610$ in steps of $20$"
   ]
  },
  {
   "cell_type": "code",
   "execution_count": 6,
   "metadata": {},
   "outputs": [
    {
     "name": "stdout",
     "output_type": "stream",
     "text": [
      "xmin progress: 50%\r"
     ]
    },
    {
     "name": "stderr",
     "output_type": "stream",
     "text": [
      "Assuming nested distributions\n"
     ]
    },
    {
     "name": "stdout",
     "output_type": "stream",
     "text": [
      "xmin progress: 75%\r"
     ]
    },
    {
     "name": "stderr",
     "output_type": "stream",
     "text": [
      "Assuming nested distributions\n",
      "'nan' in fit cumulative distribution values.\n",
      "Likely underflow or overflow error: the optimal fit for this distribution gives values that are so extreme that we lack the numerical precision to calculate them.\n",
      "c:\\Users\\user\\anaconda3\\lib\\site-packages\\powerlaw.py:1188: RuntimeWarning: overflow encountered in scalar power\n",
      "  return (self.alpha-1) * self.xmin**(self.alpha-1)\n",
      "c:\\Users\\user\\anaconda3\\lib\\site-packages\\powerlaw.py:835: RuntimeWarning: invalid value encountered in multiply\n",
      "  likelihoods = f*C\n",
      "Assuming nested distributions\n"
     ]
    },
    {
     "name": "stdout",
     "output_type": "stream",
     "text": [
      "xmin progress: 75%\r"
     ]
    },
    {
     "name": "stderr",
     "output_type": "stream",
     "text": [
      "Assuming nested distributions\n"
     ]
    },
    {
     "name": "stdout",
     "output_type": "stream",
     "text": [
      "xmin progress: 80%\r"
     ]
    },
    {
     "name": "stderr",
     "output_type": "stream",
     "text": [
      "Assuming nested distributions\n",
      "'nan' in fit cumulative distribution values.\n",
      "Likely underflow or overflow error: the optimal fit for this distribution gives values that are so extreme that we lack the numerical precision to calculate them.\n"
     ]
    },
    {
     "name": "stdout",
     "output_type": "stream",
     "text": [
      "xmin progress: 00%\r"
     ]
    },
    {
     "name": "stderr",
     "output_type": "stream",
     "text": [
      "Assuming nested distributions\n"
     ]
    },
    {
     "name": "stdout",
     "output_type": "stream",
     "text": [
      "xmin progress: 50%\r"
     ]
    },
    {
     "name": "stderr",
     "output_type": "stream",
     "text": [
      "Assuming nested distributions\n"
     ]
    },
    {
     "name": "stdout",
     "output_type": "stream",
     "text": [
      "xmin progress: 00%\r"
     ]
    },
    {
     "name": "stderr",
     "output_type": "stream",
     "text": [
      "Assuming nested distributions\n",
      "Less than 2 unique data values left after xmin and xmax options! Cannot fit. Returning nans.\n",
      "c:\\Users\\user\\anaconda3\\lib\\site-packages\\powerlaw.py:1151: RuntimeWarning: invalid value encountered in scalar divide\n",
      "  self.alpha = 1 + (self.n / sum(log(data/self.xmin)))\n",
      "c:\\Users\\user\\anaconda3\\lib\\site-packages\\powerlaw.py:1170: RuntimeWarning: invalid value encountered in scalar divide\n",
      "  return 1 + len(data)/sum(log(data / (self.xmin)))\n",
      "Not enough data. Returning nan\n",
      "Not enough data. Returning nan\n",
      "c:\\Users\\user\\anaconda3\\lib\\site-packages\\numpy\\core\\fromnumeric.py:3504: RuntimeWarning: Mean of empty slice.\n",
      "  return _methods._mean(a, axis=axis, dtype=dtype,\n",
      "c:\\Users\\user\\anaconda3\\lib\\site-packages\\numpy\\core\\_methods.py:129: RuntimeWarning: invalid value encountered in scalar divide\n",
      "  ret = ret.dtype.type(ret / rcount)\n",
      "No valid fits found.\n",
      "Not enough data. Returning nan\n",
      "Assuming nested distributions\n",
      "c:\\Users\\user\\anaconda3\\lib\\site-packages\\powerlaw.py:1383: RuntimeWarning: invalid value encountered in scalar divide\n",
      "  alpha = 1 + len(data)/sum( log( data / (self.xmin) ))\n",
      "No valid fits found.\n",
      "Not enough data. Returning nan\n",
      "c:\\Users\\user\\anaconda3\\lib\\site-packages\\numpy\\core\\_methods.py:206: RuntimeWarning: Degrees of freedom <= 0 for slice\n",
      "  ret = _var(a, axis=axis, dtype=dtype, out=out, ddof=ddof,\n",
      "c:\\Users\\user\\anaconda3\\lib\\site-packages\\numpy\\core\\_methods.py:163: RuntimeWarning: invalid value encountered in divide\n",
      "  arrmean = um.true_divide(arrmean, div, out=arrmean,\n",
      "c:\\Users\\user\\anaconda3\\lib\\site-packages\\numpy\\core\\_methods.py:198: RuntimeWarning: invalid value encountered in scalar divide\n",
      "  ret = ret.dtype.type(ret / rcount)\n",
      "No valid fits found.\n",
      "Not enough data. Returning nan\n",
      "Assuming nested distributions\n"
     ]
    },
    {
     "name": "stdout",
     "output_type": "stream",
     "text": [
      "xmin progress: 50%\r"
     ]
    },
    {
     "name": "stderr",
     "output_type": "stream",
     "text": [
      "Less than 2 unique data values left after xmin and xmax options! Cannot fit. Returning nans.\n",
      "c:\\Users\\user\\anaconda3\\lib\\site-packages\\powerlaw.py:1151: RuntimeWarning: invalid value encountered in scalar divide\n",
      "  self.alpha = 1 + (self.n / sum(log(data/self.xmin)))\n",
      "c:\\Users\\user\\anaconda3\\lib\\site-packages\\powerlaw.py:1170: RuntimeWarning: invalid value encountered in scalar divide\n",
      "  return 1 + len(data)/sum(log(data / (self.xmin)))\n",
      "Not enough data. Returning nan\n",
      "Not enough data. Returning nan\n",
      "c:\\Users\\user\\anaconda3\\lib\\site-packages\\numpy\\core\\fromnumeric.py:3504: RuntimeWarning: Mean of empty slice.\n",
      "  return _methods._mean(a, axis=axis, dtype=dtype,\n",
      "c:\\Users\\user\\anaconda3\\lib\\site-packages\\numpy\\core\\_methods.py:129: RuntimeWarning: invalid value encountered in scalar divide\n",
      "  ret = ret.dtype.type(ret / rcount)\n",
      "No valid fits found.\n",
      "Not enough data. Returning nan\n",
      "Assuming nested distributions\n",
      "c:\\Users\\user\\anaconda3\\lib\\site-packages\\powerlaw.py:1383: RuntimeWarning: invalid value encountered in scalar divide\n",
      "  alpha = 1 + len(data)/sum( log( data / (self.xmin) ))\n",
      "No valid fits found.\n",
      "Not enough data. Returning nan\n",
      "c:\\Users\\user\\anaconda3\\lib\\site-packages\\numpy\\core\\_methods.py:206: RuntimeWarning: Degrees of freedom <= 0 for slice\n",
      "  ret = _var(a, axis=axis, dtype=dtype, out=out, ddof=ddof,\n",
      "c:\\Users\\user\\anaconda3\\lib\\site-packages\\numpy\\core\\_methods.py:163: RuntimeWarning: invalid value encountered in divide\n",
      "  arrmean = um.true_divide(arrmean, div, out=arrmean,\n",
      "c:\\Users\\user\\anaconda3\\lib\\site-packages\\numpy\\core\\_methods.py:198: RuntimeWarning: invalid value encountered in scalar divide\n",
      "  ret = ret.dtype.type(ret / rcount)\n",
      "No valid fits found.\n",
      "Not enough data. Returning nan\n",
      "Assuming nested distributions"
     ]
    },
    {
     "name": "stdout",
     "output_type": "stream",
     "text": [
      "xmin progress: 00%\r"
     ]
    },
    {
     "name": "stderr",
     "output_type": "stream",
     "text": [
      "\n",
      "c:\\Users\\user\\anaconda3\\lib\\site-packages\\powerlaw.py:1615: RuntimeWarning: invalid value encountered in divide\n",
      "  CDF = CDF/norm\n",
      "'nan' in fit cumulative distribution values.\n",
      "Likely underflow or overflow error: the optimal fit for this distribution gives values that are so extreme that we lack the numerical precision to calculate them.\n",
      "Less than 2 unique data values left after xmin and xmax options! Cannot fit. Returning nans.\n",
      "Not enough data. Returning nan\n",
      "Not enough data. Returning nan\n",
      "No valid fits found.\n",
      "Not enough data. Returning nan\n",
      "Assuming nested distributions\n",
      "No valid fits found.\n",
      "Not enough data. Returning nan\n",
      "No valid fits found.\n",
      "Not enough data. Returning nan\n",
      "Less than 2 unique data values left after xmin and xmax options! Cannot fit. Returning nans.\n",
      "Not enough data. Returning nan\n",
      "Not enough data. Returning nan\n",
      "No valid fits found.\n",
      "Not enough data. Returning nan\n",
      "Assuming nested distributions\n",
      "No valid fits found.\n",
      "Not enough data. Returning nan\n",
      "No valid fits found.\n",
      "Not enough data. Returning nan\n",
      "Assuming nested distributions\n"
     ]
    },
    {
     "name": "stdout",
     "output_type": "stream",
     "text": [
      "xmin progress: 00%\r"
     ]
    },
    {
     "name": "stderr",
     "output_type": "stream",
     "text": [
      "'nan' in fit cumulative distribution values.\n",
      "Likely underflow or overflow error: the optimal fit for this distribution gives values that are so extreme that we lack the numerical precision to calculate them.\n",
      "Less than 2 unique data values left after xmin and xmax options! Cannot fit. Returning nans.\n",
      "c:\\Users\\user\\anaconda3\\lib\\site-packages\\powerlaw.py:1151: RuntimeWarning: invalid value encountered in scalar divide\n",
      "  self.alpha = 1 + (self.n / sum(log(data/self.xmin)))\n",
      "c:\\Users\\user\\anaconda3\\lib\\site-packages\\powerlaw.py:1170: RuntimeWarning: invalid value encountered in scalar divide\n",
      "  return 1 + len(data)/sum(log(data / (self.xmin)))\n",
      "Not enough data. Returning nan\n",
      "Not enough data. Returning nan\n",
      "c:\\Users\\user\\anaconda3\\lib\\site-packages\\numpy\\core\\fromnumeric.py:3504: RuntimeWarning: Mean of empty slice.\n",
      "  return _methods._mean(a, axis=axis, dtype=dtype,\n",
      "c:\\Users\\user\\anaconda3\\lib\\site-packages\\numpy\\core\\_methods.py:129: RuntimeWarning: invalid value encountered in scalar divide\n",
      "  ret = ret.dtype.type(ret / rcount)\n",
      "No valid fits found.\n",
      "Not enough data. Returning nan\n",
      "Assuming nested distributions\n",
      "c:\\Users\\user\\anaconda3\\lib\\site-packages\\powerlaw.py:1383: RuntimeWarning: invalid value encountered in scalar divide\n",
      "  alpha = 1 + len(data)/sum( log( data / (self.xmin) ))\n",
      "No valid fits found.\n",
      "Not enough data. Returning nan\n",
      "c:\\Users\\user\\anaconda3\\lib\\site-packages\\numpy\\core\\_methods.py:206: RuntimeWarning: Degrees of freedom <= 0 for slice\n",
      "  ret = _var(a, axis=axis, dtype=dtype, out=out, ddof=ddof,\n",
      "c:\\Users\\user\\anaconda3\\lib\\site-packages\\numpy\\core\\_methods.py:163: RuntimeWarning: invalid value encountered in divide\n",
      "  arrmean = um.true_divide(arrmean, div, out=arrmean,\n",
      "c:\\Users\\user\\anaconda3\\lib\\site-packages\\numpy\\core\\_methods.py:198: RuntimeWarning: invalid value encountered in scalar divide\n",
      "  ret = ret.dtype.type(ret / rcount)\n",
      "No valid fits found.\n",
      "Not enough data. Returning nan\n",
      "Less than 2 unique data values left after xmin and xmax options! Cannot fit. Returning nans.\n",
      "Not enough data. Returning nan\n",
      "Not enough data. Returning nan\n",
      "No valid fits found.\n",
      "Not enough data. Returning nan\n",
      "Assuming nested distributions\n",
      "No valid fits found.\n",
      "Not enough data. Returning nan\n",
      "No valid fits found.\n",
      "Not enough data. Returning nan\n",
      "Less than 2 unique data values left after xmin and xmax options! Cannot fit. Returning nans.\n",
      "Not enough data. Returning nan\n",
      "Not enough data. Returning nan\n",
      "No valid fits found.\n",
      "Not enough data. Returning nan\n",
      "Assuming nested distributions\n",
      "No valid fits found.\n",
      "Not enough data. Returning nan\n",
      "No valid fits found.\n",
      "Not enough data. Returning nan\n",
      "Less than 2 unique data values left after xmin and xmax options! Cannot fit. Returning nans.\n",
      "Not enough data. Returning nan\n",
      "Not enough data. Returning nan\n",
      "No valid fits found.\n",
      "Not enough data. Returning nan\n",
      "Assuming nested distributions\n",
      "No valid fits found.\n",
      "Not enough data. Returning nan\n",
      "No valid fits found.\n",
      "Not enough data. Returning nan\n",
      "Less than 2 unique data values left after xmin and xmax options! Cannot fit. Returning nans.\n",
      "Not enough data. Returning nan\n",
      "Not enough data. Returning nan\n",
      "No valid fits found.\n",
      "Not enough data. Returning nan\n",
      "Assuming nested distributions\n",
      "No valid fits found.\n",
      "Not enough data. Returning nan\n",
      "No valid fits found.\n",
      "Not enough data. Returning nan\n",
      "Less than 2 unique data values left after xmin and xmax options! Cannot fit. Returning nans.\n",
      "c:\\Users\\user\\anaconda3\\lib\\site-packages\\powerlaw.py:1151: RuntimeWarning: invalid value encountered in scalar divide\n",
      "  self.alpha = 1 + (self.n / sum(log(data/self.xmin)))\n",
      "c:\\Users\\user\\anaconda3\\lib\\site-packages\\powerlaw.py:1170: RuntimeWarning: invalid value encountered in scalar divide\n",
      "  return 1 + len(data)/sum(log(data / (self.xmin)))\n",
      "Not enough data. Returning nan\n",
      "Not enough data. Returning nan\n",
      "c:\\Users\\user\\anaconda3\\lib\\site-packages\\numpy\\core\\fromnumeric.py:3504: RuntimeWarning: Mean of empty slice.\n",
      "  return _methods._mean(a, axis=axis, dtype=dtype,\n",
      "c:\\Users\\user\\anaconda3\\lib\\site-packages\\numpy\\core\\_methods.py:129: RuntimeWarning: invalid value encountered in scalar divide\n",
      "  ret = ret.dtype.type(ret / rcount)\n",
      "No valid fits found.\n",
      "Not enough data. Returning nan\n",
      "Assuming nested distributions\n",
      "c:\\Users\\user\\anaconda3\\lib\\site-packages\\powerlaw.py:1383: RuntimeWarning: invalid value encountered in scalar divide\n",
      "  alpha = 1 + len(data)/sum( log( data / (self.xmin) ))\n",
      "No valid fits found.\n",
      "Not enough data. Returning nan\n",
      "c:\\Users\\user\\anaconda3\\lib\\site-packages\\numpy\\core\\_methods.py:206: RuntimeWarning: Degrees of freedom <= 0 for slice\n",
      "  ret = _var(a, axis=axis, dtype=dtype, out=out, ddof=ddof,\n",
      "c:\\Users\\user\\anaconda3\\lib\\site-packages\\numpy\\core\\_methods.py:163: RuntimeWarning: invalid value encountered in divide\n",
      "  arrmean = um.true_divide(arrmean, div, out=arrmean,\n",
      "c:\\Users\\user\\anaconda3\\lib\\site-packages\\numpy\\core\\_methods.py:198: RuntimeWarning: invalid value encountered in scalar divide\n",
      "  ret = ret.dtype.type(ret / rcount)\n",
      "No valid fits found.\n",
      "Not enough data. Returning nan\n",
      "Less than 2 unique data values left after xmin and xmax options! Cannot fit. Returning nans.\n",
      "Not enough data. Returning nan\n",
      "Not enough data. Returning nan\n",
      "No valid fits found.\n",
      "Not enough data. Returning nan\n",
      "Assuming nested distributions\n",
      "No valid fits found.\n",
      "Not enough data. Returning nan\n",
      "No valid fits found.\n",
      "Not enough data. Returning nan\n",
      "Less than 2 unique data values left after xmin and xmax options! Cannot fit. Returning nans.\n",
      "Not enough data. Returning nan\n",
      "Not enough data. Returning nan\n",
      "No valid fits found.\n",
      "Not enough data. Returning nan\n",
      "Assuming nested distributions\n",
      "No valid fits found.\n",
      "Not enough data. Returning nan\n",
      "No valid fits found.\n",
      "Not enough data. Returning nan\n",
      "Less than 2 unique data values left after xmin and xmax options! Cannot fit. Returning nans.\n",
      "Not enough data. Returning nan\n",
      "Not enough data. Returning nan\n",
      "No valid fits found.\n",
      "Not enough data. Returning nan\n",
      "Assuming nested distributions\n",
      "No valid fits found.\n",
      "Not enough data. Returning nan\n",
      "No valid fits found.\n",
      "Not enough data. Returning nan\n",
      "Less than 2 unique data values left after xmin and xmax options! Cannot fit. Returning nans.\n",
      "Not enough data. Returning nan\n",
      "Not enough data. Returning nan\n",
      "No valid fits found.\n",
      "Not enough data. Returning nan\n",
      "Assuming nested distributions\n",
      "No valid fits found.\n",
      "Not enough data. Returning nan\n",
      "No valid fits found.\n",
      "Not enough data. Returning nan\n",
      "Less than 2 unique data values left after xmin and xmax options! Cannot fit. Returning nans.\n",
      "c:\\Users\\user\\anaconda3\\lib\\site-packages\\powerlaw.py:1151: RuntimeWarning: invalid value encountered in scalar divide\n",
      "  self.alpha = 1 + (self.n / sum(log(data/self.xmin)))\n",
      "c:\\Users\\user\\anaconda3\\lib\\site-packages\\powerlaw.py:1170: RuntimeWarning: invalid value encountered in scalar divide\n",
      "  return 1 + len(data)/sum(log(data / (self.xmin)))\n",
      "Not enough data. Returning nan\n",
      "Not enough data. Returning nan\n",
      "c:\\Users\\user\\anaconda3\\lib\\site-packages\\numpy\\core\\fromnumeric.py:3504: RuntimeWarning: Mean of empty slice.\n",
      "  return _methods._mean(a, axis=axis, dtype=dtype,\n",
      "c:\\Users\\user\\anaconda3\\lib\\site-packages\\numpy\\core\\_methods.py:129: RuntimeWarning: invalid value encountered in scalar divide\n",
      "  ret = ret.dtype.type(ret / rcount)\n",
      "No valid fits found.\n",
      "Not enough data. Returning nan\n",
      "Assuming nested distributions\n",
      "c:\\Users\\user\\anaconda3\\lib\\site-packages\\powerlaw.py:1383: RuntimeWarning: invalid value encountered in scalar divide\n",
      "  alpha = 1 + len(data)/sum( log( data / (self.xmin) ))\n",
      "No valid fits found.\n",
      "Not enough data. Returning nan\n",
      "c:\\Users\\user\\anaconda3\\lib\\site-packages\\numpy\\core\\_methods.py:206: RuntimeWarning: Degrees of freedom <= 0 for slice\n",
      "  ret = _var(a, axis=axis, dtype=dtype, out=out, ddof=ddof,\n",
      "c:\\Users\\user\\anaconda3\\lib\\site-packages\\numpy\\core\\_methods.py:163: RuntimeWarning: invalid value encountered in divide\n",
      "  arrmean = um.true_divide(arrmean, div, out=arrmean,\n",
      "c:\\Users\\user\\anaconda3\\lib\\site-packages\\numpy\\core\\_methods.py:198: RuntimeWarning: invalid value encountered in scalar divide\n",
      "  ret = ret.dtype.type(ret / rcount)\n",
      "No valid fits found.\n",
      "Not enough data. Returning nan\n",
      "Less than 2 unique data values left after xmin and xmax options! Cannot fit. Returning nans.\n",
      "Not enough data. Returning nan\n",
      "Not enough data. Returning nan\n",
      "No valid fits found.\n",
      "Not enough data. Returning nan\n",
      "Assuming nested distributions\n",
      "No valid fits found.\n",
      "Not enough data. Returning nan\n",
      "No valid fits found.\n",
      "Not enough data. Returning nan\n",
      "Less than 2 unique data values left after xmin and xmax options! Cannot fit. Returning nans.\n",
      "Not enough data. Returning nan\n",
      "Not enough data. Returning nan\n",
      "No valid fits found.\n",
      "Not enough data. Returning nan\n",
      "Assuming nested distributions\n",
      "No valid fits found.\n",
      "Not enough data. Returning nan\n",
      "No valid fits found.\n",
      "Not enough data. Returning nan\n",
      "Less than 2 unique data values left after xmin and xmax options! Cannot fit. Returning nans.\n",
      "Not enough data. Returning nan\n",
      "Not enough data. Returning nan\n",
      "No valid fits found.\n",
      "Not enough data. Returning nan\n",
      "Assuming nested distributions\n",
      "No valid fits found.\n",
      "Not enough data. Returning nan\n",
      "No valid fits found.\n",
      "Not enough data. Returning nan\n",
      "Less than 2 unique data values left after xmin and xmax options! Cannot fit. Returning nans.\n",
      "Not enough data. Returning nan\n",
      "Not enough data. Returning nan\n",
      "No valid fits found.\n",
      "Not enough data. Returning nan\n",
      "Assuming nested distributions\n",
      "No valid fits found.\n",
      "Not enough data. Returning nan\n",
      "No valid fits found.\n",
      "Not enough data. Returning nan\n",
      "Less than 2 unique data values left after xmin and xmax options! Cannot fit. Returning nans.\n",
      "c:\\Users\\user\\anaconda3\\lib\\site-packages\\powerlaw.py:1151: RuntimeWarning: invalid value encountered in scalar divide\n",
      "  self.alpha = 1 + (self.n / sum(log(data/self.xmin)))\n",
      "c:\\Users\\user\\anaconda3\\lib\\site-packages\\powerlaw.py:1170: RuntimeWarning: invalid value encountered in scalar divide\n",
      "  return 1 + len(data)/sum(log(data / (self.xmin)))\n",
      "Not enough data. Returning nan\n",
      "Not enough data. Returning nan\n",
      "c:\\Users\\user\\anaconda3\\lib\\site-packages\\numpy\\core\\fromnumeric.py:3504: RuntimeWarning: Mean of empty slice.\n",
      "  return _methods._mean(a, axis=axis, dtype=dtype,\n",
      "c:\\Users\\user\\anaconda3\\lib\\site-packages\\numpy\\core\\_methods.py:129: RuntimeWarning: invalid value encountered in scalar divide\n",
      "  ret = ret.dtype.type(ret / rcount)\n",
      "No valid fits found.\n",
      "Not enough data. Returning nan\n",
      "Assuming nested distributions\n",
      "c:\\Users\\user\\anaconda3\\lib\\site-packages\\powerlaw.py:1383: RuntimeWarning: invalid value encountered in scalar divide\n",
      "  alpha = 1 + len(data)/sum( log( data / (self.xmin) ))\n",
      "No valid fits found.\n",
      "Not enough data. Returning nan\n",
      "c:\\Users\\user\\anaconda3\\lib\\site-packages\\numpy\\core\\_methods.py:206: RuntimeWarning: Degrees of freedom <= 0 for slice\n",
      "  ret = _var(a, axis=axis, dtype=dtype, out=out, ddof=ddof,\n",
      "c:\\Users\\user\\anaconda3\\lib\\site-packages\\numpy\\core\\_methods.py:163: RuntimeWarning: invalid value encountered in divide\n",
      "  arrmean = um.true_divide(arrmean, div, out=arrmean,\n",
      "c:\\Users\\user\\anaconda3\\lib\\site-packages\\numpy\\core\\_methods.py:198: RuntimeWarning: invalid value encountered in scalar divide\n",
      "  ret = ret.dtype.type(ret / rcount)\n",
      "No valid fits found.\n",
      "Not enough data. Returning nan\n",
      "Less than 2 unique data values left after xmin and xmax options! Cannot fit. Returning nans.\n",
      "Not enough data. Returning nan\n",
      "Not enough data. Returning nan\n",
      "No valid fits found.\n",
      "Not enough data. Returning nan\n",
      "Assuming nested distributions\n",
      "No valid fits found.\n",
      "Not enough data. Returning nan\n",
      "No valid fits found.\n",
      "Not enough data. Returning nan\n",
      "Less than 2 unique data values left after xmin and xmax options! Cannot fit. Returning nans.\n",
      "Not enough data. Returning nan\n",
      "Not enough data. Returning nan\n",
      "No valid fits found.\n",
      "Not enough data. Returning nan\n",
      "Assuming nested distributions\n",
      "No valid fits found.\n",
      "Not enough data. Returning nan\n",
      "No valid fits found.\n",
      "Not enough data. Returning nan\n",
      "Less than 2 unique data values left after xmin and xmax options! Cannot fit. Returning nans.\n",
      "Not enough data. Returning nan\n",
      "Not enough data. Returning nan\n",
      "No valid fits found.\n",
      "Not enough data. Returning nan\n",
      "Assuming nested distributions\n",
      "No valid fits found.\n",
      "Not enough data. Returning nan\n",
      "No valid fits found.\n",
      "Not enough data. Returning nan\n",
      "Less than 2 unique data values left after xmin and xmax options! Cannot fit. Returning nans.\n",
      "Not enough data. Returning nan\n",
      "Not enough data. Returning nan\n",
      "No valid fits found.\n",
      "Not enough data. Returning nan\n",
      "Assuming nested distributions\n",
      "No valid fits found.\n",
      "Not enough data. Returning nan\n",
      "No valid fits found.\n",
      "Not enough data. Returning nan\n",
      "Less than 2 unique data values left after xmin and xmax options! Cannot fit. Returning nans.\n",
      "c:\\Users\\user\\anaconda3\\lib\\site-packages\\powerlaw.py:1151: RuntimeWarning: invalid value encountered in scalar divide\n",
      "  self.alpha = 1 + (self.n / sum(log(data/self.xmin)))\n",
      "c:\\Users\\user\\anaconda3\\lib\\site-packages\\powerlaw.py:1170: RuntimeWarning: invalid value encountered in scalar divide\n",
      "  return 1 + len(data)/sum(log(data / (self.xmin)))\n",
      "Not enough data. Returning nan\n",
      "Not enough data. Returning nan\n",
      "c:\\Users\\user\\anaconda3\\lib\\site-packages\\numpy\\core\\fromnumeric.py:3504: RuntimeWarning: Mean of empty slice.\n",
      "  return _methods._mean(a, axis=axis, dtype=dtype,\n",
      "c:\\Users\\user\\anaconda3\\lib\\site-packages\\numpy\\core\\_methods.py:129: RuntimeWarning: invalid value encountered in scalar divide\n",
      "  ret = ret.dtype.type(ret / rcount)\n",
      "No valid fits found.\n",
      "Not enough data. Returning nan\n",
      "Assuming nested distributions\n",
      "c:\\Users\\user\\anaconda3\\lib\\site-packages\\powerlaw.py:1383: RuntimeWarning: invalid value encountered in scalar divide\n",
      "  alpha = 1 + len(data)/sum( log( data / (self.xmin) ))\n",
      "No valid fits found.\n",
      "Not enough data. Returning nan\n",
      "c:\\Users\\user\\anaconda3\\lib\\site-packages\\numpy\\core\\_methods.py:206: RuntimeWarning: Degrees of freedom <= 0 for slice\n",
      "  ret = _var(a, axis=axis, dtype=dtype, out=out, ddof=ddof,\n",
      "c:\\Users\\user\\anaconda3\\lib\\site-packages\\numpy\\core\\_methods.py:163: RuntimeWarning: invalid value encountered in divide\n",
      "  arrmean = um.true_divide(arrmean, div, out=arrmean,\n",
      "c:\\Users\\user\\anaconda3\\lib\\site-packages\\numpy\\core\\_methods.py:198: RuntimeWarning: invalid value encountered in scalar divide\n",
      "  ret = ret.dtype.type(ret / rcount)\n",
      "No valid fits found.\n",
      "Not enough data. Returning nan\n",
      "Less than 2 unique data values left after xmin and xmax options! Cannot fit. Returning nans.\n",
      "Not enough data. Returning nan\n",
      "Not enough data. Returning nan\n",
      "No valid fits found.\n",
      "Not enough data. Returning nan\n",
      "Assuming nested distributions\n",
      "No valid fits found.\n",
      "Not enough data. Returning nan\n",
      "No valid fits found.\n",
      "Not enough data. Returning nan\n",
      "Less than 2 unique data values left after xmin and xmax options! Cannot fit. Returning nans.\n",
      "Not enough data. Returning nan\n",
      "Not enough data. Returning nan\n",
      "No valid fits found.\n",
      "Not enough data. Returning nan\n",
      "Assuming nested distributions\n",
      "No valid fits found.\n",
      "Not enough data. Returning nan\n",
      "No valid fits found.\n",
      "Not enough data. Returning nan\n",
      "Less than 2 unique data values left after xmin and xmax options! Cannot fit. Returning nans.\n",
      "Not enough data. Returning nan\n",
      "Not enough data. Returning nan\n",
      "No valid fits found.\n",
      "Not enough data. Returning nan\n",
      "Assuming nested distributions\n",
      "No valid fits found.\n",
      "Not enough data. Returning nan\n",
      "No valid fits found.\n",
      "Not enough data. Returning nan\n",
      "Less than 2 unique data values left after xmin and xmax options! Cannot fit. Returning nans.\n",
      "Not enough data. Returning nan\n",
      "Not enough data. Returning nan\n",
      "No valid fits found.\n",
      "Not enough data. Returning nan\n",
      "Assuming nested distributions\n",
      "No valid fits found.\n",
      "Not enough data. Returning nan\n",
      "No valid fits found.\n",
      "Not enough data. Returning nan\n",
      "Less than 2 unique data values left after xmin and xmax options! Cannot fit. Returning nans.\n",
      "c:\\Users\\user\\anaconda3\\lib\\site-packages\\powerlaw.py:1151: RuntimeWarning: invalid value encountered in scalar divide\n",
      "  self.alpha = 1 + (self.n / sum(log(data/self.xmin)))\n",
      "c:\\Users\\user\\anaconda3\\lib\\site-packages\\powerlaw.py:1170: RuntimeWarning: invalid value encountered in scalar divide\n",
      "  return 1 + len(data)/sum(log(data / (self.xmin)))\n",
      "Not enough data. Returning nan\n",
      "Not enough data. Returning nan\n",
      "c:\\Users\\user\\anaconda3\\lib\\site-packages\\numpy\\core\\fromnumeric.py:3504: RuntimeWarning: Mean of empty slice.\n",
      "  return _methods._mean(a, axis=axis, dtype=dtype,\n",
      "c:\\Users\\user\\anaconda3\\lib\\site-packages\\numpy\\core\\_methods.py:129: RuntimeWarning: invalid value encountered in scalar divide\n",
      "  ret = ret.dtype.type(ret / rcount)\n",
      "No valid fits found.\n",
      "Not enough data. Returning nan\n",
      "Assuming nested distributions\n",
      "c:\\Users\\user\\anaconda3\\lib\\site-packages\\powerlaw.py:1383: RuntimeWarning: invalid value encountered in scalar divide\n",
      "  alpha = 1 + len(data)/sum( log( data / (self.xmin) ))\n",
      "No valid fits found.\n",
      "Not enough data. Returning nan\n",
      "c:\\Users\\user\\anaconda3\\lib\\site-packages\\numpy\\core\\_methods.py:206: RuntimeWarning: Degrees of freedom <= 0 for slice\n",
      "  ret = _var(a, axis=axis, dtype=dtype, out=out, ddof=ddof,\n",
      "c:\\Users\\user\\anaconda3\\lib\\site-packages\\numpy\\core\\_methods.py:163: RuntimeWarning: invalid value encountered in divide\n",
      "  arrmean = um.true_divide(arrmean, div, out=arrmean,\n",
      "c:\\Users\\user\\anaconda3\\lib\\site-packages\\numpy\\core\\_methods.py:198: RuntimeWarning: invalid value encountered in scalar divide\n",
      "  ret = ret.dtype.type(ret / rcount)\n",
      "No valid fits found.\n",
      "Not enough data. Returning nan\n",
      "Less than 2 unique data values left after xmin and xmax options! Cannot fit. Returning nans.\n",
      "Not enough data. Returning nan\n",
      "Not enough data. Returning nan\n",
      "No valid fits found.\n",
      "Not enough data. Returning nan\n",
      "Assuming nested distributions\n",
      "No valid fits found.\n",
      "Not enough data. Returning nan\n",
      "No valid fits found.\n",
      "Not enough data. Returning nan\n",
      "Less than 2 unique data values left after xmin and xmax options! Cannot fit. Returning nans.\n",
      "Not enough data. Returning nan\n",
      "Not enough data. Returning nan\n",
      "No valid fits found.\n",
      "Not enough data. Returning nan\n",
      "Assuming nested distributions\n",
      "No valid fits found.\n",
      "Not enough data. Returning nan\n",
      "No valid fits found.\n",
      "Not enough data. Returning nan\n",
      "Less than 2 unique data values left after xmin and xmax options! Cannot fit. Returning nans.\n",
      "Not enough data. Returning nan\n",
      "Not enough data. Returning nan\n",
      "No valid fits found.\n",
      "Not enough data. Returning nan\n",
      "Assuming nested distributions\n",
      "No valid fits found.\n",
      "Not enough data. Returning nan\n",
      "No valid fits found.\n",
      "Not enough data. Returning nan\n",
      "Less than 2 unique data values left after xmin and xmax options! Cannot fit. Returning nans.\n",
      "Not enough data. Returning nan\n",
      "Not enough data. Returning nan\n",
      "No valid fits found.\n",
      "Not enough data. Returning nan\n",
      "Assuming nested distributions\n",
      "No valid fits found.\n",
      "Not enough data. Returning nan\n",
      "No valid fits found.\n",
      "Not enough data. Returning nan\n",
      "Less than 2 unique data values left after xmin and xmax options! Cannot fit. Returning nans.\n",
      "c:\\Users\\user\\anaconda3\\lib\\site-packages\\powerlaw.py:1151: RuntimeWarning: invalid value encountered in scalar divide\n",
      "  self.alpha = 1 + (self.n / sum(log(data/self.xmin)))\n",
      "c:\\Users\\user\\anaconda3\\lib\\site-packages\\powerlaw.py:1170: RuntimeWarning: invalid value encountered in scalar divide\n",
      "  return 1 + len(data)/sum(log(data / (self.xmin)))\n",
      "Not enough data. Returning nan\n",
      "Not enough data. Returning nan\n",
      "c:\\Users\\user\\anaconda3\\lib\\site-packages\\numpy\\core\\fromnumeric.py:3504: RuntimeWarning: Mean of empty slice.\n",
      "  return _methods._mean(a, axis=axis, dtype=dtype,\n",
      "c:\\Users\\user\\anaconda3\\lib\\site-packages\\numpy\\core\\_methods.py:129: RuntimeWarning: invalid value encountered in scalar divide\n",
      "  ret = ret.dtype.type(ret / rcount)\n",
      "No valid fits found.\n",
      "Not enough data. Returning nan\n",
      "Assuming nested distributions\n",
      "c:\\Users\\user\\anaconda3\\lib\\site-packages\\powerlaw.py:1383: RuntimeWarning: invalid value encountered in scalar divide\n",
      "  alpha = 1 + len(data)/sum( log( data / (self.xmin) ))\n",
      "No valid fits found.\n",
      "Not enough data. Returning nan\n",
      "c:\\Users\\user\\anaconda3\\lib\\site-packages\\numpy\\core\\_methods.py:206: RuntimeWarning: Degrees of freedom <= 0 for slice\n",
      "  ret = _var(a, axis=axis, dtype=dtype, out=out, ddof=ddof,\n",
      "c:\\Users\\user\\anaconda3\\lib\\site-packages\\numpy\\core\\_methods.py:163: RuntimeWarning: invalid value encountered in divide\n",
      "  arrmean = um.true_divide(arrmean, div, out=arrmean,\n",
      "c:\\Users\\user\\anaconda3\\lib\\site-packages\\numpy\\core\\_methods.py:198: RuntimeWarning: invalid value encountered in scalar divide\n",
      "  ret = ret.dtype.type(ret / rcount)\n",
      "No valid fits found.\n",
      "Not enough data. Returning nan\n",
      "Less than 2 unique data values left after xmin and xmax options! Cannot fit. Returning nans.\n",
      "Not enough data. Returning nan\n",
      "Not enough data. Returning nan\n",
      "No valid fits found.\n",
      "Not enough data. Returning nan\n",
      "Assuming nested distributions\n",
      "No valid fits found.\n",
      "Not enough data. Returning nan\n",
      "No valid fits found.\n",
      "Not enough data. Returning nan\n",
      "Less than 2 unique data values left after xmin and xmax options! Cannot fit. Returning nans.\n",
      "Not enough data. Returning nan\n",
      "Not enough data. Returning nan\n",
      "No valid fits found.\n",
      "Not enough data. Returning nan\n",
      "Assuming nested distributions\n",
      "No valid fits found.\n",
      "Not enough data. Returning nan\n",
      "No valid fits found.\n",
      "Not enough data. Returning nan\n",
      "Less than 2 unique data values left after xmin and xmax options! Cannot fit. Returning nans.\n",
      "Not enough data. Returning nan\n",
      "Not enough data. Returning nan\n",
      "No valid fits found.\n",
      "Not enough data. Returning nan\n",
      "Assuming nested distributions\n",
      "No valid fits found.\n",
      "Not enough data. Returning nan\n",
      "No valid fits found.\n",
      "Not enough data. Returning nan\n",
      "Less than 2 unique data values left after xmin and xmax options! Cannot fit. Returning nans.\n",
      "Not enough data. Returning nan\n",
      "Not enough data. Returning nan\n",
      "No valid fits found.\n",
      "Not enough data. Returning nan\n",
      "Assuming nested distributions\n",
      "No valid fits found.\n",
      "Not enough data. Returning nan\n",
      "No valid fits found.\n",
      "Not enough data. Returning nan\n",
      "Less than 2 unique data values left after xmin and xmax options! Cannot fit. Returning nans.\n",
      "c:\\Users\\user\\anaconda3\\lib\\site-packages\\powerlaw.py:1151: RuntimeWarning: invalid value encountered in scalar divide\n",
      "  self.alpha = 1 + (self.n / sum(log(data/self.xmin)))\n",
      "c:\\Users\\user\\anaconda3\\lib\\site-packages\\powerlaw.py:1170: RuntimeWarning: invalid value encountered in scalar divide\n",
      "  return 1 + len(data)/sum(log(data / (self.xmin)))\n",
      "Not enough data. Returning nan\n",
      "Not enough data. Returning nan\n",
      "c:\\Users\\user\\anaconda3\\lib\\site-packages\\numpy\\core\\fromnumeric.py:3504: RuntimeWarning: Mean of empty slice.\n",
      "  return _methods._mean(a, axis=axis, dtype=dtype,\n",
      "c:\\Users\\user\\anaconda3\\lib\\site-packages\\numpy\\core\\_methods.py:129: RuntimeWarning: invalid value encountered in scalar divide\n",
      "  ret = ret.dtype.type(ret / rcount)\n",
      "No valid fits found.\n",
      "Not enough data. Returning nan\n",
      "Assuming nested distributions\n",
      "c:\\Users\\user\\anaconda3\\lib\\site-packages\\powerlaw.py:1383: RuntimeWarning: invalid value encountered in scalar divide\n",
      "  alpha = 1 + len(data)/sum( log( data / (self.xmin) ))\n",
      "No valid fits found.\n",
      "Not enough data. Returning nan\n",
      "c:\\Users\\user\\anaconda3\\lib\\site-packages\\numpy\\core\\_methods.py:206: RuntimeWarning: Degrees of freedom <= 0 for slice\n",
      "  ret = _var(a, axis=axis, dtype=dtype, out=out, ddof=ddof,\n",
      "c:\\Users\\user\\anaconda3\\lib\\site-packages\\numpy\\core\\_methods.py:163: RuntimeWarning: invalid value encountered in divide\n",
      "  arrmean = um.true_divide(arrmean, div, out=arrmean,\n",
      "c:\\Users\\user\\anaconda3\\lib\\site-packages\\numpy\\core\\_methods.py:198: RuntimeWarning: invalid value encountered in scalar divide\n",
      "  ret = ret.dtype.type(ret / rcount)\n",
      "No valid fits found.\n",
      "Not enough data. Returning nan\n",
      "Less than 2 unique data values left after xmin and xmax options! Cannot fit. Returning nans.\n",
      "Not enough data. Returning nan\n",
      "Not enough data. Returning nan\n",
      "No valid fits found.\n",
      "Not enough data. Returning nan\n",
      "Assuming nested distributions\n",
      "No valid fits found.\n",
      "Not enough data. Returning nan\n",
      "No valid fits found.\n",
      "Not enough data. Returning nan\n",
      "Less than 2 unique data values left after xmin and xmax options! Cannot fit. Returning nans.\n",
      "Not enough data. Returning nan\n",
      "Not enough data. Returning nan\n",
      "No valid fits found.\n",
      "Not enough data. Returning nan\n",
      "Assuming nested distributions\n",
      "No valid fits found.\n",
      "Not enough data. Returning nan\n",
      "No valid fits found.\n",
      "Not enough data. Returning nan\n",
      "Less than 2 unique data values left after xmin and xmax options! Cannot fit. Returning nans.\n",
      "Not enough data. Returning nan\n",
      "Not enough data. Returning nan\n",
      "No valid fits found.\n",
      "Not enough data. Returning nan\n",
      "Assuming nested distributions\n",
      "No valid fits found.\n",
      "Not enough data. Returning nan\n",
      "No valid fits found.\n",
      "Not enough data. Returning nan\n",
      "Less than 2 unique data values left after xmin and xmax options! Cannot fit. Returning nans.\n",
      "Not enough data. Returning nan\n",
      "Not enough data. Returning nan\n",
      "No valid fits found.\n",
      "Not enough data. Returning nan\n",
      "Assuming nested distributions\n",
      "No valid fits found.\n",
      "Not enough data. Returning nan\n",
      "No valid fits found.\n",
      "Not enough data. Returning nan\n",
      "Less than 2 unique data values left after xmin and xmax options! Cannot fit. Returning nans.\n",
      "c:\\Users\\user\\anaconda3\\lib\\site-packages\\powerlaw.py:1151: RuntimeWarning: invalid value encountered in scalar divide\n",
      "  self.alpha = 1 + (self.n / sum(log(data/self.xmin)))\n",
      "c:\\Users\\user\\anaconda3\\lib\\site-packages\\powerlaw.py:1170: RuntimeWarning: invalid value encountered in scalar divide\n",
      "  return 1 + len(data)/sum(log(data / (self.xmin)))\n",
      "Not enough data. Returning nan\n",
      "Not enough data. Returning nan\n",
      "c:\\Users\\user\\anaconda3\\lib\\site-packages\\numpy\\core\\fromnumeric.py:3504: RuntimeWarning: Mean of empty slice.\n",
      "  return _methods._mean(a, axis=axis, dtype=dtype,\n",
      "c:\\Users\\user\\anaconda3\\lib\\site-packages\\numpy\\core\\_methods.py:129: RuntimeWarning: invalid value encountered in scalar divide\n",
      "  ret = ret.dtype.type(ret / rcount)\n",
      "No valid fits found.\n",
      "Not enough data. Returning nan\n",
      "Assuming nested distributions\n",
      "c:\\Users\\user\\anaconda3\\lib\\site-packages\\powerlaw.py:1383: RuntimeWarning: invalid value encountered in scalar divide\n",
      "  alpha = 1 + len(data)/sum( log( data / (self.xmin) ))\n",
      "No valid fits found.\n",
      "Not enough data. Returning nan\n",
      "c:\\Users\\user\\anaconda3\\lib\\site-packages\\numpy\\core\\_methods.py:206: RuntimeWarning: Degrees of freedom <= 0 for slice\n",
      "  ret = _var(a, axis=axis, dtype=dtype, out=out, ddof=ddof,\n",
      "c:\\Users\\user\\anaconda3\\lib\\site-packages\\numpy\\core\\_methods.py:163: RuntimeWarning: invalid value encountered in divide\n",
      "  arrmean = um.true_divide(arrmean, div, out=arrmean,\n",
      "c:\\Users\\user\\anaconda3\\lib\\site-packages\\numpy\\core\\_methods.py:198: RuntimeWarning: invalid value encountered in scalar divide\n",
      "  ret = ret.dtype.type(ret / rcount)\n",
      "No valid fits found.\n",
      "Not enough data. Returning nan\n",
      "Less than 2 unique data values left after xmin and xmax options! Cannot fit. Returning nans.\n",
      "Not enough data. Returning nan\n",
      "Not enough data. Returning nan\n",
      "No valid fits found.\n",
      "Not enough data. Returning nan\n",
      "Assuming nested distributions\n",
      "No valid fits found.\n",
      "Not enough data. Returning nan\n",
      "No valid fits found.\n",
      "Not enough data. Returning nan\n",
      "Less than 2 unique data values left after xmin and xmax options! Cannot fit. Returning nans.\n",
      "Not enough data. Returning nan\n",
      "Not enough data. Returning nan\n",
      "No valid fits found.\n",
      "Not enough data. Returning nan\n",
      "Assuming nested distributions\n",
      "No valid fits found.\n",
      "Not enough data. Returning nan\n",
      "No valid fits found.\n",
      "Not enough data. Returning nan\n",
      "Less than 2 unique data values left after xmin and xmax options! Cannot fit. Returning nans.\n",
      "Not enough data. Returning nan\n",
      "Not enough data. Returning nan\n",
      "No valid fits found.\n",
      "Not enough data. Returning nan\n",
      "Assuming nested distributions\n",
      "No valid fits found.\n",
      "Not enough data. Returning nan\n",
      "No valid fits found.\n",
      "Not enough data. Returning nan\n",
      "Less than 2 unique data values left after xmin and xmax options! Cannot fit. Returning nans.\n",
      "Not enough data. Returning nan\n",
      "Not enough data. Returning nan\n",
      "No valid fits found.\n",
      "Not enough data. Returning nan\n",
      "Assuming nested distributions\n",
      "No valid fits found.\n",
      "Not enough data. Returning nan\n",
      "No valid fits found.\n",
      "Not enough data. Returning nan\n",
      "Less than 2 unique data values left after xmin and xmax options! Cannot fit. Returning nans.\n",
      "c:\\Users\\user\\anaconda3\\lib\\site-packages\\powerlaw.py:1151: RuntimeWarning: invalid value encountered in scalar divide\n",
      "  self.alpha = 1 + (self.n / sum(log(data/self.xmin)))\n",
      "c:\\Users\\user\\anaconda3\\lib\\site-packages\\powerlaw.py:1170: RuntimeWarning: invalid value encountered in scalar divide\n",
      "  return 1 + len(data)/sum(log(data / (self.xmin)))\n",
      "Not enough data. Returning nan\n",
      "Not enough data. Returning nan\n",
      "c:\\Users\\user\\anaconda3\\lib\\site-packages\\numpy\\core\\fromnumeric.py:3504: RuntimeWarning: Mean of empty slice.\n",
      "  return _methods._mean(a, axis=axis, dtype=dtype,\n",
      "c:\\Users\\user\\anaconda3\\lib\\site-packages\\numpy\\core\\_methods.py:129: RuntimeWarning: invalid value encountered in scalar divide\n",
      "  ret = ret.dtype.type(ret / rcount)\n",
      "No valid fits found.\n",
      "Not enough data. Returning nan\n",
      "Assuming nested distributions\n",
      "c:\\Users\\user\\anaconda3\\lib\\site-packages\\powerlaw.py:1383: RuntimeWarning: invalid value encountered in scalar divide\n",
      "  alpha = 1 + len(data)/sum( log( data / (self.xmin) ))\n",
      "No valid fits found.\n",
      "Not enough data. Returning nan\n",
      "c:\\Users\\user\\anaconda3\\lib\\site-packages\\numpy\\core\\_methods.py:206: RuntimeWarning: Degrees of freedom <= 0 for slice\n",
      "  ret = _var(a, axis=axis, dtype=dtype, out=out, ddof=ddof,\n",
      "c:\\Users\\user\\anaconda3\\lib\\site-packages\\numpy\\core\\_methods.py:163: RuntimeWarning: invalid value encountered in divide\n",
      "  arrmean = um.true_divide(arrmean, div, out=arrmean,\n",
      "c:\\Users\\user\\anaconda3\\lib\\site-packages\\numpy\\core\\_methods.py:198: RuntimeWarning: invalid value encountered in scalar divide\n",
      "  ret = ret.dtype.type(ret / rcount)\n",
      "No valid fits found.\n",
      "Not enough data. Returning nan\n",
      "Less than 2 unique data values left after xmin and xmax options! Cannot fit. Returning nans.\n",
      "Not enough data. Returning nan\n",
      "Not enough data. Returning nan\n",
      "No valid fits found.\n",
      "Not enough data. Returning nan\n",
      "Assuming nested distributions\n",
      "No valid fits found.\n",
      "Not enough data. Returning nan\n",
      "No valid fits found.\n",
      "Not enough data. Returning nan\n",
      "Less than 2 unique data values left after xmin and xmax options! Cannot fit. Returning nans.\n",
      "Not enough data. Returning nan\n",
      "Not enough data. Returning nan\n",
      "No valid fits found.\n",
      "Not enough data. Returning nan\n",
      "Assuming nested distributions\n",
      "No valid fits found.\n",
      "Not enough data. Returning nan\n",
      "No valid fits found.\n",
      "Not enough data. Returning nan\n",
      "Less than 2 unique data values left after xmin and xmax options! Cannot fit. Returning nans.\n",
      "Not enough data. Returning nan\n",
      "Not enough data. Returning nan\n",
      "No valid fits found.\n",
      "Not enough data. Returning nan\n",
      "Assuming nested distributions\n",
      "No valid fits found.\n",
      "Not enough data. Returning nan\n",
      "No valid fits found.\n",
      "Not enough data. Returning nan\n",
      "Less than 2 unique data values left after xmin and xmax options! Cannot fit. Returning nans.\n",
      "Not enough data. Returning nan\n",
      "Not enough data. Returning nan\n",
      "No valid fits found.\n",
      "Not enough data. Returning nan\n",
      "Assuming nested distributions\n",
      "No valid fits found.\n",
      "Not enough data. Returning nan\n",
      "No valid fits found.\n",
      "Not enough data. Returning nan\n",
      "Less than 2 unique data values left after xmin and xmax options! Cannot fit. Returning nans.\n",
      "c:\\Users\\user\\anaconda3\\lib\\site-packages\\powerlaw.py:1151: RuntimeWarning: invalid value encountered in scalar divide\n",
      "  self.alpha = 1 + (self.n / sum(log(data/self.xmin)))\n",
      "c:\\Users\\user\\anaconda3\\lib\\site-packages\\powerlaw.py:1170: RuntimeWarning: invalid value encountered in scalar divide\n",
      "  return 1 + len(data)/sum(log(data / (self.xmin)))\n",
      "Not enough data. Returning nan\n",
      "Not enough data. Returning nan\n",
      "c:\\Users\\user\\anaconda3\\lib\\site-packages\\numpy\\core\\fromnumeric.py:3504: RuntimeWarning: Mean of empty slice.\n",
      "  return _methods._mean(a, axis=axis, dtype=dtype,\n",
      "c:\\Users\\user\\anaconda3\\lib\\site-packages\\numpy\\core\\_methods.py:129: RuntimeWarning: invalid value encountered in scalar divide\n",
      "  ret = ret.dtype.type(ret / rcount)\n",
      "No valid fits found.\n",
      "Not enough data. Returning nan\n",
      "Assuming nested distributions\n",
      "c:\\Users\\user\\anaconda3\\lib\\site-packages\\powerlaw.py:1383: RuntimeWarning: invalid value encountered in scalar divide\n",
      "  alpha = 1 + len(data)/sum( log( data / (self.xmin) ))\n",
      "No valid fits found.\n",
      "Not enough data. Returning nan\n",
      "c:\\Users\\user\\anaconda3\\lib\\site-packages\\numpy\\core\\_methods.py:206: RuntimeWarning: Degrees of freedom <= 0 for slice\n",
      "  ret = _var(a, axis=axis, dtype=dtype, out=out, ddof=ddof,\n",
      "c:\\Users\\user\\anaconda3\\lib\\site-packages\\numpy\\core\\_methods.py:163: RuntimeWarning: invalid value encountered in divide\n",
      "  arrmean = um.true_divide(arrmean, div, out=arrmean,\n",
      "c:\\Users\\user\\anaconda3\\lib\\site-packages\\numpy\\core\\_methods.py:198: RuntimeWarning: invalid value encountered in scalar divide\n",
      "  ret = ret.dtype.type(ret / rcount)\n",
      "No valid fits found.\n",
      "Not enough data. Returning nan\n",
      "Less than 2 unique data values left after xmin and xmax options! Cannot fit. Returning nans.\n",
      "Not enough data. Returning nan\n",
      "Not enough data. Returning nan\n",
      "No valid fits found.\n",
      "Not enough data. Returning nan\n",
      "Assuming nested distributions\n",
      "No valid fits found.\n",
      "Not enough data. Returning nan\n",
      "No valid fits found.\n",
      "Not enough data. Returning nan\n",
      "Less than 2 unique data values left after xmin and xmax options! Cannot fit. Returning nans.\n",
      "Not enough data. Returning nan\n",
      "Not enough data. Returning nan\n",
      "No valid fits found.\n",
      "Not enough data. Returning nan\n",
      "Assuming nested distributions\n",
      "No valid fits found.\n",
      "Not enough data. Returning nan\n",
      "No valid fits found.\n",
      "Not enough data. Returning nan\n",
      "Less than 2 unique data values left after xmin and xmax options! Cannot fit. Returning nans.\n",
      "Not enough data. Returning nan\n",
      "Not enough data. Returning nan\n",
      "No valid fits found.\n",
      "Not enough data. Returning nan\n",
      "Assuming nested distributions\n",
      "No valid fits found.\n",
      "Not enough data. Returning nan\n",
      "No valid fits found.\n",
      "Not enough data. Returning nan\n",
      "Less than 2 unique data values left after xmin and xmax options! Cannot fit. Returning nans.\n",
      "Not enough data. Returning nan\n",
      "Not enough data. Returning nan\n",
      "No valid fits found.\n",
      "Not enough data. Returning nan\n",
      "Assuming nested distributions\n",
      "No valid fits found.\n",
      "Not enough data. Returning nan\n",
      "No valid fits found.\n",
      "Not enough data. Returning nan\n",
      "Less than 2 unique data values left after xmin and xmax options! Cannot fit. Returning nans.\n",
      "c:\\Users\\user\\anaconda3\\lib\\site-packages\\powerlaw.py:1151: RuntimeWarning: invalid value encountered in scalar divide\n",
      "  self.alpha = 1 + (self.n / sum(log(data/self.xmin)))\n",
      "c:\\Users\\user\\anaconda3\\lib\\site-packages\\powerlaw.py:1170: RuntimeWarning: invalid value encountered in scalar divide\n",
      "  return 1 + len(data)/sum(log(data / (self.xmin)))\n",
      "Not enough data. Returning nan\n",
      "Not enough data. Returning nan\n",
      "c:\\Users\\user\\anaconda3\\lib\\site-packages\\numpy\\core\\fromnumeric.py:3504: RuntimeWarning: Mean of empty slice.\n",
      "  return _methods._mean(a, axis=axis, dtype=dtype,\n",
      "c:\\Users\\user\\anaconda3\\lib\\site-packages\\numpy\\core\\_methods.py:129: RuntimeWarning: invalid value encountered in scalar divide\n",
      "  ret = ret.dtype.type(ret / rcount)\n",
      "No valid fits found.\n",
      "Not enough data. Returning nan\n",
      "Assuming nested distributions\n",
      "c:\\Users\\user\\anaconda3\\lib\\site-packages\\powerlaw.py:1383: RuntimeWarning: invalid value encountered in scalar divide\n",
      "  alpha = 1 + len(data)/sum( log( data / (self.xmin) ))\n",
      "No valid fits found.\n",
      "Not enough data. Returning nan\n",
      "c:\\Users\\user\\anaconda3\\lib\\site-packages\\numpy\\core\\_methods.py:206: RuntimeWarning: Degrees of freedom <= 0 for slice\n",
      "  ret = _var(a, axis=axis, dtype=dtype, out=out, ddof=ddof,\n",
      "c:\\Users\\user\\anaconda3\\lib\\site-packages\\numpy\\core\\_methods.py:163: RuntimeWarning: invalid value encountered in divide\n",
      "  arrmean = um.true_divide(arrmean, div, out=arrmean,\n",
      "c:\\Users\\user\\anaconda3\\lib\\site-packages\\numpy\\core\\_methods.py:198: RuntimeWarning: invalid value encountered in scalar divide\n",
      "  ret = ret.dtype.type(ret / rcount)\n",
      "No valid fits found.\n",
      "Not enough data. Returning nan\n",
      "Less than 2 unique data values left after xmin and xmax options! Cannot fit. Returning nans.\n",
      "Not enough data. Returning nan\n",
      "Not enough data. Returning nan\n",
      "No valid fits found.\n",
      "Not enough data. Returning nan\n",
      "Assuming nested distributions\n",
      "No valid fits found.\n",
      "Not enough data. Returning nan\n",
      "No valid fits found.\n",
      "Not enough data. Returning nan\n",
      "Less than 2 unique data values left after xmin and xmax options! Cannot fit. Returning nans.\n",
      "Not enough data. Returning nan\n",
      "Not enough data. Returning nan\n",
      "No valid fits found.\n",
      "Not enough data. Returning nan\n",
      "Assuming nested distributions\n",
      "No valid fits found.\n",
      "Not enough data. Returning nan\n",
      "No valid fits found.\n",
      "Not enough data. Returning nan\n",
      "Less than 2 unique data values left after xmin and xmax options! Cannot fit. Returning nans.\n",
      "Not enough data. Returning nan\n",
      "Not enough data. Returning nan\n",
      "No valid fits found.\n",
      "Not enough data. Returning nan\n",
      "Assuming nested distributions\n",
      "No valid fits found.\n",
      "Not enough data. Returning nan\n",
      "No valid fits found.\n",
      "Not enough data. Returning nan\n",
      "Less than 2 unique data values left after xmin and xmax options! Cannot fit. Returning nans.\n",
      "Not enough data. Returning nan\n",
      "Not enough data. Returning nan\n",
      "No valid fits found.\n",
      "Not enough data. Returning nan\n",
      "Assuming nested distributions\n",
      "No valid fits found.\n",
      "Not enough data. Returning nan\n",
      "No valid fits found.\n",
      "Not enough data. Returning nan\n",
      "Less than 2 unique data values left after xmin and xmax options! Cannot fit. Returning nans.\n",
      "c:\\Users\\user\\anaconda3\\lib\\site-packages\\powerlaw.py:1151: RuntimeWarning: invalid value encountered in scalar divide\n",
      "  self.alpha = 1 + (self.n / sum(log(data/self.xmin)))\n",
      "c:\\Users\\user\\anaconda3\\lib\\site-packages\\powerlaw.py:1170: RuntimeWarning: invalid value encountered in scalar divide\n",
      "  return 1 + len(data)/sum(log(data / (self.xmin)))\n",
      "Not enough data. Returning nan\n",
      "Not enough data. Returning nan\n",
      "c:\\Users\\user\\anaconda3\\lib\\site-packages\\numpy\\core\\fromnumeric.py:3504: RuntimeWarning: Mean of empty slice.\n",
      "  return _methods._mean(a, axis=axis, dtype=dtype,\n",
      "c:\\Users\\user\\anaconda3\\lib\\site-packages\\numpy\\core\\_methods.py:129: RuntimeWarning: invalid value encountered in scalar divide\n",
      "  ret = ret.dtype.type(ret / rcount)\n",
      "No valid fits found.\n",
      "Not enough data. Returning nan\n",
      "Assuming nested distributions\n",
      "c:\\Users\\user\\anaconda3\\lib\\site-packages\\powerlaw.py:1383: RuntimeWarning: invalid value encountered in scalar divide\n",
      "  alpha = 1 + len(data)/sum( log( data / (self.xmin) ))\n",
      "No valid fits found.\n",
      "Not enough data. Returning nan\n",
      "c:\\Users\\user\\anaconda3\\lib\\site-packages\\numpy\\core\\_methods.py:206: RuntimeWarning: Degrees of freedom <= 0 for slice\n",
      "  ret = _var(a, axis=axis, dtype=dtype, out=out, ddof=ddof,\n",
      "c:\\Users\\user\\anaconda3\\lib\\site-packages\\numpy\\core\\_methods.py:163: RuntimeWarning: invalid value encountered in divide\n",
      "  arrmean = um.true_divide(arrmean, div, out=arrmean,\n",
      "c:\\Users\\user\\anaconda3\\lib\\site-packages\\numpy\\core\\_methods.py:198: RuntimeWarning: invalid value encountered in scalar divide\n",
      "  ret = ret.dtype.type(ret / rcount)\n",
      "No valid fits found.\n",
      "Not enough data. Returning nan\n",
      "Less than 2 unique data values left after xmin and xmax options! Cannot fit. Returning nans.\n",
      "Not enough data. Returning nan\n",
      "Not enough data. Returning nan\n",
      "No valid fits found.\n",
      "Not enough data. Returning nan\n",
      "Assuming nested distributions\n",
      "No valid fits found.\n",
      "Not enough data. Returning nan\n",
      "No valid fits found.\n",
      "Not enough data. Returning nan\n",
      "Less than 2 unique data values left after xmin and xmax options! Cannot fit. Returning nans.\n",
      "Not enough data. Returning nan\n",
      "Not enough data. Returning nan\n",
      "No valid fits found.\n",
      "Not enough data. Returning nan\n",
      "Assuming nested distributions\n",
      "No valid fits found.\n",
      "Not enough data. Returning nan\n",
      "No valid fits found.\n",
      "Not enough data. Returning nan\n",
      "Less than 2 unique data values left after xmin and xmax options! Cannot fit. Returning nans.\n",
      "Not enough data. Returning nan\n",
      "Not enough data. Returning nan\n",
      "No valid fits found.\n",
      "Not enough data. Returning nan\n",
      "Assuming nested distributions\n",
      "No valid fits found.\n",
      "Not enough data. Returning nan\n",
      "No valid fits found.\n",
      "Not enough data. Returning nan\n",
      "Less than 2 unique data values left after xmin and xmax options! Cannot fit. Returning nans.\n",
      "Not enough data. Returning nan\n",
      "Not enough data. Returning nan\n",
      "No valid fits found.\n",
      "Not enough data. Returning nan\n",
      "Assuming nested distributions\n",
      "No valid fits found.\n",
      "Not enough data. Returning nan\n",
      "No valid fits found.\n",
      "Not enough data. Returning nan\n",
      "Less than 2 unique data values left after xmin and xmax options! Cannot fit. Returning nans.\n",
      "c:\\Users\\user\\anaconda3\\lib\\site-packages\\powerlaw.py:1151: RuntimeWarning: invalid value encountered in scalar divide\n",
      "  self.alpha = 1 + (self.n / sum(log(data/self.xmin)))\n",
      "c:\\Users\\user\\anaconda3\\lib\\site-packages\\powerlaw.py:1170: RuntimeWarning: invalid value encountered in scalar divide\n",
      "  return 1 + len(data)/sum(log(data / (self.xmin)))\n",
      "Not enough data. Returning nan\n",
      "Not enough data. Returning nan\n",
      "c:\\Users\\user\\anaconda3\\lib\\site-packages\\numpy\\core\\fromnumeric.py:3504: RuntimeWarning: Mean of empty slice.\n",
      "  return _methods._mean(a, axis=axis, dtype=dtype,\n",
      "c:\\Users\\user\\anaconda3\\lib\\site-packages\\numpy\\core\\_methods.py:129: RuntimeWarning: invalid value encountered in scalar divide\n",
      "  ret = ret.dtype.type(ret / rcount)\n",
      "No valid fits found.\n",
      "Not enough data. Returning nan\n",
      "Assuming nested distributions\n",
      "c:\\Users\\user\\anaconda3\\lib\\site-packages\\powerlaw.py:1383: RuntimeWarning: invalid value encountered in scalar divide\n",
      "  alpha = 1 + len(data)/sum( log( data / (self.xmin) ))\n",
      "No valid fits found.\n",
      "Not enough data. Returning nan\n",
      "c:\\Users\\user\\anaconda3\\lib\\site-packages\\numpy\\core\\_methods.py:206: RuntimeWarning: Degrees of freedom <= 0 for slice\n",
      "  ret = _var(a, axis=axis, dtype=dtype, out=out, ddof=ddof,\n",
      "c:\\Users\\user\\anaconda3\\lib\\site-packages\\numpy\\core\\_methods.py:163: RuntimeWarning: invalid value encountered in divide\n",
      "  arrmean = um.true_divide(arrmean, div, out=arrmean,\n",
      "c:\\Users\\user\\anaconda3\\lib\\site-packages\\numpy\\core\\_methods.py:198: RuntimeWarning: invalid value encountered in scalar divide\n",
      "  ret = ret.dtype.type(ret / rcount)\n",
      "No valid fits found.\n",
      "Not enough data. Returning nan\n",
      "Less than 2 unique data values left after xmin and xmax options! Cannot fit. Returning nans.\n",
      "Not enough data. Returning nan\n",
      "Not enough data. Returning nan\n",
      "No valid fits found.\n",
      "Not enough data. Returning nan\n",
      "Assuming nested distributions\n",
      "No valid fits found.\n",
      "Not enough data. Returning nan\n",
      "No valid fits found.\n",
      "Not enough data. Returning nan\n",
      "Less than 2 unique data values left after xmin and xmax options! Cannot fit. Returning nans.\n",
      "Not enough data. Returning nan\n",
      "Not enough data. Returning nan\n",
      "No valid fits found.\n",
      "Not enough data. Returning nan\n",
      "Assuming nested distributions\n",
      "No valid fits found.\n",
      "Not enough data. Returning nan\n",
      "No valid fits found.\n",
      "Not enough data. Returning nan\n",
      "Less than 2 unique data values left after xmin and xmax options! Cannot fit. Returning nans.\n",
      "Not enough data. Returning nan\n",
      "Not enough data. Returning nan\n",
      "No valid fits found.\n",
      "Not enough data. Returning nan\n",
      "Assuming nested distributions\n",
      "No valid fits found.\n",
      "Not enough data. Returning nan\n",
      "No valid fits found.\n",
      "Not enough data. Returning nan\n",
      "Less than 2 unique data values left after xmin and xmax options! Cannot fit. Returning nans.\n",
      "Not enough data. Returning nan\n",
      "Not enough data. Returning nan\n",
      "No valid fits found.\n",
      "Not enough data. Returning nan\n",
      "Assuming nested distributions\n",
      "No valid fits found.\n",
      "Not enough data. Returning nan\n",
      "No valid fits found.\n",
      "Not enough data. Returning nan\n",
      "Less than 2 unique data values left after xmin and xmax options! Cannot fit. Returning nans.\n",
      "c:\\Users\\user\\anaconda3\\lib\\site-packages\\powerlaw.py:1151: RuntimeWarning: invalid value encountered in scalar divide\n",
      "  self.alpha = 1 + (self.n / sum(log(data/self.xmin)))\n",
      "c:\\Users\\user\\anaconda3\\lib\\site-packages\\powerlaw.py:1170: RuntimeWarning: invalid value encountered in scalar divide\n",
      "  return 1 + len(data)/sum(log(data / (self.xmin)))\n",
      "Not enough data. Returning nan\n",
      "Not enough data. Returning nan\n",
      "c:\\Users\\user\\anaconda3\\lib\\site-packages\\numpy\\core\\fromnumeric.py:3504: RuntimeWarning: Mean of empty slice.\n",
      "  return _methods._mean(a, axis=axis, dtype=dtype,\n",
      "c:\\Users\\user\\anaconda3\\lib\\site-packages\\numpy\\core\\_methods.py:129: RuntimeWarning: invalid value encountered in scalar divide\n",
      "  ret = ret.dtype.type(ret / rcount)\n",
      "No valid fits found.\n",
      "Not enough data. Returning nan\n",
      "Assuming nested distributions\n",
      "c:\\Users\\user\\anaconda3\\lib\\site-packages\\powerlaw.py:1383: RuntimeWarning: invalid value encountered in scalar divide\n",
      "  alpha = 1 + len(data)/sum( log( data / (self.xmin) ))\n",
      "No valid fits found.\n",
      "Not enough data. Returning nan\n",
      "c:\\Users\\user\\anaconda3\\lib\\site-packages\\numpy\\core\\_methods.py:206: RuntimeWarning: Degrees of freedom <= 0 for slice\n",
      "  ret = _var(a, axis=axis, dtype=dtype, out=out, ddof=ddof,\n",
      "c:\\Users\\user\\anaconda3\\lib\\site-packages\\numpy\\core\\_methods.py:163: RuntimeWarning: invalid value encountered in divide\n",
      "  arrmean = um.true_divide(arrmean, div, out=arrmean,\n",
      "c:\\Users\\user\\anaconda3\\lib\\site-packages\\numpy\\core\\_methods.py:198: RuntimeWarning: invalid value encountered in scalar divide\n",
      "  ret = ret.dtype.type(ret / rcount)\n",
      "No valid fits found.\n",
      "Not enough data. Returning nan\n",
      "Less than 2 unique data values left after xmin and xmax options! Cannot fit. Returning nans.\n",
      "Not enough data. Returning nan\n",
      "Not enough data. Returning nan\n",
      "No valid fits found.\n",
      "Not enough data. Returning nan\n",
      "Assuming nested distributions\n",
      "No valid fits found.\n",
      "Not enough data. Returning nan\n",
      "No valid fits found.\n",
      "Not enough data. Returning nan\n",
      "Less than 2 unique data values left after xmin and xmax options! Cannot fit. Returning nans.\n",
      "Not enough data. Returning nan\n",
      "Not enough data. Returning nan\n",
      "No valid fits found.\n",
      "Not enough data. Returning nan\n",
      "Assuming nested distributions\n",
      "No valid fits found.\n",
      "Not enough data. Returning nan\n",
      "No valid fits found.\n",
      "Not enough data. Returning nan\n",
      "Less than 2 unique data values left after xmin and xmax options! Cannot fit. Returning nans.\n",
      "Not enough data. Returning nan\n",
      "Not enough data. Returning nan\n",
      "No valid fits found.\n",
      "Not enough data. Returning nan\n",
      "Assuming nested distributions\n",
      "No valid fits found.\n",
      "Not enough data. Returning nan\n",
      "No valid fits found.\n",
      "Not enough data. Returning nan\n",
      "Less than 2 unique data values left after xmin and xmax options! Cannot fit. Returning nans.\n",
      "Not enough data. Returning nan\n",
      "Not enough data. Returning nan\n",
      "No valid fits found.\n",
      "Not enough data. Returning nan\n",
      "Assuming nested distributions\n",
      "No valid fits found.\n",
      "Not enough data. Returning nan\n",
      "No valid fits found.\n",
      "Not enough data. Returning nan\n",
      "Less than 2 unique data values left after xmin and xmax options! Cannot fit. Returning nans.\n",
      "c:\\Users\\user\\anaconda3\\lib\\site-packages\\powerlaw.py:1151: RuntimeWarning: invalid value encountered in scalar divide\n",
      "  self.alpha = 1 + (self.n / sum(log(data/self.xmin)))\n",
      "c:\\Users\\user\\anaconda3\\lib\\site-packages\\powerlaw.py:1170: RuntimeWarning: invalid value encountered in scalar divide\n",
      "  return 1 + len(data)/sum(log(data / (self.xmin)))\n",
      "Not enough data. Returning nan\n",
      "Not enough data. Returning nan\n",
      "c:\\Users\\user\\anaconda3\\lib\\site-packages\\numpy\\core\\fromnumeric.py:3504: RuntimeWarning: Mean of empty slice.\n",
      "  return _methods._mean(a, axis=axis, dtype=dtype,\n",
      "c:\\Users\\user\\anaconda3\\lib\\site-packages\\numpy\\core\\_methods.py:129: RuntimeWarning: invalid value encountered in scalar divide\n",
      "  ret = ret.dtype.type(ret / rcount)\n",
      "No valid fits found.\n",
      "Not enough data. Returning nan\n",
      "Assuming nested distributions\n",
      "c:\\Users\\user\\anaconda3\\lib\\site-packages\\powerlaw.py:1383: RuntimeWarning: invalid value encountered in scalar divide\n",
      "  alpha = 1 + len(data)/sum( log( data / (self.xmin) ))\n",
      "No valid fits found.\n",
      "Not enough data. Returning nan\n",
      "c:\\Users\\user\\anaconda3\\lib\\site-packages\\numpy\\core\\_methods.py:206: RuntimeWarning: Degrees of freedom <= 0 for slice\n",
      "  ret = _var(a, axis=axis, dtype=dtype, out=out, ddof=ddof,\n",
      "c:\\Users\\user\\anaconda3\\lib\\site-packages\\numpy\\core\\_methods.py:163: RuntimeWarning: invalid value encountered in divide\n",
      "  arrmean = um.true_divide(arrmean, div, out=arrmean,\n",
      "c:\\Users\\user\\anaconda3\\lib\\site-packages\\numpy\\core\\_methods.py:198: RuntimeWarning: invalid value encountered in scalar divide\n",
      "  ret = ret.dtype.type(ret / rcount)\n",
      "No valid fits found.\n",
      "Not enough data. Returning nan\n",
      "Less than 2 unique data values left after xmin and xmax options! Cannot fit. Returning nans.\n",
      "Not enough data. Returning nan\n",
      "Not enough data. Returning nan\n",
      "No valid fits found.\n",
      "Not enough data. Returning nan\n",
      "Assuming nested distributions\n",
      "No valid fits found.\n",
      "Not enough data. Returning nan\n",
      "No valid fits found.\n",
      "Not enough data. Returning nan\n",
      "Less than 2 unique data values left after xmin and xmax options! Cannot fit. Returning nans.\n",
      "Not enough data. Returning nan\n",
      "Not enough data. Returning nan\n",
      "No valid fits found.\n",
      "Not enough data. Returning nan\n",
      "Assuming nested distributions\n",
      "No valid fits found.\n",
      "Not enough data. Returning nan\n",
      "No valid fits found.\n",
      "Not enough data. Returning nan\n",
      "Less than 2 unique data values left after xmin and xmax options! Cannot fit. Returning nans.\n",
      "Not enough data. Returning nan\n",
      "Not enough data. Returning nan\n",
      "No valid fits found.\n",
      "Not enough data. Returning nan\n",
      "Assuming nested distributions\n",
      "No valid fits found.\n",
      "Not enough data. Returning nan\n",
      "No valid fits found.\n",
      "Not enough data. Returning nan\n",
      "Less than 2 unique data values left after xmin and xmax options! Cannot fit. Returning nans.\n",
      "Not enough data. Returning nan\n",
      "Not enough data. Returning nan\n",
      "No valid fits found.\n",
      "Not enough data. Returning nan\n",
      "Assuming nested distributions\n",
      "No valid fits found.\n",
      "Not enough data. Returning nan\n",
      "No valid fits found.\n",
      "Not enough data. Returning nan\n",
      "Less than 2 unique data values left after xmin and xmax options! Cannot fit. Returning nans.\n",
      "c:\\Users\\user\\anaconda3\\lib\\site-packages\\powerlaw.py:1151: RuntimeWarning: invalid value encountered in scalar divide\n",
      "  self.alpha = 1 + (self.n / sum(log(data/self.xmin)))\n",
      "c:\\Users\\user\\anaconda3\\lib\\site-packages\\powerlaw.py:1170: RuntimeWarning: invalid value encountered in scalar divide\n",
      "  return 1 + len(data)/sum(log(data / (self.xmin)))\n",
      "Not enough data. Returning nan\n",
      "Not enough data. Returning nan\n",
      "c:\\Users\\user\\anaconda3\\lib\\site-packages\\numpy\\core\\fromnumeric.py:3504: RuntimeWarning: Mean of empty slice.\n",
      "  return _methods._mean(a, axis=axis, dtype=dtype,\n",
      "c:\\Users\\user\\anaconda3\\lib\\site-packages\\numpy\\core\\_methods.py:129: RuntimeWarning: invalid value encountered in scalar divide\n",
      "  ret = ret.dtype.type(ret / rcount)\n",
      "No valid fits found.\n",
      "Not enough data. Returning nan\n",
      "Assuming nested distributions\n",
      "c:\\Users\\user\\anaconda3\\lib\\site-packages\\powerlaw.py:1383: RuntimeWarning: invalid value encountered in scalar divide\n",
      "  alpha = 1 + len(data)/sum( log( data / (self.xmin) ))\n",
      "No valid fits found.\n",
      "Not enough data. Returning nan\n",
      "c:\\Users\\user\\anaconda3\\lib\\site-packages\\numpy\\core\\_methods.py:206: RuntimeWarning: Degrees of freedom <= 0 for slice\n",
      "  ret = _var(a, axis=axis, dtype=dtype, out=out, ddof=ddof,\n",
      "c:\\Users\\user\\anaconda3\\lib\\site-packages\\numpy\\core\\_methods.py:163: RuntimeWarning: invalid value encountered in divide\n",
      "  arrmean = um.true_divide(arrmean, div, out=arrmean,\n",
      "c:\\Users\\user\\anaconda3\\lib\\site-packages\\numpy\\core\\_methods.py:198: RuntimeWarning: invalid value encountered in scalar divide\n",
      "  ret = ret.dtype.type(ret / rcount)\n",
      "No valid fits found.\n",
      "Not enough data. Returning nan\n",
      "Less than 2 unique data values left after xmin and xmax options! Cannot fit. Returning nans.\n",
      "Not enough data. Returning nan\n",
      "Not enough data. Returning nan\n",
      "No valid fits found.\n",
      "Not enough data. Returning nan\n",
      "Assuming nested distributions\n",
      "No valid fits found.\n",
      "Not enough data. Returning nan\n",
      "No valid fits found.\n",
      "Not enough data. Returning nan\n",
      "Less than 2 unique data values left after xmin and xmax options! Cannot fit. Returning nans.\n",
      "Not enough data. Returning nan\n",
      "Not enough data. Returning nan\n",
      "No valid fits found.\n",
      "Not enough data. Returning nan\n",
      "Assuming nested distributions\n",
      "No valid fits found.\n",
      "Not enough data. Returning nan\n",
      "No valid fits found.\n",
      "Not enough data. Returning nan\n",
      "Less than 2 unique data values left after xmin and xmax options! Cannot fit. Returning nans.\n",
      "Not enough data. Returning nan\n",
      "Not enough data. Returning nan\n",
      "No valid fits found.\n",
      "Not enough data. Returning nan\n",
      "Assuming nested distributions\n",
      "No valid fits found.\n",
      "Not enough data. Returning nan\n",
      "No valid fits found.\n",
      "Not enough data. Returning nan\n",
      "Less than 2 unique data values left after xmin and xmax options! Cannot fit. Returning nans.\n",
      "Not enough data. Returning nan\n",
      "Not enough data. Returning nan\n",
      "No valid fits found.\n",
      "Not enough data. Returning nan\n",
      "Assuming nested distributions\n",
      "No valid fits found.\n",
      "Not enough data. Returning nan\n",
      "No valid fits found.\n",
      "Not enough data. Returning nan\n",
      "Less than 2 unique data values left after xmin and xmax options! Cannot fit. Returning nans.\n",
      "c:\\Users\\user\\anaconda3\\lib\\site-packages\\powerlaw.py:1151: RuntimeWarning: invalid value encountered in scalar divide\n",
      "  self.alpha = 1 + (self.n / sum(log(data/self.xmin)))\n",
      "c:\\Users\\user\\anaconda3\\lib\\site-packages\\powerlaw.py:1170: RuntimeWarning: invalid value encountered in scalar divide\n",
      "  return 1 + len(data)/sum(log(data / (self.xmin)))\n",
      "Not enough data. Returning nan\n",
      "Not enough data. Returning nan\n",
      "c:\\Users\\user\\anaconda3\\lib\\site-packages\\numpy\\core\\fromnumeric.py:3504: RuntimeWarning: Mean of empty slice.\n",
      "  return _methods._mean(a, axis=axis, dtype=dtype,\n",
      "c:\\Users\\user\\anaconda3\\lib\\site-packages\\numpy\\core\\_methods.py:129: RuntimeWarning: invalid value encountered in scalar divide\n",
      "  ret = ret.dtype.type(ret / rcount)\n",
      "No valid fits found.\n",
      "Not enough data. Returning nan\n",
      "Assuming nested distributions\n",
      "c:\\Users\\user\\anaconda3\\lib\\site-packages\\powerlaw.py:1383: RuntimeWarning: invalid value encountered in scalar divide\n",
      "  alpha = 1 + len(data)/sum( log( data / (self.xmin) ))\n",
      "No valid fits found.\n",
      "Not enough data. Returning nan\n",
      "c:\\Users\\user\\anaconda3\\lib\\site-packages\\numpy\\core\\_methods.py:206: RuntimeWarning: Degrees of freedom <= 0 for slice\n",
      "  ret = _var(a, axis=axis, dtype=dtype, out=out, ddof=ddof,\n",
      "c:\\Users\\user\\anaconda3\\lib\\site-packages\\numpy\\core\\_methods.py:163: RuntimeWarning: invalid value encountered in divide\n",
      "  arrmean = um.true_divide(arrmean, div, out=arrmean,\n",
      "c:\\Users\\user\\anaconda3\\lib\\site-packages\\numpy\\core\\_methods.py:198: RuntimeWarning: invalid value encountered in scalar divide\n",
      "  ret = ret.dtype.type(ret / rcount)\n",
      "No valid fits found.\n",
      "Not enough data. Returning nan\n",
      "Less than 2 unique data values left after xmin and xmax options! Cannot fit. Returning nans.\n",
      "Not enough data. Returning nan\n",
      "Not enough data. Returning nan\n",
      "No valid fits found.\n",
      "Not enough data. Returning nan\n",
      "Assuming nested distributions\n",
      "No valid fits found.\n",
      "Not enough data. Returning nan\n",
      "No valid fits found.\n",
      "Not enough data. Returning nan\n",
      "Less than 2 unique data values left after xmin and xmax options! Cannot fit. Returning nans.\n",
      "Not enough data. Returning nan\n",
      "Not enough data. Returning nan\n",
      "No valid fits found.\n",
      "Not enough data. Returning nan\n",
      "Assuming nested distributions\n",
      "No valid fits found.\n",
      "Not enough data. Returning nan\n",
      "No valid fits found.\n",
      "Not enough data. Returning nan\n",
      "Less than 2 unique data values left after xmin and xmax options! Cannot fit. Returning nans.\n",
      "Not enough data. Returning nan\n",
      "Not enough data. Returning nan\n",
      "No valid fits found.\n",
      "Not enough data. Returning nan\n",
      "Assuming nested distributions\n",
      "No valid fits found.\n",
      "Not enough data. Returning nan\n",
      "No valid fits found.\n",
      "Not enough data. Returning nan\n",
      "Less than 2 unique data values left after xmin and xmax options! Cannot fit. Returning nans.\n",
      "Not enough data. Returning nan\n",
      "Not enough data. Returning nan\n",
      "No valid fits found.\n",
      "Not enough data. Returning nan\n",
      "Assuming nested distributions\n",
      "No valid fits found.\n",
      "Not enough data. Returning nan\n",
      "No valid fits found.\n",
      "Not enough data. Returning nan\n",
      "Less than 2 unique data values left after xmin and xmax options! Cannot fit. Returning nans.\n",
      "c:\\Users\\user\\anaconda3\\lib\\site-packages\\powerlaw.py:1151: RuntimeWarning: invalid value encountered in scalar divide\n",
      "  self.alpha = 1 + (self.n / sum(log(data/self.xmin)))\n",
      "c:\\Users\\user\\anaconda3\\lib\\site-packages\\powerlaw.py:1170: RuntimeWarning: invalid value encountered in scalar divide\n",
      "  return 1 + len(data)/sum(log(data / (self.xmin)))\n",
      "Not enough data. Returning nan\n",
      "Not enough data. Returning nan\n",
      "c:\\Users\\user\\anaconda3\\lib\\site-packages\\numpy\\core\\fromnumeric.py:3504: RuntimeWarning: Mean of empty slice.\n",
      "  return _methods._mean(a, axis=axis, dtype=dtype,\n",
      "c:\\Users\\user\\anaconda3\\lib\\site-packages\\numpy\\core\\_methods.py:129: RuntimeWarning: invalid value encountered in scalar divide\n",
      "  ret = ret.dtype.type(ret / rcount)\n",
      "No valid fits found.\n",
      "Not enough data. Returning nan\n",
      "Assuming nested distributions\n",
      "c:\\Users\\user\\anaconda3\\lib\\site-packages\\powerlaw.py:1383: RuntimeWarning: invalid value encountered in scalar divide\n",
      "  alpha = 1 + len(data)/sum( log( data / (self.xmin) ))\n",
      "No valid fits found.\n",
      "Not enough data. Returning nan\n",
      "c:\\Users\\user\\anaconda3\\lib\\site-packages\\numpy\\core\\_methods.py:206: RuntimeWarning: Degrees of freedom <= 0 for slice\n",
      "  ret = _var(a, axis=axis, dtype=dtype, out=out, ddof=ddof,\n",
      "c:\\Users\\user\\anaconda3\\lib\\site-packages\\numpy\\core\\_methods.py:163: RuntimeWarning: invalid value encountered in divide\n",
      "  arrmean = um.true_divide(arrmean, div, out=arrmean,\n",
      "c:\\Users\\user\\anaconda3\\lib\\site-packages\\numpy\\core\\_methods.py:198: RuntimeWarning: invalid value encountered in scalar divide\n",
      "  ret = ret.dtype.type(ret / rcount)\n",
      "No valid fits found.\n",
      "Not enough data. Returning nan\n",
      "Less than 2 unique data values left after xmin and xmax options! Cannot fit. Returning nans.\n",
      "Not enough data. Returning nan\n",
      "Not enough data. Returning nan\n",
      "No valid fits found.\n",
      "Not enough data. Returning nan\n",
      "Assuming nested distributions\n",
      "No valid fits found.\n",
      "Not enough data. Returning nan\n",
      "No valid fits found.\n",
      "Not enough data. Returning nan\n",
      "Less than 2 unique data values left after xmin and xmax options! Cannot fit. Returning nans.\n",
      "Not enough data. Returning nan\n",
      "Not enough data. Returning nan\n",
      "No valid fits found.\n",
      "Not enough data. Returning nan\n",
      "Assuming nested distributions\n",
      "No valid fits found.\n",
      "Not enough data. Returning nan\n",
      "No valid fits found.\n",
      "Not enough data. Returning nan\n",
      "Less than 2 unique data values left after xmin and xmax options! Cannot fit. Returning nans.\n",
      "Not enough data. Returning nan\n",
      "Not enough data. Returning nan\n",
      "No valid fits found.\n",
      "Not enough data. Returning nan\n",
      "Assuming nested distributions\n",
      "No valid fits found.\n",
      "Not enough data. Returning nan\n",
      "No valid fits found.\n",
      "Not enough data. Returning nan\n",
      "Less than 2 unique data values left after xmin and xmax options! Cannot fit. Returning nans.\n",
      "Not enough data. Returning nan\n",
      "Not enough data. Returning nan\n",
      "No valid fits found.\n",
      "Not enough data. Returning nan\n",
      "Assuming nested distributions\n",
      "No valid fits found.\n",
      "Not enough data. Returning nan\n",
      "No valid fits found.\n",
      "Not enough data. Returning nan\n",
      "Less than 2 unique data values left after xmin and xmax options! Cannot fit. Returning nans.\n",
      "c:\\Users\\user\\anaconda3\\lib\\site-packages\\powerlaw.py:1151: RuntimeWarning: invalid value encountered in scalar divide\n",
      "  self.alpha = 1 + (self.n / sum(log(data/self.xmin)))\n",
      "c:\\Users\\user\\anaconda3\\lib\\site-packages\\powerlaw.py:1170: RuntimeWarning: invalid value encountered in scalar divide\n",
      "  return 1 + len(data)/sum(log(data / (self.xmin)))\n",
      "Not enough data. Returning nan\n",
      "Not enough data. Returning nan\n",
      "c:\\Users\\user\\anaconda3\\lib\\site-packages\\numpy\\core\\fromnumeric.py:3504: RuntimeWarning: Mean of empty slice.\n",
      "  return _methods._mean(a, axis=axis, dtype=dtype,\n",
      "c:\\Users\\user\\anaconda3\\lib\\site-packages\\numpy\\core\\_methods.py:129: RuntimeWarning: invalid value encountered in scalar divide\n",
      "  ret = ret.dtype.type(ret / rcount)\n",
      "No valid fits found.\n",
      "Not enough data. Returning nan\n",
      "Assuming nested distributions\n",
      "c:\\Users\\user\\anaconda3\\lib\\site-packages\\powerlaw.py:1383: RuntimeWarning: invalid value encountered in scalar divide\n",
      "  alpha = 1 + len(data)/sum( log( data / (self.xmin) ))\n",
      "No valid fits found.\n",
      "Not enough data. Returning nan\n",
      "c:\\Users\\user\\anaconda3\\lib\\site-packages\\numpy\\core\\_methods.py:206: RuntimeWarning: Degrees of freedom <= 0 for slice\n",
      "  ret = _var(a, axis=axis, dtype=dtype, out=out, ddof=ddof,\n",
      "c:\\Users\\user\\anaconda3\\lib\\site-packages\\numpy\\core\\_methods.py:163: RuntimeWarning: invalid value encountered in divide\n",
      "  arrmean = um.true_divide(arrmean, div, out=arrmean,\n",
      "c:\\Users\\user\\anaconda3\\lib\\site-packages\\numpy\\core\\_methods.py:198: RuntimeWarning: invalid value encountered in scalar divide\n",
      "  ret = ret.dtype.type(ret / rcount)\n",
      "No valid fits found.\n",
      "Not enough data. Returning nan\n",
      "Less than 2 unique data values left after xmin and xmax options! Cannot fit. Returning nans.\n",
      "Not enough data. Returning nan\n",
      "Not enough data. Returning nan\n",
      "No valid fits found.\n",
      "Not enough data. Returning nan\n",
      "Assuming nested distributions\n",
      "No valid fits found.\n",
      "Not enough data. Returning nan\n",
      "No valid fits found.\n",
      "Not enough data. Returning nan\n",
      "Less than 2 unique data values left after xmin and xmax options! Cannot fit. Returning nans.\n",
      "Not enough data. Returning nan\n",
      "Not enough data. Returning nan\n",
      "No valid fits found.\n",
      "Not enough data. Returning nan\n",
      "Assuming nested distributions\n",
      "No valid fits found.\n",
      "Not enough data. Returning nan\n",
      "No valid fits found.\n",
      "Not enough data. Returning nan\n",
      "Less than 2 unique data values left after xmin and xmax options! Cannot fit. Returning nans.\n",
      "Not enough data. Returning nan\n",
      "Not enough data. Returning nan\n",
      "No valid fits found.\n",
      "Not enough data. Returning nan\n",
      "Assuming nested distributions\n",
      "No valid fits found.\n",
      "Not enough data. Returning nan\n",
      "No valid fits found.\n",
      "Not enough data. Returning nan\n",
      "Less than 2 unique data values left after xmin and xmax options! Cannot fit. Returning nans.\n",
      "Not enough data. Returning nan\n",
      "Not enough data. Returning nan\n",
      "No valid fits found.\n",
      "Not enough data. Returning nan\n",
      "Assuming nested distributions\n",
      "No valid fits found.\n",
      "Not enough data. Returning nan\n",
      "No valid fits found.\n",
      "Not enough data. Returning nan\n",
      "Less than 2 unique data values left after xmin and xmax options! Cannot fit. Returning nans.\n",
      "c:\\Users\\user\\anaconda3\\lib\\site-packages\\powerlaw.py:1151: RuntimeWarning: invalid value encountered in scalar divide\n",
      "  self.alpha = 1 + (self.n / sum(log(data/self.xmin)))\n",
      "c:\\Users\\user\\anaconda3\\lib\\site-packages\\powerlaw.py:1170: RuntimeWarning: invalid value encountered in scalar divide\n",
      "  return 1 + len(data)/sum(log(data / (self.xmin)))\n",
      "Not enough data. Returning nan\n",
      "Not enough data. Returning nan\n",
      "c:\\Users\\user\\anaconda3\\lib\\site-packages\\numpy\\core\\fromnumeric.py:3504: RuntimeWarning: Mean of empty slice.\n",
      "  return _methods._mean(a, axis=axis, dtype=dtype,\n",
      "c:\\Users\\user\\anaconda3\\lib\\site-packages\\numpy\\core\\_methods.py:129: RuntimeWarning: invalid value encountered in scalar divide\n",
      "  ret = ret.dtype.type(ret / rcount)\n",
      "No valid fits found.\n",
      "Not enough data. Returning nan\n",
      "Assuming nested distributions\n",
      "c:\\Users\\user\\anaconda3\\lib\\site-packages\\powerlaw.py:1383: RuntimeWarning: invalid value encountered in scalar divide\n",
      "  alpha = 1 + len(data)/sum( log( data / (self.xmin) ))\n",
      "No valid fits found.\n",
      "Not enough data. Returning nan\n",
      "c:\\Users\\user\\anaconda3\\lib\\site-packages\\numpy\\core\\_methods.py:206: RuntimeWarning: Degrees of freedom <= 0 for slice\n",
      "  ret = _var(a, axis=axis, dtype=dtype, out=out, ddof=ddof,\n",
      "c:\\Users\\user\\anaconda3\\lib\\site-packages\\numpy\\core\\_methods.py:163: RuntimeWarning: invalid value encountered in divide\n",
      "  arrmean = um.true_divide(arrmean, div, out=arrmean,\n",
      "c:\\Users\\user\\anaconda3\\lib\\site-packages\\numpy\\core\\_methods.py:198: RuntimeWarning: invalid value encountered in scalar divide\n",
      "  ret = ret.dtype.type(ret / rcount)\n",
      "No valid fits found.\n",
      "Not enough data. Returning nan\n",
      "Less than 2 unique data values left after xmin and xmax options! Cannot fit. Returning nans.\n",
      "Not enough data. Returning nan\n",
      "Not enough data. Returning nan\n",
      "No valid fits found.\n",
      "Not enough data. Returning nan\n",
      "Assuming nested distributions\n",
      "No valid fits found.\n",
      "Not enough data. Returning nan\n",
      "No valid fits found.\n",
      "Not enough data. Returning nan\n",
      "Less than 2 unique data values left after xmin and xmax options! Cannot fit. Returning nans.\n",
      "Not enough data. Returning nan\n",
      "Not enough data. Returning nan\n",
      "No valid fits found.\n",
      "Not enough data. Returning nan\n",
      "Assuming nested distributions\n",
      "No valid fits found.\n",
      "Not enough data. Returning nan\n",
      "No valid fits found.\n",
      "Not enough data. Returning nan\n",
      "Less than 2 unique data values left after xmin and xmax options! Cannot fit. Returning nans.\n",
      "Not enough data. Returning nan\n",
      "Not enough data. Returning nan\n",
      "No valid fits found.\n",
      "Not enough data. Returning nan\n",
      "Assuming nested distributions\n",
      "No valid fits found.\n",
      "Not enough data. Returning nan\n",
      "No valid fits found.\n",
      "Not enough data. Returning nan\n",
      "Less than 2 unique data values left after xmin and xmax options! Cannot fit. Returning nans.\n",
      "Not enough data. Returning nan\n",
      "Not enough data. Returning nan\n",
      "No valid fits found.\n",
      "Not enough data. Returning nan\n",
      "Assuming nested distributions\n",
      "No valid fits found.\n",
      "Not enough data. Returning nan\n",
      "No valid fits found.\n",
      "Not enough data. Returning nan\n",
      "Less than 2 unique data values left after xmin and xmax options! Cannot fit. Returning nans.\n",
      "c:\\Users\\user\\anaconda3\\lib\\site-packages\\powerlaw.py:1151: RuntimeWarning: invalid value encountered in scalar divide\n",
      "  self.alpha = 1 + (self.n / sum(log(data/self.xmin)))\n",
      "c:\\Users\\user\\anaconda3\\lib\\site-packages\\powerlaw.py:1170: RuntimeWarning: invalid value encountered in scalar divide\n",
      "  return 1 + len(data)/sum(log(data / (self.xmin)))\n",
      "Not enough data. Returning nan\n",
      "Not enough data. Returning nan\n",
      "c:\\Users\\user\\anaconda3\\lib\\site-packages\\numpy\\core\\fromnumeric.py:3504: RuntimeWarning: Mean of empty slice.\n",
      "  return _methods._mean(a, axis=axis, dtype=dtype,\n",
      "c:\\Users\\user\\anaconda3\\lib\\site-packages\\numpy\\core\\_methods.py:129: RuntimeWarning: invalid value encountered in scalar divide\n",
      "  ret = ret.dtype.type(ret / rcount)\n",
      "No valid fits found.\n",
      "Not enough data. Returning nan\n",
      "Assuming nested distributions\n",
      "c:\\Users\\user\\anaconda3\\lib\\site-packages\\powerlaw.py:1383: RuntimeWarning: invalid value encountered in scalar divide\n",
      "  alpha = 1 + len(data)/sum( log( data / (self.xmin) ))\n",
      "No valid fits found.\n",
      "Not enough data. Returning nan\n",
      "c:\\Users\\user\\anaconda3\\lib\\site-packages\\numpy\\core\\_methods.py:206: RuntimeWarning: Degrees of freedom <= 0 for slice\n",
      "  ret = _var(a, axis=axis, dtype=dtype, out=out, ddof=ddof,\n",
      "c:\\Users\\user\\anaconda3\\lib\\site-packages\\numpy\\core\\_methods.py:163: RuntimeWarning: invalid value encountered in divide\n",
      "  arrmean = um.true_divide(arrmean, div, out=arrmean,\n",
      "c:\\Users\\user\\anaconda3\\lib\\site-packages\\numpy\\core\\_methods.py:198: RuntimeWarning: invalid value encountered in scalar divide\n",
      "  ret = ret.dtype.type(ret / rcount)\n",
      "No valid fits found.\n",
      "Not enough data. Returning nan\n",
      "Less than 2 unique data values left after xmin and xmax options! Cannot fit. Returning nans.\n",
      "Not enough data. Returning nan\n",
      "Not enough data. Returning nan\n",
      "No valid fits found.\n",
      "Not enough data. Returning nan\n",
      "Assuming nested distributions\n",
      "No valid fits found.\n",
      "Not enough data. Returning nan\n",
      "No valid fits found.\n",
      "Not enough data. Returning nan\n",
      "Less than 2 unique data values left after xmin and xmax options! Cannot fit. Returning nans.\n",
      "Not enough data. Returning nan\n",
      "Not enough data. Returning nan\n",
      "No valid fits found.\n",
      "Not enough data. Returning nan\n",
      "Assuming nested distributions\n",
      "No valid fits found.\n",
      "Not enough data. Returning nan\n",
      "No valid fits found.\n",
      "Not enough data. Returning nan\n",
      "Less than 2 unique data values left after xmin and xmax options! Cannot fit. Returning nans.\n",
      "Not enough data. Returning nan\n",
      "Not enough data. Returning nan\n",
      "No valid fits found.\n",
      "Not enough data. Returning nan\n",
      "Assuming nested distributions\n",
      "No valid fits found.\n",
      "Not enough data. Returning nan\n",
      "No valid fits found.\n",
      "Not enough data. Returning nan\n",
      "Less than 2 unique data values left after xmin and xmax options! Cannot fit. Returning nans.\n",
      "Not enough data. Returning nan\n",
      "Not enough data. Returning nan\n",
      "No valid fits found.\n",
      "Not enough data. Returning nan\n",
      "Assuming nested distributions\n",
      "No valid fits found.\n",
      "Not enough data. Returning nan\n",
      "No valid fits found.\n",
      "Not enough data. Returning nan\n",
      "Less than 2 unique data values left after xmin and xmax options! Cannot fit. Returning nans.\n",
      "c:\\Users\\user\\anaconda3\\lib\\site-packages\\powerlaw.py:1151: RuntimeWarning: invalid value encountered in scalar divide\n",
      "  self.alpha = 1 + (self.n / sum(log(data/self.xmin)))\n",
      "c:\\Users\\user\\anaconda3\\lib\\site-packages\\powerlaw.py:1170: RuntimeWarning: invalid value encountered in scalar divide\n",
      "  return 1 + len(data)/sum(log(data / (self.xmin)))\n",
      "Not enough data. Returning nan\n",
      "Not enough data. Returning nan\n",
      "c:\\Users\\user\\anaconda3\\lib\\site-packages\\numpy\\core\\fromnumeric.py:3504: RuntimeWarning: Mean of empty slice.\n",
      "  return _methods._mean(a, axis=axis, dtype=dtype,\n",
      "c:\\Users\\user\\anaconda3\\lib\\site-packages\\numpy\\core\\_methods.py:129: RuntimeWarning: invalid value encountered in scalar divide\n",
      "  ret = ret.dtype.type(ret / rcount)\n",
      "No valid fits found.\n",
      "Not enough data. Returning nan\n",
      "Assuming nested distributions\n",
      "c:\\Users\\user\\anaconda3\\lib\\site-packages\\powerlaw.py:1383: RuntimeWarning: invalid value encountered in scalar divide\n",
      "  alpha = 1 + len(data)/sum( log( data / (self.xmin) ))\n",
      "No valid fits found.\n",
      "Not enough data. Returning nan\n",
      "c:\\Users\\user\\anaconda3\\lib\\site-packages\\numpy\\core\\_methods.py:206: RuntimeWarning: Degrees of freedom <= 0 for slice\n",
      "  ret = _var(a, axis=axis, dtype=dtype, out=out, ddof=ddof,\n",
      "c:\\Users\\user\\anaconda3\\lib\\site-packages\\numpy\\core\\_methods.py:163: RuntimeWarning: invalid value encountered in divide\n",
      "  arrmean = um.true_divide(arrmean, div, out=arrmean,\n",
      "c:\\Users\\user\\anaconda3\\lib\\site-packages\\numpy\\core\\_methods.py:198: RuntimeWarning: invalid value encountered in scalar divide\n",
      "  ret = ret.dtype.type(ret / rcount)\n",
      "No valid fits found.\n",
      "Not enough data. Returning nan\n",
      "Less than 2 unique data values left after xmin and xmax options! Cannot fit. Returning nans.\n",
      "Not enough data. Returning nan\n",
      "Not enough data. Returning nan\n",
      "No valid fits found.\n",
      "Not enough data. Returning nan\n",
      "Assuming nested distributions\n",
      "No valid fits found.\n",
      "Not enough data. Returning nan\n",
      "No valid fits found.\n",
      "Not enough data. Returning nan\n",
      "Less than 2 unique data values left after xmin and xmax options! Cannot fit. Returning nans.\n",
      "Not enough data. Returning nan\n",
      "Not enough data. Returning nan\n",
      "No valid fits found.\n",
      "Not enough data. Returning nan\n",
      "Assuming nested distributions\n",
      "No valid fits found.\n",
      "Not enough data. Returning nan\n",
      "No valid fits found.\n",
      "Not enough data. Returning nan\n",
      "Less than 2 unique data values left after xmin and xmax options! Cannot fit. Returning nans.\n",
      "Not enough data. Returning nan\n",
      "Not enough data. Returning nan\n",
      "No valid fits found.\n",
      "Not enough data. Returning nan\n",
      "Assuming nested distributions\n",
      "No valid fits found.\n",
      "Not enough data. Returning nan\n",
      "No valid fits found.\n",
      "Not enough data. Returning nan\n",
      "Less than 2 unique data values left after xmin and xmax options! Cannot fit. Returning nans.\n",
      "Not enough data. Returning nan\n",
      "Not enough data. Returning nan\n",
      "No valid fits found.\n",
      "Not enough data. Returning nan\n",
      "Assuming nested distributions\n",
      "No valid fits found.\n",
      "Not enough data. Returning nan\n",
      "No valid fits found.\n",
      "Not enough data. Returning nan\n",
      "Less than 2 unique data values left after xmin and xmax options! Cannot fit. Returning nans.\n",
      "c:\\Users\\user\\anaconda3\\lib\\site-packages\\powerlaw.py:1151: RuntimeWarning: invalid value encountered in scalar divide\n",
      "  self.alpha = 1 + (self.n / sum(log(data/self.xmin)))\n",
      "c:\\Users\\user\\anaconda3\\lib\\site-packages\\powerlaw.py:1170: RuntimeWarning: invalid value encountered in scalar divide\n",
      "  return 1 + len(data)/sum(log(data / (self.xmin)))\n",
      "Not enough data. Returning nan\n",
      "Not enough data. Returning nan\n",
      "c:\\Users\\user\\anaconda3\\lib\\site-packages\\numpy\\core\\fromnumeric.py:3504: RuntimeWarning: Mean of empty slice.\n",
      "  return _methods._mean(a, axis=axis, dtype=dtype,\n",
      "c:\\Users\\user\\anaconda3\\lib\\site-packages\\numpy\\core\\_methods.py:129: RuntimeWarning: invalid value encountered in scalar divide\n",
      "  ret = ret.dtype.type(ret / rcount)\n",
      "No valid fits found.\n",
      "Not enough data. Returning nan\n",
      "Assuming nested distributions\n",
      "c:\\Users\\user\\anaconda3\\lib\\site-packages\\powerlaw.py:1383: RuntimeWarning: invalid value encountered in scalar divide\n",
      "  alpha = 1 + len(data)/sum( log( data / (self.xmin) ))\n",
      "No valid fits found.\n",
      "Not enough data. Returning nan\n",
      "c:\\Users\\user\\anaconda3\\lib\\site-packages\\numpy\\core\\_methods.py:206: RuntimeWarning: Degrees of freedom <= 0 for slice\n",
      "  ret = _var(a, axis=axis, dtype=dtype, out=out, ddof=ddof,\n",
      "c:\\Users\\user\\anaconda3\\lib\\site-packages\\numpy\\core\\_methods.py:163: RuntimeWarning: invalid value encountered in divide\n",
      "  arrmean = um.true_divide(arrmean, div, out=arrmean,\n",
      "c:\\Users\\user\\anaconda3\\lib\\site-packages\\numpy\\core\\_methods.py:198: RuntimeWarning: invalid value encountered in scalar divide\n",
      "  ret = ret.dtype.type(ret / rcount)\n",
      "No valid fits found.\n",
      "Not enough data. Returning nan\n",
      "Less than 2 unique data values left after xmin and xmax options! Cannot fit. Returning nans.\n",
      "Not enough data. Returning nan\n",
      "Not enough data. Returning nan\n",
      "No valid fits found.\n",
      "Not enough data. Returning nan\n",
      "Assuming nested distributions\n",
      "No valid fits found.\n",
      "Not enough data. Returning nan\n",
      "No valid fits found.\n",
      "Not enough data. Returning nan\n",
      "Less than 2 unique data values left after xmin and xmax options! Cannot fit. Returning nans.\n",
      "Not enough data. Returning nan\n",
      "Not enough data. Returning nan\n",
      "No valid fits found.\n",
      "Not enough data. Returning nan\n",
      "Assuming nested distributions\n",
      "No valid fits found.\n",
      "Not enough data. Returning nan\n",
      "No valid fits found.\n",
      "Not enough data. Returning nan\n",
      "Less than 2 unique data values left after xmin and xmax options! Cannot fit. Returning nans.\n",
      "Not enough data. Returning nan\n",
      "Not enough data. Returning nan\n",
      "No valid fits found.\n",
      "Not enough data. Returning nan\n",
      "Assuming nested distributions\n",
      "No valid fits found.\n",
      "Not enough data. Returning nan\n",
      "No valid fits found.\n",
      "Not enough data. Returning nan\n",
      "Less than 2 unique data values left after xmin and xmax options! Cannot fit. Returning nans.\n",
      "Not enough data. Returning nan\n",
      "Not enough data. Returning nan\n",
      "No valid fits found.\n",
      "Not enough data. Returning nan\n",
      "Assuming nested distributions\n",
      "No valid fits found.\n",
      "Not enough data. Returning nan\n",
      "No valid fits found.\n",
      "Not enough data. Returning nan\n",
      "Less than 2 unique data values left after xmin and xmax options! Cannot fit. Returning nans.\n",
      "c:\\Users\\user\\anaconda3\\lib\\site-packages\\powerlaw.py:1151: RuntimeWarning: invalid value encountered in scalar divide\n",
      "  self.alpha = 1 + (self.n / sum(log(data/self.xmin)))\n",
      "c:\\Users\\user\\anaconda3\\lib\\site-packages\\powerlaw.py:1170: RuntimeWarning: invalid value encountered in scalar divide\n",
      "  return 1 + len(data)/sum(log(data / (self.xmin)))\n",
      "Not enough data. Returning nan\n",
      "Not enough data. Returning nan\n",
      "c:\\Users\\user\\anaconda3\\lib\\site-packages\\numpy\\core\\fromnumeric.py:3504: RuntimeWarning: Mean of empty slice.\n",
      "  return _methods._mean(a, axis=axis, dtype=dtype,\n",
      "c:\\Users\\user\\anaconda3\\lib\\site-packages\\numpy\\core\\_methods.py:129: RuntimeWarning: invalid value encountered in scalar divide\n",
      "  ret = ret.dtype.type(ret / rcount)\n",
      "No valid fits found.\n",
      "Not enough data. Returning nan\n",
      "Assuming nested distributions\n",
      "c:\\Users\\user\\anaconda3\\lib\\site-packages\\powerlaw.py:1383: RuntimeWarning: invalid value encountered in scalar divide\n",
      "  alpha = 1 + len(data)/sum( log( data / (self.xmin) ))\n",
      "No valid fits found.\n",
      "Not enough data. Returning nan\n",
      "c:\\Users\\user\\anaconda3\\lib\\site-packages\\numpy\\core\\_methods.py:206: RuntimeWarning: Degrees of freedom <= 0 for slice\n",
      "  ret = _var(a, axis=axis, dtype=dtype, out=out, ddof=ddof,\n",
      "c:\\Users\\user\\anaconda3\\lib\\site-packages\\numpy\\core\\_methods.py:163: RuntimeWarning: invalid value encountered in divide\n",
      "  arrmean = um.true_divide(arrmean, div, out=arrmean,\n",
      "c:\\Users\\user\\anaconda3\\lib\\site-packages\\numpy\\core\\_methods.py:198: RuntimeWarning: invalid value encountered in scalar divide\n",
      "  ret = ret.dtype.type(ret / rcount)\n",
      "No valid fits found.\n",
      "Not enough data. Returning nan\n",
      "Less than 2 unique data values left after xmin and xmax options! Cannot fit. Returning nans.\n",
      "Not enough data. Returning nan\n",
      "Not enough data. Returning nan\n",
      "No valid fits found.\n",
      "Not enough data. Returning nan\n",
      "Assuming nested distributions\n",
      "No valid fits found.\n",
      "Not enough data. Returning nan\n",
      "No valid fits found.\n",
      "Not enough data. Returning nan\n",
      "Less than 2 unique data values left after xmin and xmax options! Cannot fit. Returning nans.\n",
      "Not enough data. Returning nan\n",
      "Not enough data. Returning nan\n",
      "No valid fits found.\n",
      "Not enough data. Returning nan\n",
      "Assuming nested distributions\n",
      "No valid fits found.\n",
      "Not enough data. Returning nan\n",
      "No valid fits found.\n",
      "Not enough data. Returning nan\n",
      "Less than 2 unique data values left after xmin and xmax options! Cannot fit. Returning nans.\n",
      "Not enough data. Returning nan\n",
      "Not enough data. Returning nan\n",
      "No valid fits found.\n",
      "Not enough data. Returning nan\n",
      "Assuming nested distributions\n",
      "No valid fits found.\n",
      "Not enough data. Returning nan\n",
      "No valid fits found.\n",
      "Not enough data. Returning nan\n",
      "Less than 2 unique data values left after xmin and xmax options! Cannot fit. Returning nans.\n",
      "Not enough data. Returning nan\n",
      "Not enough data. Returning nan\n",
      "No valid fits found.\n",
      "Not enough data. Returning nan\n",
      "Assuming nested distributions\n",
      "No valid fits found.\n",
      "Not enough data. Returning nan\n",
      "No valid fits found.\n",
      "Not enough data. Returning nan\n",
      "Less than 2 unique data values left after xmin and xmax options! Cannot fit. Returning nans.\n",
      "c:\\Users\\user\\anaconda3\\lib\\site-packages\\powerlaw.py:1151: RuntimeWarning: invalid value encountered in scalar divide\n",
      "  self.alpha = 1 + (self.n / sum(log(data/self.xmin)))\n",
      "c:\\Users\\user\\anaconda3\\lib\\site-packages\\powerlaw.py:1170: RuntimeWarning: invalid value encountered in scalar divide\n",
      "  return 1 + len(data)/sum(log(data / (self.xmin)))\n",
      "Not enough data. Returning nan\n",
      "Not enough data. Returning nan\n",
      "c:\\Users\\user\\anaconda3\\lib\\site-packages\\numpy\\core\\fromnumeric.py:3504: RuntimeWarning: Mean of empty slice.\n",
      "  return _methods._mean(a, axis=axis, dtype=dtype,\n",
      "c:\\Users\\user\\anaconda3\\lib\\site-packages\\numpy\\core\\_methods.py:129: RuntimeWarning: invalid value encountered in scalar divide\n",
      "  ret = ret.dtype.type(ret / rcount)\n",
      "No valid fits found.\n",
      "Not enough data. Returning nan\n",
      "Assuming nested distributions\n",
      "c:\\Users\\user\\anaconda3\\lib\\site-packages\\powerlaw.py:1383: RuntimeWarning: invalid value encountered in scalar divide\n",
      "  alpha = 1 + len(data)/sum( log( data / (self.xmin) ))\n",
      "No valid fits found.\n",
      "Not enough data. Returning nan\n",
      "c:\\Users\\user\\anaconda3\\lib\\site-packages\\numpy\\core\\_methods.py:206: RuntimeWarning: Degrees of freedom <= 0 for slice\n",
      "  ret = _var(a, axis=axis, dtype=dtype, out=out, ddof=ddof,\n",
      "c:\\Users\\user\\anaconda3\\lib\\site-packages\\numpy\\core\\_methods.py:163: RuntimeWarning: invalid value encountered in divide\n",
      "  arrmean = um.true_divide(arrmean, div, out=arrmean,\n",
      "c:\\Users\\user\\anaconda3\\lib\\site-packages\\numpy\\core\\_methods.py:198: RuntimeWarning: invalid value encountered in scalar divide\n",
      "  ret = ret.dtype.type(ret / rcount)\n",
      "No valid fits found.\n",
      "Not enough data. Returning nan\n",
      "Less than 2 unique data values left after xmin and xmax options! Cannot fit. Returning nans.\n",
      "Not enough data. Returning nan\n",
      "Not enough data. Returning nan\n",
      "No valid fits found.\n",
      "Not enough data. Returning nan\n",
      "Assuming nested distributions\n",
      "No valid fits found.\n",
      "Not enough data. Returning nan\n",
      "No valid fits found.\n",
      "Not enough data. Returning nan\n",
      "Less than 2 unique data values left after xmin and xmax options! Cannot fit. Returning nans.\n",
      "Not enough data. Returning nan\n",
      "Not enough data. Returning nan\n",
      "No valid fits found.\n",
      "Not enough data. Returning nan\n",
      "Assuming nested distributions\n",
      "No valid fits found.\n",
      "Not enough data. Returning nan\n",
      "No valid fits found.\n",
      "Not enough data. Returning nan\n",
      "Less than 2 unique data values left after xmin and xmax options! Cannot fit. Returning nans.\n",
      "Not enough data. Returning nan\n",
      "Not enough data. Returning nan\n",
      "No valid fits found.\n",
      "Not enough data. Returning nan\n",
      "Assuming nested distributions\n",
      "No valid fits found.\n",
      "Not enough data. Returning nan\n",
      "No valid fits found.\n",
      "Not enough data. Returning nan\n",
      "Less than 2 unique data values left after xmin and xmax options! Cannot fit. Returning nans.\n",
      "Not enough data. Returning nan\n",
      "Not enough data. Returning nan\n",
      "No valid fits found.\n",
      "Not enough data. Returning nan\n",
      "Assuming nested distributions\n",
      "No valid fits found.\n",
      "Not enough data. Returning nan\n",
      "No valid fits found.\n",
      "Not enough data. Returning nan\n",
      "Less than 2 unique data values left after xmin and xmax options! Cannot fit. Returning nans.\n",
      "c:\\Users\\user\\anaconda3\\lib\\site-packages\\powerlaw.py:1151: RuntimeWarning: invalid value encountered in scalar divide\n",
      "  self.alpha = 1 + (self.n / sum(log(data/self.xmin)))\n",
      "c:\\Users\\user\\anaconda3\\lib\\site-packages\\powerlaw.py:1170: RuntimeWarning: invalid value encountered in scalar divide\n",
      "  return 1 + len(data)/sum(log(data / (self.xmin)))\n",
      "Not enough data. Returning nan\n",
      "Not enough data. Returning nan\n",
      "c:\\Users\\user\\anaconda3\\lib\\site-packages\\numpy\\core\\fromnumeric.py:3504: RuntimeWarning: Mean of empty slice.\n",
      "  return _methods._mean(a, axis=axis, dtype=dtype,\n",
      "c:\\Users\\user\\anaconda3\\lib\\site-packages\\numpy\\core\\_methods.py:129: RuntimeWarning: invalid value encountered in scalar divide\n",
      "  ret = ret.dtype.type(ret / rcount)\n",
      "No valid fits found.\n",
      "Not enough data. Returning nan\n",
      "Assuming nested distributions\n",
      "c:\\Users\\user\\anaconda3\\lib\\site-packages\\powerlaw.py:1383: RuntimeWarning: invalid value encountered in scalar divide\n",
      "  alpha = 1 + len(data)/sum( log( data / (self.xmin) ))\n",
      "No valid fits found.\n",
      "Not enough data. Returning nan\n",
      "c:\\Users\\user\\anaconda3\\lib\\site-packages\\numpy\\core\\_methods.py:206: RuntimeWarning: Degrees of freedom <= 0 for slice\n",
      "  ret = _var(a, axis=axis, dtype=dtype, out=out, ddof=ddof,\n",
      "c:\\Users\\user\\anaconda3\\lib\\site-packages\\numpy\\core\\_methods.py:163: RuntimeWarning: invalid value encountered in divide\n",
      "  arrmean = um.true_divide(arrmean, div, out=arrmean,\n",
      "c:\\Users\\user\\anaconda3\\lib\\site-packages\\numpy\\core\\_methods.py:198: RuntimeWarning: invalid value encountered in scalar divide\n",
      "  ret = ret.dtype.type(ret / rcount)\n",
      "No valid fits found.\n",
      "Not enough data. Returning nan\n",
      "Less than 2 unique data values left after xmin and xmax options! Cannot fit. Returning nans.\n",
      "Not enough data. Returning nan\n",
      "Not enough data. Returning nan\n",
      "No valid fits found.\n",
      "Not enough data. Returning nan\n",
      "Assuming nested distributions\n",
      "No valid fits found.\n",
      "Not enough data. Returning nan\n",
      "No valid fits found.\n",
      "Not enough data. Returning nan\n",
      "Less than 2 unique data values left after xmin and xmax options! Cannot fit. Returning nans.\n",
      "Not enough data. Returning nan\n",
      "Not enough data. Returning nan\n",
      "No valid fits found.\n",
      "Not enough data. Returning nan\n",
      "Assuming nested distributions\n",
      "No valid fits found.\n",
      "Not enough data. Returning nan\n",
      "No valid fits found.\n",
      "Not enough data. Returning nan\n",
      "Less than 2 unique data values left after xmin and xmax options! Cannot fit. Returning nans.\n",
      "Not enough data. Returning nan\n",
      "Not enough data. Returning nan\n",
      "No valid fits found.\n",
      "Not enough data. Returning nan\n",
      "Assuming nested distributions\n",
      "No valid fits found.\n",
      "Not enough data. Returning nan\n",
      "No valid fits found.\n",
      "Not enough data. Returning nan\n",
      "Less than 2 unique data values left after xmin and xmax options! Cannot fit. Returning nans.\n",
      "Not enough data. Returning nan\n",
      "Not enough data. Returning nan\n",
      "No valid fits found.\n",
      "Not enough data. Returning nan\n",
      "Assuming nested distributions\n",
      "No valid fits found.\n",
      "Not enough data. Returning nan\n",
      "No valid fits found.\n",
      "Not enough data. Returning nan\n",
      "Less than 2 unique data values left after xmin and xmax options! Cannot fit. Returning nans.\n",
      "c:\\Users\\user\\anaconda3\\lib\\site-packages\\powerlaw.py:1151: RuntimeWarning: invalid value encountered in scalar divide\n",
      "  self.alpha = 1 + (self.n / sum(log(data/self.xmin)))\n",
      "c:\\Users\\user\\anaconda3\\lib\\site-packages\\powerlaw.py:1170: RuntimeWarning: invalid value encountered in scalar divide\n",
      "  return 1 + len(data)/sum(log(data / (self.xmin)))\n",
      "Not enough data. Returning nan\n",
      "Not enough data. Returning nan\n",
      "c:\\Users\\user\\anaconda3\\lib\\site-packages\\numpy\\core\\fromnumeric.py:3504: RuntimeWarning: Mean of empty slice.\n",
      "  return _methods._mean(a, axis=axis, dtype=dtype,\n",
      "c:\\Users\\user\\anaconda3\\lib\\site-packages\\numpy\\core\\_methods.py:129: RuntimeWarning: invalid value encountered in scalar divide\n",
      "  ret = ret.dtype.type(ret / rcount)\n",
      "No valid fits found.\n",
      "Not enough data. Returning nan\n",
      "Assuming nested distributions\n",
      "c:\\Users\\user\\anaconda3\\lib\\site-packages\\powerlaw.py:1383: RuntimeWarning: invalid value encountered in scalar divide\n",
      "  alpha = 1 + len(data)/sum( log( data / (self.xmin) ))\n",
      "No valid fits found.\n",
      "Not enough data. Returning nan\n",
      "c:\\Users\\user\\anaconda3\\lib\\site-packages\\numpy\\core\\_methods.py:206: RuntimeWarning: Degrees of freedom <= 0 for slice\n",
      "  ret = _var(a, axis=axis, dtype=dtype, out=out, ddof=ddof,\n",
      "c:\\Users\\user\\anaconda3\\lib\\site-packages\\numpy\\core\\_methods.py:163: RuntimeWarning: invalid value encountered in divide\n",
      "  arrmean = um.true_divide(arrmean, div, out=arrmean,\n",
      "c:\\Users\\user\\anaconda3\\lib\\site-packages\\numpy\\core\\_methods.py:198: RuntimeWarning: invalid value encountered in scalar divide\n",
      "  ret = ret.dtype.type(ret / rcount)\n",
      "No valid fits found.\n",
      "Not enough data. Returning nan\n",
      "Less than 2 unique data values left after xmin and xmax options! Cannot fit. Returning nans.\n",
      "Not enough data. Returning nan\n",
      "Not enough data. Returning nan\n",
      "No valid fits found.\n",
      "Not enough data. Returning nan\n",
      "Assuming nested distributions\n",
      "No valid fits found.\n",
      "Not enough data. Returning nan\n",
      "No valid fits found.\n",
      "Not enough data. Returning nan\n",
      "Less than 2 unique data values left after xmin and xmax options! Cannot fit. Returning nans.\n",
      "Not enough data. Returning nan\n",
      "Not enough data. Returning nan\n",
      "No valid fits found.\n",
      "Not enough data. Returning nan\n",
      "Assuming nested distributions\n",
      "No valid fits found.\n",
      "Not enough data. Returning nan\n",
      "No valid fits found.\n",
      "Not enough data. Returning nan\n",
      "Less than 2 unique data values left after xmin and xmax options! Cannot fit. Returning nans.\n",
      "Not enough data. Returning nan\n",
      "Not enough data. Returning nan\n",
      "No valid fits found.\n",
      "Not enough data. Returning nan\n",
      "Assuming nested distributions\n",
      "No valid fits found.\n",
      "Not enough data. Returning nan\n",
      "No valid fits found.\n",
      "Not enough data. Returning nan\n",
      "Less than 2 unique data values left after xmin and xmax options! Cannot fit. Returning nans.\n",
      "Not enough data. Returning nan\n",
      "Not enough data. Returning nan\n",
      "No valid fits found.\n",
      "Not enough data. Returning nan\n",
      "Assuming nested distributions\n",
      "No valid fits found.\n",
      "Not enough data. Returning nan\n",
      "No valid fits found.\n",
      "Not enough data. Returning nan\n"
     ]
    }
   ],
   "source": [
    "# Grid size \n",
    "L = 50\n",
    "f = 125\n",
    "parameter_to_change = 'L'\n",
    "range_min = 10\n",
    "range_max = 610\n",
    "range_step = 20\n",
    "time_steps = 10 ** 5\n",
    "instances = 30\n",
    "include_lakes = False\n",
    "lake_proportion = 0\n",
    "\n",
    "sensitivity_L = SensitivityAnal(L,f,parameter_to_change, range_min, range_max, range_step, \n",
    "                                       time_steps, instances, include_lakes, lake_proportion)\n",
    "sensitivity_L.run()\n"
   ]
  },
  {
   "cell_type": "code",
   "execution_count": 8,
   "metadata": {},
   "outputs": [
    {
     "data": {
      "image/png": "[encoded data removed]",
      "text/plain": [
       "<Figure size 432x288 with 1 Axes>"
      ]
     },
     "metadata": {
      "needs_background": "light"
     },
     "output_type": "display_data"
    },
    {
     "ename": "KeyboardInterrupt",
     "evalue": "",
     "output_type": "error",
     "traceback": [
      "\u001b[1;31m---------------------------------------------------------------------------\u001b[0m",
      "\u001b[1;31mKeyboardInterrupt\u001b[0m                         Traceback (most recent call last)",
      "\u001b[1;32m~\\AppData\\Local\\Temp/ipykernel_10724/1326634736.py\u001b[0m in \u001b[0;36m<module>\u001b[1;34m\u001b[0m\n\u001b[0;32m      1\u001b[0m \u001b[1;31m# Make plots based on previous simulation\u001b[0m\u001b[1;33m\u001b[0m\u001b[1;33m\u001b[0m\u001b[0m\n\u001b[0;32m      2\u001b[0m \u001b[0msensitivity_L\u001b[0m\u001b[1;33m.\u001b[0m\u001b[0mmake_distributions_plots\u001b[0m\u001b[1;33m(\u001b[0m\u001b[1;33m)\u001b[0m\u001b[1;33m\u001b[0m\u001b[1;33m\u001b[0m\u001b[0m\n\u001b[1;32m----> 3\u001b[1;33m \u001b[0msensitivity_L\u001b[0m\u001b[1;33m.\u001b[0m\u001b[0mmake_stability_plot\u001b[0m\u001b[1;33m(\u001b[0m\u001b[1;33m)\u001b[0m\u001b[1;33m\u001b[0m\u001b[1;33m\u001b[0m\u001b[0m\n\u001b[0m\u001b[0;32m      4\u001b[0m \u001b[0msensitivity_L\u001b[0m\u001b[1;33m.\u001b[0m\u001b[0mplot_average_tree_densities\u001b[0m\u001b[1;33m(\u001b[0m\u001b[1;33m)\u001b[0m\u001b[1;33m\u001b[0m\u001b[1;33m\u001b[0m\u001b[0m\n\u001b[0;32m      5\u001b[0m \u001b[0msensitivity_L\u001b[0m\u001b[1;33m.\u001b[0m\u001b[0mmake_mean_fire_size_boxplot\u001b[0m\u001b[1;33m(\u001b[0m\u001b[1;33m)\u001b[0m\u001b[1;33m\u001b[0m\u001b[1;33m\u001b[0m\u001b[0m\n",
      "\u001b[1;32mc:\\Users\\user\\OneDrive - UvA\\Desktop\\Master\\Complex_Systems\\Complex_Systems\\sensitivity_analysis.py\u001b[0m in \u001b[0;36mmake_stability_plot\u001b[1;34m(self, save, file)\u001b[0m\n\u001b[0;32m     72\u001b[0m             \u001b[0mplt\u001b[0m\u001b[1;33m.\u001b[0m\u001b[0msavefig\u001b[0m\u001b[1;33m(\u001b[0m\u001b[0mfile\u001b[0m\u001b[1;33m,\u001b[0m \u001b[0mtransparent\u001b[0m \u001b[1;33m=\u001b[0m \u001b[1;32mFalse\u001b[0m\u001b[1;33m,\u001b[0m \u001b[0mfacecolor\u001b[0m \u001b[1;33m=\u001b[0m \u001b[1;34m'white'\u001b[0m\u001b[1;33m)\u001b[0m\u001b[1;33m\u001b[0m\u001b[1;33m\u001b[0m\u001b[0m\n\u001b[0;32m     73\u001b[0m         \u001b[1;32melse\u001b[0m\u001b[1;33m:\u001b[0m\u001b[1;33m\u001b[0m\u001b[1;33m\u001b[0m\u001b[0m\n\u001b[1;32m---> 74\u001b[1;33m             \u001b[0mplt\u001b[0m\u001b[1;33m.\u001b[0m\u001b[0mshow\u001b[0m\u001b[1;33m(\u001b[0m\u001b[1;33m)\u001b[0m\u001b[1;33m\u001b[0m\u001b[1;33m\u001b[0m\u001b[0m\n\u001b[0m\u001b[0;32m     75\u001b[0m \u001b[1;33m\u001b[0m\u001b[0m\n\u001b[0;32m     76\u001b[0m     \u001b[1;32mdef\u001b[0m \u001b[0mmake_fire_duration_log_log_plot\u001b[0m\u001b[1;33m(\u001b[0m\u001b[0mself\u001b[0m\u001b[1;33m)\u001b[0m\u001b[1;33m:\u001b[0m\u001b[1;33m\u001b[0m\u001b[1;33m\u001b[0m\u001b[0m\n",
      "\u001b[1;32mc:\\Users\\user\\anaconda3\\lib\\site-packages\\matplotlib\\pyplot.py\u001b[0m in \u001b[0;36mshow\u001b[1;34m(*args, **kwargs)\u001b[0m\n\u001b[0;32m    525\u001b[0m     \"\"\"\n\u001b[0;32m    526\u001b[0m     \u001b[0m_warn_if_gui_out_of_main_thread\u001b[0m\u001b[1;33m(\u001b[0m\u001b[1;33m)\u001b[0m\u001b[1;33m\u001b[0m\u001b[1;33m\u001b[0m\u001b[0m\n\u001b[1;32m--> 527\u001b[1;33m     \u001b[1;32mreturn\u001b[0m \u001b[0m_get_backend_mod\u001b[0m\u001b[1;33m(\u001b[0m\u001b[1;33m)\u001b[0m\u001b[1;33m.\u001b[0m\u001b[0mshow\u001b[0m\u001b[1;33m(\u001b[0m\u001b[1;33m*\u001b[0m\u001b[0margs\u001b[0m\u001b[1;33m,\u001b[0m \u001b[1;33m**\u001b[0m\u001b[0mkwargs\u001b[0m\u001b[1;33m)\u001b[0m\u001b[1;33m\u001b[0m\u001b[1;33m\u001b[0m\u001b[0m\n\u001b[0m\u001b[0;32m    528\u001b[0m \u001b[1;33m\u001b[0m\u001b[0m\n\u001b[0;32m    529\u001b[0m \u001b[1;33m\u001b[0m\u001b[0m\n",
      "\u001b[1;32mc:\\Users\\user\\anaconda3\\lib\\site-packages\\matplotlib_inline\\backend_inline.py\u001b[0m in \u001b[0;36mshow\u001b[1;34m(close, block)\u001b[0m\n\u001b[0;32m     39\u001b[0m     \u001b[1;32mtry\u001b[0m\u001b[1;33m:\u001b[0m\u001b[1;33m\u001b[0m\u001b[1;33m\u001b[0m\u001b[0m\n\u001b[0;32m     40\u001b[0m         \u001b[1;32mfor\u001b[0m \u001b[0mfigure_manager\u001b[0m \u001b[1;32min\u001b[0m \u001b[0mGcf\u001b[0m\u001b[1;33m.\u001b[0m\u001b[0mget_all_fig_managers\u001b[0m\u001b[1;33m(\u001b[0m\u001b[1;33m)\u001b[0m\u001b[1;33m:\u001b[0m\u001b[1;33m\u001b[0m\u001b[1;33m\u001b[0m\u001b[0m\n\u001b[1;32m---> 41\u001b[1;33m             display(\n\u001b[0m\u001b[0;32m     42\u001b[0m                 \u001b[0mfigure_manager\u001b[0m\u001b[1;33m.\u001b[0m\u001b[0mcanvas\u001b[0m\u001b[1;33m.\u001b[0m\u001b[0mfigure\u001b[0m\u001b[1;33m,\u001b[0m\u001b[1;33m\u001b[0m\u001b[1;33m\u001b[0m\u001b[0m\n\u001b[0;32m     43\u001b[0m                 \u001b[0mmetadata\u001b[0m\u001b[1;33m=\u001b[0m\u001b[0m_fetch_figure_metadata\u001b[0m\u001b[1;33m(\u001b[0m\u001b[0mfigure_manager\u001b[0m\u001b[1;33m.\u001b[0m\u001b[0mcanvas\u001b[0m\u001b[1;33m.\u001b[0m\u001b[0mfigure\u001b[0m\u001b[1;33m)\u001b[0m\u001b[1;33m\u001b[0m\u001b[1;33m\u001b[0m\u001b[0m\n",
      "\u001b[1;32mc:\\Users\\user\\anaconda3\\lib\\site-packages\\IPython\\core\\display.py\u001b[0m in \u001b[0;36mdisplay\u001b[1;34m(include, exclude, metadata, transient, display_id, *objs, **kwargs)\u001b[0m\n\u001b[0;32m    318\u001b[0m             \u001b[0mpublish_display_data\u001b[0m\u001b[1;33m(\u001b[0m\u001b[0mdata\u001b[0m\u001b[1;33m=\u001b[0m\u001b[0mobj\u001b[0m\u001b[1;33m,\u001b[0m \u001b[0mmetadata\u001b[0m\u001b[1;33m=\u001b[0m\u001b[0mmetadata\u001b[0m\u001b[1;33m,\u001b[0m \u001b[1;33m**\u001b[0m\u001b[0mkwargs\u001b[0m\u001b[1;33m)\u001b[0m\u001b[1;33m\u001b[0m\u001b[1;33m\u001b[0m\u001b[0m\n\u001b[0;32m    319\u001b[0m         \u001b[1;32melse\u001b[0m\u001b[1;33m:\u001b[0m\u001b[1;33m\u001b[0m\u001b[1;33m\u001b[0m\u001b[0m\n\u001b[1;32m--> 320\u001b[1;33m             \u001b[0mformat_dict\u001b[0m\u001b[1;33m,\u001b[0m \u001b[0mmd_dict\u001b[0m \u001b[1;33m=\u001b[0m \u001b[0mformat\u001b[0m\u001b[1;33m(\u001b[0m\u001b[0mobj\u001b[0m\u001b[1;33m,\u001b[0m \u001b[0minclude\u001b[0m\u001b[1;33m=\u001b[0m\u001b[0minclude\u001b[0m\u001b[1;33m,\u001b[0m \u001b[0mexclude\u001b[0m\u001b[1;33m=\u001b[0m\u001b[0mexclude\u001b[0m\u001b[1;33m)\u001b[0m\u001b[1;33m\u001b[0m\u001b[1;33m\u001b[0m\u001b[0m\n\u001b[0m\u001b[0;32m    321\u001b[0m             \u001b[1;32mif\u001b[0m \u001b[1;32mnot\u001b[0m \u001b[0mformat_dict\u001b[0m\u001b[1;33m:\u001b[0m\u001b[1;33m\u001b[0m\u001b[1;33m\u001b[0m\u001b[0m\n\u001b[0;32m    322\u001b[0m                 \u001b[1;31m# nothing to display (e.g. _ipython_display_ took over)\u001b[0m\u001b[1;33m\u001b[0m\u001b[1;33m\u001b[0m\u001b[0m\n",
      "\u001b[1;32mc:\\Users\\user\\anaconda3\\lib\\site-packages\\IPython\\core\\formatters.py\u001b[0m in \u001b[0;36mformat\u001b[1;34m(self, obj, include, exclude)\u001b[0m\n\u001b[0;32m    178\u001b[0m             \u001b[0mmd\u001b[0m \u001b[1;33m=\u001b[0m \u001b[1;32mNone\u001b[0m\u001b[1;33m\u001b[0m\u001b[1;33m\u001b[0m\u001b[0m\n\u001b[0;32m    179\u001b[0m             \u001b[1;32mtry\u001b[0m\u001b[1;33m:\u001b[0m\u001b[1;33m\u001b[0m\u001b[1;33m\u001b[0m\u001b[0m\n\u001b[1;32m--> 180\u001b[1;33m                 \u001b[0mdata\u001b[0m \u001b[1;33m=\u001b[0m \u001b[0mformatter\u001b[0m\u001b[1;33m(\u001b[0m\u001b[0mobj\u001b[0m\u001b[1;33m)\u001b[0m\u001b[1;33m\u001b[0m\u001b[1;33m\u001b[0m\u001b[0m\n\u001b[0m\u001b[0;32m    181\u001b[0m             \u001b[1;32mexcept\u001b[0m\u001b[1;33m:\u001b[0m\u001b[1;33m\u001b[0m\u001b[1;33m\u001b[0m\u001b[0m\n\u001b[0;32m    182\u001b[0m                 \u001b[1;31m# FIXME: log the exception\u001b[0m\u001b[1;33m\u001b[0m\u001b[1;33m\u001b[0m\u001b[0m\n",
      "\u001b[1;32mc:\\Users\\user\\anaconda3\\lib\\site-packages\\decorator.py\u001b[0m in \u001b[0;36mfun\u001b[1;34m(*args, **kw)\u001b[0m\n\u001b[0;32m    230\u001b[0m             \u001b[1;32mif\u001b[0m \u001b[1;32mnot\u001b[0m \u001b[0mkwsyntax\u001b[0m\u001b[1;33m:\u001b[0m\u001b[1;33m\u001b[0m\u001b[1;33m\u001b[0m\u001b[0m\n\u001b[0;32m    231\u001b[0m                 \u001b[0margs\u001b[0m\u001b[1;33m,\u001b[0m \u001b[0mkw\u001b[0m \u001b[1;33m=\u001b[0m \u001b[0mfix\u001b[0m\u001b[1;33m(\u001b[0m\u001b[0margs\u001b[0m\u001b[1;33m,\u001b[0m \u001b[0mkw\u001b[0m\u001b[1;33m,\u001b[0m \u001b[0msig\u001b[0m\u001b[1;33m)\u001b[0m\u001b[1;33m\u001b[0m\u001b[1;33m\u001b[0m\u001b[0m\n\u001b[1;32m--> 232\u001b[1;33m             \u001b[1;32mreturn\u001b[0m \u001b[0mcaller\u001b[0m\u001b[1;33m(\u001b[0m\u001b[0mfunc\u001b[0m\u001b[1;33m,\u001b[0m \u001b[1;33m*\u001b[0m\u001b[1;33m(\u001b[0m\u001b[0mextras\u001b[0m \u001b[1;33m+\u001b[0m \u001b[0margs\u001b[0m\u001b[1;33m)\u001b[0m\u001b[1;33m,\u001b[0m \u001b[1;33m**\u001b[0m\u001b[0mkw\u001b[0m\u001b[1;33m)\u001b[0m\u001b[1;33m\u001b[0m\u001b[1;33m\u001b[0m\u001b[0m\n\u001b[0m\u001b[0;32m    233\u001b[0m     \u001b[0mfun\u001b[0m\u001b[1;33m.\u001b[0m\u001b[0m__name__\u001b[0m \u001b[1;33m=\u001b[0m \u001b[0mfunc\u001b[0m\u001b[1;33m.\u001b[0m\u001b[0m__name__\u001b[0m\u001b[1;33m\u001b[0m\u001b[1;33m\u001b[0m\u001b[0m\n\u001b[0;32m    234\u001b[0m     \u001b[0mfun\u001b[0m\u001b[1;33m.\u001b[0m\u001b[0m__doc__\u001b[0m \u001b[1;33m=\u001b[0m \u001b[0mfunc\u001b[0m\u001b[1;33m.\u001b[0m\u001b[0m__doc__\u001b[0m\u001b[1;33m\u001b[0m\u001b[1;33m\u001b[0m\u001b[0m\n",
      "\u001b[1;32mc:\\Users\\user\\anaconda3\\lib\\site-packages\\IPython\\core\\formatters.py\u001b[0m in \u001b[0;36mcatch_format_error\u001b[1;34m(method, self, *args, **kwargs)\u001b[0m\n\u001b[0;32m    222\u001b[0m     \u001b[1;34m\"\"\"show traceback on failed format call\"\"\"\u001b[0m\u001b[1;33m\u001b[0m\u001b[1;33m\u001b[0m\u001b[0m\n\u001b[0;32m    223\u001b[0m     \u001b[1;32mtry\u001b[0m\u001b[1;33m:\u001b[0m\u001b[1;33m\u001b[0m\u001b[1;33m\u001b[0m\u001b[0m\n\u001b[1;32m--> 224\u001b[1;33m         \u001b[0mr\u001b[0m \u001b[1;33m=\u001b[0m \u001b[0mmethod\u001b[0m\u001b[1;33m(\u001b[0m\u001b[0mself\u001b[0m\u001b[1;33m,\u001b[0m \u001b[1;33m*\u001b[0m\u001b[0margs\u001b[0m\u001b[1;33m,\u001b[0m \u001b[1;33m**\u001b[0m\u001b[0mkwargs\u001b[0m\u001b[1;33m)\u001b[0m\u001b[1;33m\u001b[0m\u001b[1;33m\u001b[0m\u001b[0m\n\u001b[0m\u001b[0;32m    225\u001b[0m     \u001b[1;32mexcept\u001b[0m \u001b[0mNotImplementedError\u001b[0m\u001b[1;33m:\u001b[0m\u001b[1;33m\u001b[0m\u001b[1;33m\u001b[0m\u001b[0m\n\u001b[0;32m    226\u001b[0m         \u001b[1;31m# don't warn on NotImplementedErrors\u001b[0m\u001b[1;33m\u001b[0m\u001b[1;33m\u001b[0m\u001b[0m\n",
      "\u001b[1;32mc:\\Users\\user\\anaconda3\\lib\\site-packages\\IPython\\core\\formatters.py\u001b[0m in \u001b[0;36m__call__\u001b[1;34m(self, obj)\u001b[0m\n\u001b[0;32m    339\u001b[0m                 \u001b[1;32mpass\u001b[0m\u001b[1;33m\u001b[0m\u001b[1;33m\u001b[0m\u001b[0m\n\u001b[0;32m    340\u001b[0m             \u001b[1;32melse\u001b[0m\u001b[1;33m:\u001b[0m\u001b[1;33m\u001b[0m\u001b[1;33m\u001b[0m\u001b[0m\n\u001b[1;32m--> 341\u001b[1;33m                 \u001b[1;32mreturn\u001b[0m \u001b[0mprinter\u001b[0m\u001b[1;33m(\u001b[0m\u001b[0mobj\u001b[0m\u001b[1;33m)\u001b[0m\u001b[1;33m\u001b[0m\u001b[1;33m\u001b[0m\u001b[0m\n\u001b[0m\u001b[0;32m    342\u001b[0m             \u001b[1;31m# Finally look for special method names\u001b[0m\u001b[1;33m\u001b[0m\u001b[1;33m\u001b[0m\u001b[0m\n\u001b[0;32m    343\u001b[0m             \u001b[0mmethod\u001b[0m \u001b[1;33m=\u001b[0m \u001b[0mget_real_method\u001b[0m\u001b[1;33m(\u001b[0m\u001b[0mobj\u001b[0m\u001b[1;33m,\u001b[0m \u001b[0mself\u001b[0m\u001b[1;33m.\u001b[0m\u001b[0mprint_method\u001b[0m\u001b[1;33m)\u001b[0m\u001b[1;33m\u001b[0m\u001b[1;33m\u001b[0m\u001b[0m\n",
      "\u001b[1;32mc:\\Users\\user\\anaconda3\\lib\\site-packages\\IPython\\core\\pylabtools.py\u001b[0m in \u001b[0;36mprint_figure\u001b[1;34m(fig, fmt, bbox_inches, base64, **kwargs)\u001b[0m\n\u001b[0;32m    149\u001b[0m         \u001b[0mFigureCanvasBase\u001b[0m\u001b[1;33m(\u001b[0m\u001b[0mfig\u001b[0m\u001b[1;33m)\u001b[0m\u001b[1;33m\u001b[0m\u001b[1;33m\u001b[0m\u001b[0m\n\u001b[0;32m    150\u001b[0m \u001b[1;33m\u001b[0m\u001b[0m\n\u001b[1;32m--> 151\u001b[1;33m     \u001b[0mfig\u001b[0m\u001b[1;33m.\u001b[0m\u001b[0mcanvas\u001b[0m\u001b[1;33m.\u001b[0m\u001b[0mprint_figure\u001b[0m\u001b[1;33m(\u001b[0m\u001b[0mbytes_io\u001b[0m\u001b[1;33m,\u001b[0m \u001b[1;33m**\u001b[0m\u001b[0mkw\u001b[0m\u001b[1;33m)\u001b[0m\u001b[1;33m\u001b[0m\u001b[1;33m\u001b[0m\u001b[0m\n\u001b[0m\u001b[0;32m    152\u001b[0m     \u001b[0mdata\u001b[0m \u001b[1;33m=\u001b[0m \u001b[0mbytes_io\u001b[0m\u001b[1;33m.\u001b[0m\u001b[0mgetvalue\u001b[0m\u001b[1;33m(\u001b[0m\u001b[1;33m)\u001b[0m\u001b[1;33m\u001b[0m\u001b[1;33m\u001b[0m\u001b[0m\n\u001b[0;32m    153\u001b[0m     \u001b[1;32mif\u001b[0m \u001b[0mfmt\u001b[0m \u001b[1;33m==\u001b[0m \u001b[1;34m'svg'\u001b[0m\u001b[1;33m:\u001b[0m\u001b[1;33m\u001b[0m\u001b[1;33m\u001b[0m\u001b[0m\n",
      "\u001b[1;32mc:\\Users\\user\\anaconda3\\lib\\site-packages\\matplotlib\\backend_bases.py\u001b[0m in \u001b[0;36mprint_figure\u001b[1;34m(self, filename, dpi, facecolor, edgecolor, orientation, format, bbox_inches, pad_inches, bbox_extra_artists, backend, **kwargs)\u001b[0m\n\u001b[0;32m   2191\u001b[0m                 \u001b[1;31m# force the figure dpi to 72), so we need to set it again here.\u001b[0m\u001b[1;33m\u001b[0m\u001b[1;33m\u001b[0m\u001b[0m\n\u001b[0;32m   2192\u001b[0m                 \u001b[1;32mwith\u001b[0m \u001b[0mcbook\u001b[0m\u001b[1;33m.\u001b[0m\u001b[0m_setattr_cm\u001b[0m\u001b[1;33m(\u001b[0m\u001b[0mself\u001b[0m\u001b[1;33m.\u001b[0m\u001b[0mfigure\u001b[0m\u001b[1;33m,\u001b[0m \u001b[0mdpi\u001b[0m\u001b[1;33m=\u001b[0m\u001b[0mdpi\u001b[0m\u001b[1;33m)\u001b[0m\u001b[1;33m:\u001b[0m\u001b[1;33m\u001b[0m\u001b[1;33m\u001b[0m\u001b[0m\n\u001b[1;32m-> 2193\u001b[1;33m                     result = print_method(\n\u001b[0m\u001b[0;32m   2194\u001b[0m                         \u001b[0mfilename\u001b[0m\u001b[1;33m,\u001b[0m\u001b[1;33m\u001b[0m\u001b[1;33m\u001b[0m\u001b[0m\n\u001b[0;32m   2195\u001b[0m                         \u001b[0mfacecolor\u001b[0m\u001b[1;33m=\u001b[0m\u001b[0mfacecolor\u001b[0m\u001b[1;33m,\u001b[0m\u001b[1;33m\u001b[0m\u001b[1;33m\u001b[0m\u001b[0m\n",
      "\u001b[1;32mc:\\Users\\user\\anaconda3\\lib\\site-packages\\matplotlib\\backend_bases.py\u001b[0m in \u001b[0;36m<lambda>\u001b[1;34m(*args, **kwargs)\u001b[0m\n\u001b[0;32m   2041\u001b[0m                 \"bbox_inches_restore\"}\n\u001b[0;32m   2042\u001b[0m             \u001b[0mskip\u001b[0m \u001b[1;33m=\u001b[0m \u001b[0moptional_kws\u001b[0m \u001b[1;33m-\u001b[0m \u001b[1;33m{\u001b[0m\u001b[1;33m*\u001b[0m\u001b[0minspect\u001b[0m\u001b[1;33m.\u001b[0m\u001b[0msignature\u001b[0m\u001b[1;33m(\u001b[0m\u001b[0mmeth\u001b[0m\u001b[1;33m)\u001b[0m\u001b[1;33m.\u001b[0m\u001b[0mparameters\u001b[0m\u001b[1;33m}\u001b[0m\u001b[1;33m\u001b[0m\u001b[1;33m\u001b[0m\u001b[0m\n\u001b[1;32m-> 2043\u001b[1;33m             print_method = functools.wraps(meth)(lambda *args, **kwargs: meth(\n\u001b[0m\u001b[0;32m   2044\u001b[0m                 *args, **{k: v for k, v in kwargs.items() if k not in skip}))\n\u001b[0;32m   2045\u001b[0m         \u001b[1;32melse\u001b[0m\u001b[1;33m:\u001b[0m  \u001b[1;31m# Let third-parties do as they see fit.\u001b[0m\u001b[1;33m\u001b[0m\u001b[1;33m\u001b[0m\u001b[0m\n",
      "\u001b[1;32mc:\\Users\\user\\anaconda3\\lib\\site-packages\\matplotlib\\backends\\backend_agg.py\u001b[0m in \u001b[0;36mprint_png\u001b[1;34m(self, filename_or_obj, metadata, pil_kwargs)\u001b[0m\n\u001b[0;32m    495\u001b[0m             \u001b[1;33m*\u001b[0m\u001b[0mmetadata\u001b[0m\u001b[1;33m*\u001b[0m\u001b[1;33m,\u001b[0m \u001b[0mincluding\u001b[0m \u001b[0mthe\u001b[0m \u001b[0mdefault\u001b[0m \u001b[1;34m'Software'\u001b[0m \u001b[0mkey\u001b[0m\u001b[1;33m.\u001b[0m\u001b[1;33m\u001b[0m\u001b[1;33m\u001b[0m\u001b[0m\n\u001b[0;32m    496\u001b[0m         \"\"\"\n\u001b[1;32m--> 497\u001b[1;33m         \u001b[0mself\u001b[0m\u001b[1;33m.\u001b[0m\u001b[0m_print_pil\u001b[0m\u001b[1;33m(\u001b[0m\u001b[0mfilename_or_obj\u001b[0m\u001b[1;33m,\u001b[0m \u001b[1;34m\"png\"\u001b[0m\u001b[1;33m,\u001b[0m \u001b[0mpil_kwargs\u001b[0m\u001b[1;33m,\u001b[0m \u001b[0mmetadata\u001b[0m\u001b[1;33m)\u001b[0m\u001b[1;33m\u001b[0m\u001b[1;33m\u001b[0m\u001b[0m\n\u001b[0m\u001b[0;32m    498\u001b[0m \u001b[1;33m\u001b[0m\u001b[0m\n\u001b[0;32m    499\u001b[0m     \u001b[1;32mdef\u001b[0m \u001b[0mprint_to_buffer\u001b[0m\u001b[1;33m(\u001b[0m\u001b[0mself\u001b[0m\u001b[1;33m)\u001b[0m\u001b[1;33m:\u001b[0m\u001b[1;33m\u001b[0m\u001b[1;33m\u001b[0m\u001b[0m\n",
      "\u001b[1;32mc:\\Users\\user\\anaconda3\\lib\\site-packages\\matplotlib\\backends\\backend_agg.py\u001b[0m in \u001b[0;36m_print_pil\u001b[1;34m(self, filename_or_obj, fmt, pil_kwargs, metadata)\u001b[0m\n\u001b[0;32m    443\u001b[0m         *pil_kwargs* and *metadata* are forwarded).\n\u001b[0;32m    444\u001b[0m         \"\"\"\n\u001b[1;32m--> 445\u001b[1;33m         \u001b[0mFigureCanvasAgg\u001b[0m\u001b[1;33m.\u001b[0m\u001b[0mdraw\u001b[0m\u001b[1;33m(\u001b[0m\u001b[0mself\u001b[0m\u001b[1;33m)\u001b[0m\u001b[1;33m\u001b[0m\u001b[1;33m\u001b[0m\u001b[0m\n\u001b[0m\u001b[0;32m    446\u001b[0m         mpl.image.imsave(\n\u001b[0;32m    447\u001b[0m             \u001b[0mfilename_or_obj\u001b[0m\u001b[1;33m,\u001b[0m \u001b[0mself\u001b[0m\u001b[1;33m.\u001b[0m\u001b[0mbuffer_rgba\u001b[0m\u001b[1;33m(\u001b[0m\u001b[1;33m)\u001b[0m\u001b[1;33m,\u001b[0m \u001b[0mformat\u001b[0m\u001b[1;33m=\u001b[0m\u001b[0mfmt\u001b[0m\u001b[1;33m,\u001b[0m \u001b[0morigin\u001b[0m\u001b[1;33m=\u001b[0m\u001b[1;34m\"upper\"\u001b[0m\u001b[1;33m,\u001b[0m\u001b[1;33m\u001b[0m\u001b[1;33m\u001b[0m\u001b[0m\n",
      "\u001b[1;32mc:\\Users\\user\\anaconda3\\lib\\site-packages\\matplotlib\\backends\\backend_agg.py\u001b[0m in \u001b[0;36mdraw\u001b[1;34m(self)\u001b[0m\n\u001b[0;32m    386\u001b[0m         with (self.toolbar._wait_cursor_for_draw_cm() if self.toolbar\n\u001b[0;32m    387\u001b[0m               else nullcontext()):\n\u001b[1;32m--> 388\u001b[1;33m             \u001b[0mself\u001b[0m\u001b[1;33m.\u001b[0m\u001b[0mfigure\u001b[0m\u001b[1;33m.\u001b[0m\u001b[0mdraw\u001b[0m\u001b[1;33m(\u001b[0m\u001b[0mself\u001b[0m\u001b[1;33m.\u001b[0m\u001b[0mrenderer\u001b[0m\u001b[1;33m)\u001b[0m\u001b[1;33m\u001b[0m\u001b[1;33m\u001b[0m\u001b[0m\n\u001b[0m\u001b[0;32m    389\u001b[0m             \u001b[1;31m# A GUI class may be need to update a window using this draw, so\u001b[0m\u001b[1;33m\u001b[0m\u001b[1;33m\u001b[0m\u001b[0m\n\u001b[0;32m    390\u001b[0m             \u001b[1;31m# don't forget to call the superclass.\u001b[0m\u001b[1;33m\u001b[0m\u001b[1;33m\u001b[0m\u001b[0m\n",
      "\u001b[1;32mc:\\Users\\user\\anaconda3\\lib\\site-packages\\matplotlib\\artist.py\u001b[0m in \u001b[0;36mdraw_wrapper\u001b[1;34m(artist, renderer, *args, **kwargs)\u001b[0m\n\u001b[0;32m     93\u001b[0m     \u001b[1;33m@\u001b[0m\u001b[0mwraps\u001b[0m\u001b[1;33m(\u001b[0m\u001b[0mdraw\u001b[0m\u001b[1;33m)\u001b[0m\u001b[1;33m\u001b[0m\u001b[1;33m\u001b[0m\u001b[0m\n\u001b[0;32m     94\u001b[0m     \u001b[1;32mdef\u001b[0m \u001b[0mdraw_wrapper\u001b[0m\u001b[1;33m(\u001b[0m\u001b[0martist\u001b[0m\u001b[1;33m,\u001b[0m \u001b[0mrenderer\u001b[0m\u001b[1;33m,\u001b[0m \u001b[1;33m*\u001b[0m\u001b[0margs\u001b[0m\u001b[1;33m,\u001b[0m \u001b[1;33m**\u001b[0m\u001b[0mkwargs\u001b[0m\u001b[1;33m)\u001b[0m\u001b[1;33m:\u001b[0m\u001b[1;33m\u001b[0m\u001b[1;33m\u001b[0m\u001b[0m\n\u001b[1;32m---> 95\u001b[1;33m         \u001b[0mresult\u001b[0m \u001b[1;33m=\u001b[0m \u001b[0mdraw\u001b[0m\u001b[1;33m(\u001b[0m\u001b[0martist\u001b[0m\u001b[1;33m,\u001b[0m \u001b[0mrenderer\u001b[0m\u001b[1;33m,\u001b[0m \u001b[1;33m*\u001b[0m\u001b[0margs\u001b[0m\u001b[1;33m,\u001b[0m \u001b[1;33m**\u001b[0m\u001b[0mkwargs\u001b[0m\u001b[1;33m)\u001b[0m\u001b[1;33m\u001b[0m\u001b[1;33m\u001b[0m\u001b[0m\n\u001b[0m\u001b[0;32m     96\u001b[0m         \u001b[1;32mif\u001b[0m \u001b[0mrenderer\u001b[0m\u001b[1;33m.\u001b[0m\u001b[0m_rasterizing\u001b[0m\u001b[1;33m:\u001b[0m\u001b[1;33m\u001b[0m\u001b[1;33m\u001b[0m\u001b[0m\n\u001b[0;32m     97\u001b[0m             \u001b[0mrenderer\u001b[0m\u001b[1;33m.\u001b[0m\u001b[0mstop_rasterizing\u001b[0m\u001b[1;33m(\u001b[0m\u001b[1;33m)\u001b[0m\u001b[1;33m\u001b[0m\u001b[1;33m\u001b[0m\u001b[0m\n",
      "\u001b[1;32mc:\\Users\\user\\anaconda3\\lib\\site-packages\\matplotlib\\artist.py\u001b[0m in \u001b[0;36mdraw_wrapper\u001b[1;34m(artist, renderer)\u001b[0m\n\u001b[0;32m     70\u001b[0m                 \u001b[0mrenderer\u001b[0m\u001b[1;33m.\u001b[0m\u001b[0mstart_filter\u001b[0m\u001b[1;33m(\u001b[0m\u001b[1;33m)\u001b[0m\u001b[1;33m\u001b[0m\u001b[1;33m\u001b[0m\u001b[0m\n\u001b[0;32m     71\u001b[0m \u001b[1;33m\u001b[0m\u001b[0m\n\u001b[1;32m---> 72\u001b[1;33m             \u001b[1;32mreturn\u001b[0m \u001b[0mdraw\u001b[0m\u001b[1;33m(\u001b[0m\u001b[0martist\u001b[0m\u001b[1;33m,\u001b[0m \u001b[0mrenderer\u001b[0m\u001b[1;33m)\u001b[0m\u001b[1;33m\u001b[0m\u001b[1;33m\u001b[0m\u001b[0m\n\u001b[0m\u001b[0;32m     73\u001b[0m         \u001b[1;32mfinally\u001b[0m\u001b[1;33m:\u001b[0m\u001b[1;33m\u001b[0m\u001b[1;33m\u001b[0m\u001b[0m\n\u001b[0;32m     74\u001b[0m             \u001b[1;32mif\u001b[0m \u001b[0martist\u001b[0m\u001b[1;33m.\u001b[0m\u001b[0mget_agg_filter\u001b[0m\u001b[1;33m(\u001b[0m\u001b[1;33m)\u001b[0m \u001b[1;32mis\u001b[0m \u001b[1;32mnot\u001b[0m \u001b[1;32mNone\u001b[0m\u001b[1;33m:\u001b[0m\u001b[1;33m\u001b[0m\u001b[1;33m\u001b[0m\u001b[0m\n",
      "\u001b[1;32mc:\\Users\\user\\anaconda3\\lib\\site-packages\\matplotlib\\figure.py\u001b[0m in \u001b[0;36mdraw\u001b[1;34m(self, renderer)\u001b[0m\n\u001b[0;32m   3152\u001b[0m \u001b[1;33m\u001b[0m\u001b[0m\n\u001b[0;32m   3153\u001b[0m                 \u001b[0mself\u001b[0m\u001b[1;33m.\u001b[0m\u001b[0mpatch\u001b[0m\u001b[1;33m.\u001b[0m\u001b[0mdraw\u001b[0m\u001b[1;33m(\u001b[0m\u001b[0mrenderer\u001b[0m\u001b[1;33m)\u001b[0m\u001b[1;33m\u001b[0m\u001b[1;33m\u001b[0m\u001b[0m\n\u001b[1;32m-> 3154\u001b[1;33m                 mimage._draw_list_compositing_images(\n\u001b[0m\u001b[0;32m   3155\u001b[0m                     renderer, self, artists, self.suppressComposite)\n\u001b[0;32m   3156\u001b[0m \u001b[1;33m\u001b[0m\u001b[0m\n",
      "\u001b[1;32mc:\\Users\\user\\anaconda3\\lib\\site-packages\\matplotlib\\image.py\u001b[0m in \u001b[0;36m_draw_list_compositing_images\u001b[1;34m(renderer, parent, artists, suppress_composite)\u001b[0m\n\u001b[0;32m    130\u001b[0m     \u001b[1;32mif\u001b[0m \u001b[0mnot_composite\u001b[0m \u001b[1;32mor\u001b[0m \u001b[1;32mnot\u001b[0m \u001b[0mhas_images\u001b[0m\u001b[1;33m:\u001b[0m\u001b[1;33m\u001b[0m\u001b[1;33m\u001b[0m\u001b[0m\n\u001b[0;32m    131\u001b[0m         \u001b[1;32mfor\u001b[0m \u001b[0ma\u001b[0m \u001b[1;32min\u001b[0m \u001b[0martists\u001b[0m\u001b[1;33m:\u001b[0m\u001b[1;33m\u001b[0m\u001b[1;33m\u001b[0m\u001b[0m\n\u001b[1;32m--> 132\u001b[1;33m             \u001b[0ma\u001b[0m\u001b[1;33m.\u001b[0m\u001b[0mdraw\u001b[0m\u001b[1;33m(\u001b[0m\u001b[0mrenderer\u001b[0m\u001b[1;33m)\u001b[0m\u001b[1;33m\u001b[0m\u001b[1;33m\u001b[0m\u001b[0m\n\u001b[0m\u001b[0;32m    133\u001b[0m     \u001b[1;32melse\u001b[0m\u001b[1;33m:\u001b[0m\u001b[1;33m\u001b[0m\u001b[1;33m\u001b[0m\u001b[0m\n\u001b[0;32m    134\u001b[0m         \u001b[1;31m# Composite any adjacent images together\u001b[0m\u001b[1;33m\u001b[0m\u001b[1;33m\u001b[0m\u001b[0m\n",
      "\u001b[1;32mc:\\Users\\user\\anaconda3\\lib\\site-packages\\matplotlib\\artist.py\u001b[0m in \u001b[0;36mdraw_wrapper\u001b[1;34m(artist, renderer)\u001b[0m\n\u001b[0;32m     70\u001b[0m                 \u001b[0mrenderer\u001b[0m\u001b[1;33m.\u001b[0m\u001b[0mstart_filter\u001b[0m\u001b[1;33m(\u001b[0m\u001b[1;33m)\u001b[0m\u001b[1;33m\u001b[0m\u001b[1;33m\u001b[0m\u001b[0m\n\u001b[0;32m     71\u001b[0m \u001b[1;33m\u001b[0m\u001b[0m\n\u001b[1;32m---> 72\u001b[1;33m             \u001b[1;32mreturn\u001b[0m \u001b[0mdraw\u001b[0m\u001b[1;33m(\u001b[0m\u001b[0martist\u001b[0m\u001b[1;33m,\u001b[0m \u001b[0mrenderer\u001b[0m\u001b[1;33m)\u001b[0m\u001b[1;33m\u001b[0m\u001b[1;33m\u001b[0m\u001b[0m\n\u001b[0m\u001b[0;32m     73\u001b[0m         \u001b[1;32mfinally\u001b[0m\u001b[1;33m:\u001b[0m\u001b[1;33m\u001b[0m\u001b[1;33m\u001b[0m\u001b[0m\n\u001b[0;32m     74\u001b[0m             \u001b[1;32mif\u001b[0m \u001b[0martist\u001b[0m\u001b[1;33m.\u001b[0m\u001b[0mget_agg_filter\u001b[0m\u001b[1;33m(\u001b[0m\u001b[1;33m)\u001b[0m \u001b[1;32mis\u001b[0m \u001b[1;32mnot\u001b[0m \u001b[1;32mNone\u001b[0m\u001b[1;33m:\u001b[0m\u001b[1;33m\u001b[0m\u001b[1;33m\u001b[0m\u001b[0m\n",
      "\u001b[1;32mc:\\Users\\user\\anaconda3\\lib\\site-packages\\matplotlib\\axes\\_base.py\u001b[0m in \u001b[0;36mdraw\u001b[1;34m(self, renderer)\u001b[0m\n\u001b[0;32m   3032\u001b[0m                 \u001b[0martists\u001b[0m\u001b[1;33m.\u001b[0m\u001b[0mremove\u001b[0m\u001b[1;33m(\u001b[0m\u001b[0mspine\u001b[0m\u001b[1;33m)\u001b[0m\u001b[1;33m\u001b[0m\u001b[1;33m\u001b[0m\u001b[0m\n\u001b[0;32m   3033\u001b[0m \u001b[1;33m\u001b[0m\u001b[0m\n\u001b[1;32m-> 3034\u001b[1;33m         \u001b[0mself\u001b[0m\u001b[1;33m.\u001b[0m\u001b[0m_update_title_position\u001b[0m\u001b[1;33m(\u001b[0m\u001b[0mrenderer\u001b[0m\u001b[1;33m)\u001b[0m\u001b[1;33m\u001b[0m\u001b[1;33m\u001b[0m\u001b[0m\n\u001b[0m\u001b[0;32m   3035\u001b[0m \u001b[1;33m\u001b[0m\u001b[0m\n\u001b[0;32m   3036\u001b[0m         \u001b[1;32mif\u001b[0m \u001b[1;32mnot\u001b[0m \u001b[0mself\u001b[0m\u001b[1;33m.\u001b[0m\u001b[0maxison\u001b[0m\u001b[1;33m:\u001b[0m\u001b[1;33m\u001b[0m\u001b[1;33m\u001b[0m\u001b[0m\n",
      "\u001b[1;32mc:\\Users\\user\\anaconda3\\lib\\site-packages\\matplotlib\\axes\\_base.py\u001b[0m in \u001b[0;36m_update_title_position\u001b[1;34m(self, renderer)\u001b[0m\n\u001b[0;32m   2986\u001b[0m                 \u001b[0m_log\u001b[0m\u001b[1;33m.\u001b[0m\u001b[0mdebug\u001b[0m\u001b[1;33m(\u001b[0m\u001b[1;34m'top of Axes not in the figure, so title not moved'\u001b[0m\u001b[1;33m)\u001b[0m\u001b[1;33m\u001b[0m\u001b[1;33m\u001b[0m\u001b[0m\n\u001b[0;32m   2987\u001b[0m                 \u001b[1;32mreturn\u001b[0m\u001b[1;33m\u001b[0m\u001b[1;33m\u001b[0m\u001b[0m\n\u001b[1;32m-> 2988\u001b[1;33m             \u001b[1;32mif\u001b[0m \u001b[0mtitle\u001b[0m\u001b[1;33m.\u001b[0m\u001b[0mget_window_extent\u001b[0m\u001b[1;33m(\u001b[0m\u001b[0mrenderer\u001b[0m\u001b[1;33m)\u001b[0m\u001b[1;33m.\u001b[0m\u001b[0mymin\u001b[0m \u001b[1;33m<\u001b[0m \u001b[0mtop\u001b[0m\u001b[1;33m:\u001b[0m\u001b[1;33m\u001b[0m\u001b[1;33m\u001b[0m\u001b[0m\n\u001b[0m\u001b[0;32m   2989\u001b[0m                 \u001b[0m_\u001b[0m\u001b[1;33m,\u001b[0m \u001b[0my\u001b[0m \u001b[1;33m=\u001b[0m \u001b[0mself\u001b[0m\u001b[1;33m.\u001b[0m\u001b[0mtransAxes\u001b[0m\u001b[1;33m.\u001b[0m\u001b[0minverted\u001b[0m\u001b[1;33m(\u001b[0m\u001b[1;33m)\u001b[0m\u001b[1;33m.\u001b[0m\u001b[0mtransform\u001b[0m\u001b[1;33m(\u001b[0m\u001b[1;33m(\u001b[0m\u001b[1;36m0\u001b[0m\u001b[1;33m,\u001b[0m \u001b[0mtop\u001b[0m\u001b[1;33m)\u001b[0m\u001b[1;33m)\u001b[0m\u001b[1;33m\u001b[0m\u001b[1;33m\u001b[0m\u001b[0m\n\u001b[0;32m   2990\u001b[0m                 \u001b[0mtitle\u001b[0m\u001b[1;33m.\u001b[0m\u001b[0mset_position\u001b[0m\u001b[1;33m(\u001b[0m\u001b[1;33m(\u001b[0m\u001b[0mx\u001b[0m\u001b[1;33m,\u001b[0m \u001b[0my\u001b[0m\u001b[1;33m)\u001b[0m\u001b[1;33m)\u001b[0m\u001b[1;33m\u001b[0m\u001b[1;33m\u001b[0m\u001b[0m\n",
      "\u001b[1;32mc:\\Users\\user\\anaconda3\\lib\\site-packages\\matplotlib\\text.py\u001b[0m in \u001b[0;36mget_window_extent\u001b[1;34m(self, renderer, dpi)\u001b[0m\n\u001b[0;32m    954\u001b[0m \u001b[1;33m\u001b[0m\u001b[0m\n\u001b[0;32m    955\u001b[0m         \u001b[1;32mwith\u001b[0m \u001b[0mcbook\u001b[0m\u001b[1;33m.\u001b[0m\u001b[0m_setattr_cm\u001b[0m\u001b[1;33m(\u001b[0m\u001b[0mself\u001b[0m\u001b[1;33m.\u001b[0m\u001b[0mfigure\u001b[0m\u001b[1;33m,\u001b[0m \u001b[0mdpi\u001b[0m\u001b[1;33m=\u001b[0m\u001b[0mdpi\u001b[0m\u001b[1;33m)\u001b[0m\u001b[1;33m:\u001b[0m\u001b[1;33m\u001b[0m\u001b[1;33m\u001b[0m\u001b[0m\n\u001b[1;32m--> 956\u001b[1;33m             \u001b[0mbbox\u001b[0m\u001b[1;33m,\u001b[0m \u001b[0minfo\u001b[0m\u001b[1;33m,\u001b[0m \u001b[0mdescent\u001b[0m \u001b[1;33m=\u001b[0m \u001b[0mself\u001b[0m\u001b[1;33m.\u001b[0m\u001b[0m_get_layout\u001b[0m\u001b[1;33m(\u001b[0m\u001b[0mself\u001b[0m\u001b[1;33m.\u001b[0m\u001b[0m_renderer\u001b[0m\u001b[1;33m)\u001b[0m\u001b[1;33m\u001b[0m\u001b[1;33m\u001b[0m\u001b[0m\n\u001b[0m\u001b[0;32m    957\u001b[0m             \u001b[0mx\u001b[0m\u001b[1;33m,\u001b[0m \u001b[0my\u001b[0m \u001b[1;33m=\u001b[0m \u001b[0mself\u001b[0m\u001b[1;33m.\u001b[0m\u001b[0mget_unitless_position\u001b[0m\u001b[1;33m(\u001b[0m\u001b[1;33m)\u001b[0m\u001b[1;33m\u001b[0m\u001b[1;33m\u001b[0m\u001b[0m\n\u001b[0;32m    958\u001b[0m             \u001b[0mx\u001b[0m\u001b[1;33m,\u001b[0m \u001b[0my\u001b[0m \u001b[1;33m=\u001b[0m \u001b[0mself\u001b[0m\u001b[1;33m.\u001b[0m\u001b[0mget_transform\u001b[0m\u001b[1;33m(\u001b[0m\u001b[1;33m)\u001b[0m\u001b[1;33m.\u001b[0m\u001b[0mtransform\u001b[0m\u001b[1;33m(\u001b[0m\u001b[1;33m(\u001b[0m\u001b[0mx\u001b[0m\u001b[1;33m,\u001b[0m \u001b[0my\u001b[0m\u001b[1;33m)\u001b[0m\u001b[1;33m)\u001b[0m\u001b[1;33m\u001b[0m\u001b[1;33m\u001b[0m\u001b[0m\n",
      "\u001b[1;32mc:\\Users\\user\\anaconda3\\lib\\site-packages\\matplotlib\\text.py\u001b[0m in \u001b[0;36m_get_layout\u001b[1;34m(self, renderer)\u001b[0m\n\u001b[0;32m    379\u001b[0m             \u001b[0mclean_line\u001b[0m\u001b[1;33m,\u001b[0m \u001b[0mismath\u001b[0m \u001b[1;33m=\u001b[0m \u001b[0mself\u001b[0m\u001b[1;33m.\u001b[0m\u001b[0m_preprocess_math\u001b[0m\u001b[1;33m(\u001b[0m\u001b[0mline\u001b[0m\u001b[1;33m)\u001b[0m\u001b[1;33m\u001b[0m\u001b[1;33m\u001b[0m\u001b[0m\n\u001b[0;32m    380\u001b[0m             \u001b[1;32mif\u001b[0m \u001b[0mclean_line\u001b[0m\u001b[1;33m:\u001b[0m\u001b[1;33m\u001b[0m\u001b[1;33m\u001b[0m\u001b[0m\n\u001b[1;32m--> 381\u001b[1;33m                 w, h, d = _get_text_metrics_with_cache(\n\u001b[0m\u001b[0;32m    382\u001b[0m                     \u001b[0mrenderer\u001b[0m\u001b[1;33m,\u001b[0m \u001b[0mclean_line\u001b[0m\u001b[1;33m,\u001b[0m \u001b[0mself\u001b[0m\u001b[1;33m.\u001b[0m\u001b[0m_fontproperties\u001b[0m\u001b[1;33m,\u001b[0m\u001b[1;33m\u001b[0m\u001b[1;33m\u001b[0m\u001b[0m\n\u001b[0;32m    383\u001b[0m                     ismath=ismath, dpi=self.figure.dpi)\n",
      "\u001b[1;32mc:\\Users\\user\\anaconda3\\lib\\site-packages\\matplotlib\\text.py\u001b[0m in \u001b[0;36m_get_text_metrics_with_cache\u001b[1;34m(renderer, text, fontprop, ismath, dpi)\u001b[0m\n\u001b[0;32m     67\u001b[0m     \u001b[1;31m# Cached based on a copy of fontprop so that later in-place mutations of\u001b[0m\u001b[1;33m\u001b[0m\u001b[1;33m\u001b[0m\u001b[0m\n\u001b[0;32m     68\u001b[0m     \u001b[1;31m# the passed-in argument do not mess up the cache.\u001b[0m\u001b[1;33m\u001b[0m\u001b[1;33m\u001b[0m\u001b[0m\n\u001b[1;32m---> 69\u001b[1;33m     return _get_text_metrics_with_cache_impl(\n\u001b[0m\u001b[0;32m     70\u001b[0m         weakref.ref(renderer), text, fontprop.copy(), ismath, dpi)\n\u001b[0;32m     71\u001b[0m \u001b[1;33m\u001b[0m\u001b[0m\n",
      "\u001b[1;32mc:\\Users\\user\\anaconda3\\lib\\site-packages\\matplotlib\\text.py\u001b[0m in \u001b[0;36m_get_text_metrics_with_cache_impl\u001b[1;34m(renderer_ref, text, fontprop, ismath, dpi)\u001b[0m\n\u001b[0;32m     75\u001b[0m         renderer_ref, text, fontprop, ismath, dpi):\n\u001b[0;32m     76\u001b[0m     \u001b[1;31m# dpi is unused, but participates in cache invalidation (via the renderer).\u001b[0m\u001b[1;33m\u001b[0m\u001b[1;33m\u001b[0m\u001b[0m\n\u001b[1;32m---> 77\u001b[1;33m     \u001b[1;32mreturn\u001b[0m \u001b[0mrenderer_ref\u001b[0m\u001b[1;33m(\u001b[0m\u001b[1;33m)\u001b[0m\u001b[1;33m.\u001b[0m\u001b[0mget_text_width_height_descent\u001b[0m\u001b[1;33m(\u001b[0m\u001b[0mtext\u001b[0m\u001b[1;33m,\u001b[0m \u001b[0mfontprop\u001b[0m\u001b[1;33m,\u001b[0m \u001b[0mismath\u001b[0m\u001b[1;33m)\u001b[0m\u001b[1;33m\u001b[0m\u001b[1;33m\u001b[0m\u001b[0m\n\u001b[0m\u001b[0;32m     78\u001b[0m \u001b[1;33m\u001b[0m\u001b[0m\n\u001b[0;32m     79\u001b[0m \u001b[1;33m\u001b[0m\u001b[0m\n",
      "\u001b[1;32mc:\\Users\\user\\anaconda3\\lib\\site-packages\\matplotlib\\backends\\backend_agg.py\u001b[0m in \u001b[0;36mget_text_width_height_descent\u001b[1;34m(self, s, prop, ismath)\u001b[0m\n\u001b[0;32m    219\u001b[0m \u001b[1;33m\u001b[0m\u001b[0m\n\u001b[0;32m    220\u001b[0m         \u001b[0mfont\u001b[0m \u001b[1;33m=\u001b[0m \u001b[0mself\u001b[0m\u001b[1;33m.\u001b[0m\u001b[0m_prepare_font\u001b[0m\u001b[1;33m(\u001b[0m\u001b[0mprop\u001b[0m\u001b[1;33m)\u001b[0m\u001b[1;33m\u001b[0m\u001b[1;33m\u001b[0m\u001b[0m\n\u001b[1;32m--> 221\u001b[1;33m         \u001b[0mfont\u001b[0m\u001b[1;33m.\u001b[0m\u001b[0mset_text\u001b[0m\u001b[1;33m(\u001b[0m\u001b[0ms\u001b[0m\u001b[1;33m,\u001b[0m \u001b[1;36m0.0\u001b[0m\u001b[1;33m,\u001b[0m \u001b[0mflags\u001b[0m\u001b[1;33m=\u001b[0m\u001b[0mget_hinting_flag\u001b[0m\u001b[1;33m(\u001b[0m\u001b[1;33m)\u001b[0m\u001b[1;33m)\u001b[0m\u001b[1;33m\u001b[0m\u001b[1;33m\u001b[0m\u001b[0m\n\u001b[0m\u001b[0;32m    222\u001b[0m         \u001b[0mw\u001b[0m\u001b[1;33m,\u001b[0m \u001b[0mh\u001b[0m \u001b[1;33m=\u001b[0m \u001b[0mfont\u001b[0m\u001b[1;33m.\u001b[0m\u001b[0mget_width_height\u001b[0m\u001b[1;33m(\u001b[0m\u001b[1;33m)\u001b[0m  \u001b[1;31m# width and height of unrotated string\u001b[0m\u001b[1;33m\u001b[0m\u001b[1;33m\u001b[0m\u001b[0m\n\u001b[0;32m    223\u001b[0m         \u001b[0md\u001b[0m \u001b[1;33m=\u001b[0m \u001b[0mfont\u001b[0m\u001b[1;33m.\u001b[0m\u001b[0mget_descent\u001b[0m\u001b[1;33m(\u001b[0m\u001b[1;33m)\u001b[0m\u001b[1;33m\u001b[0m\u001b[1;33m\u001b[0m\u001b[0m\n",
      "\u001b[1;31mKeyboardInterrupt\u001b[0m: "
     ]
    }
   ],
   "source": [
    "# Make plots based on previous simulation\n",
    "sensitivity_L.make_distributions_plots()\n",
    "sensitivity_L.make_stability_plot()\n",
    "sensitivity_L.plot_average_tree_densities()\n",
    "sensitivity_L.make_mean_fire_size_boxplot()"
   ]
  },
  {
   "cell_type": "markdown",
   "metadata": {},
   "source": [
    "### Testing the effect of $f$ on the model"
   ]
  },
  {
   "cell_type": "markdown",
   "metadata": {},
   "source": [
    "Sensitivity analysis from $f = 5$ up until $100$ in steps of $5$"
   ]
  },
  {
   "cell_type": "code",
   "execution_count": 4,
   "metadata": {},
   "outputs": [
    {
     "name": "stdout",
     "output_type": "stream",
     "text": [
      "xmin progress: 95%\r"
     ]
    },
    {
     "name": "stderr",
     "output_type": "stream",
     "text": [
      "Assuming nested distributions\n"
     ]
    },
    {
     "name": "stdout",
     "output_type": "stream",
     "text": [
      "xmin progress: 98%\r"
     ]
    },
    {
     "name": "stderr",
     "output_type": "stream",
     "text": [
      "Assuming nested distributions\n"
     ]
    },
    {
     "name": "stdout",
     "output_type": "stream",
     "text": [
      "xmin progress: 98%\r"
     ]
    },
    {
     "name": "stderr",
     "output_type": "stream",
     "text": [
      "Assuming nested distributions\n"
     ]
    },
    {
     "name": "stdout",
     "output_type": "stream",
     "text": [
      "xmin progress: 29%\r"
     ]
    },
    {
     "name": "stderr",
     "output_type": "stream",
     "text": [
      "Assuming nested distributions\n",
      "Assuming nested distributions\n"
     ]
    },
    {
     "name": "stdout",
     "output_type": "stream",
     "text": [
      "xmin progress: 98%\r"
     ]
    },
    {
     "name": "stderr",
     "output_type": "stream",
     "text": [
      "Assuming nested distributions\n",
      "Assuming nested distributions\n"
     ]
    },
    {
     "name": "stdout",
     "output_type": "stream",
     "text": [
      "xmin progress: 98%\r"
     ]
    },
    {
     "name": "stderr",
     "output_type": "stream",
     "text": [
      "Assuming nested distributions\n",
      "c:\\Users\\user\\anaconda3\\lib\\site-packages\\powerlaw.py:1615: RuntimeWarning: divide by zero encountered in divide\n",
      "  CDF = CDF/norm\n",
      "c:\\Users\\user\\anaconda3\\lib\\site-packages\\powerlaw.py:1615: RuntimeWarning: invalid value encountered in divide\n",
      "  CDF = CDF/norm\n",
      "'nan' in fit cumulative distribution values.\n",
      "Likely underflow or overflow error: the optimal fit for this distribution gives values that are so extreme that we lack the numerical precision to calculate them.\n"
     ]
    },
    {
     "name": "stdout",
     "output_type": "stream",
     "text": [
      "xmin progress: 07%\r"
     ]
    },
    {
     "name": "stderr",
     "output_type": "stream",
     "text": [
      "Assuming nested distributions\n"
     ]
    },
    {
     "name": "stdout",
     "output_type": "stream",
     "text": [
      "xmin progress: 98%\r"
     ]
    },
    {
     "name": "stderr",
     "output_type": "stream",
     "text": [
      "Assuming nested distributions\n",
      "Assuming nested distributions\n"
     ]
    },
    {
     "name": "stdout",
     "output_type": "stream",
     "text": [
      "xmin progress: 50%\r"
     ]
    },
    {
     "name": "stderr",
     "output_type": "stream",
     "text": [
      "Assuming nested distributions\n",
      "Assuming nested distributions\n"
     ]
    },
    {
     "name": "stdout",
     "output_type": "stream",
     "text": [
      "xmin progress: 98%\r"
     ]
    },
    {
     "name": "stderr",
     "output_type": "stream",
     "text": [
      "Assuming nested distributions\n"
     ]
    },
    {
     "name": "stdout",
     "output_type": "stream",
     "text": [
      "xmin progress: 98%\r"
     ]
    },
    {
     "name": "stderr",
     "output_type": "stream",
     "text": [
      "Assuming nested distributions\n",
      "Assuming nested distributions\n",
      "c:\\Users\\user\\anaconda3\\lib\\site-packages\\powerlaw.py:1507: RuntimeWarning: overflow encountered in divide\n",
      "  likelihoods = f/C\n",
      "'nan' in fit cumulative distribution values.\n",
      "Likely underflow or overflow error: the optimal fit for this distribution gives values that are so extreme that we lack the numerical precision to calculate them.\n"
     ]
    },
    {
     "name": "stdout",
     "output_type": "stream",
     "text": [
      "xmin progress: 98%\r"
     ]
    },
    {
     "name": "stderr",
     "output_type": "stream",
     "text": [
      "Assuming nested distributions\n"
     ]
    },
    {
     "name": "stdout",
     "output_type": "stream",
     "text": [
      "xmin progress: 19%\r"
     ]
    },
    {
     "name": "stderr",
     "output_type": "stream",
     "text": [
      "Assuming nested distributions\n",
      "Assuming nested distributions\n"
     ]
    },
    {
     "name": "stdout",
     "output_type": "stream",
     "text": [
      "xmin progress: 00%\r"
     ]
    },
    {
     "name": "stderr",
     "output_type": "stream",
     "text": [
      "Assuming nested distributions\n"
     ]
    },
    {
     "name": "stdout",
     "output_type": "stream",
     "text": [
      "xmin progress: 99%\r"
     ]
    },
    {
     "name": "stderr",
     "output_type": "stream",
     "text": [
      "Assuming nested distributions\n"
     ]
    },
    {
     "name": "stdout",
     "output_type": "stream",
     "text": [
      "xmin progress: 99%\r"
     ]
    },
    {
     "name": "stderr",
     "output_type": "stream",
     "text": [
      "Assuming nested distributions\n",
      "c:\\Users\\user\\anaconda3\\lib\\site-packages\\powerlaw.py:1507: RuntimeWarning: overflow encountered in divide\n",
      "  likelihoods = f/C\n",
      "c:\\Users\\user\\anaconda3\\lib\\site-packages\\powerlaw.py:1615: RuntimeWarning: invalid value encountered in divide\n",
      "  CDF = CDF/norm\n",
      "'nan' in fit cumulative distribution values.\n",
      "Likely underflow or overflow error: the optimal fit for this distribution gives values that are so extreme that we lack the numerical precision to calculate them.\n"
     ]
    },
    {
     "name": "stdout",
     "output_type": "stream",
     "text": [
      "xmin progress: 07%\r"
     ]
    },
    {
     "name": "stderr",
     "output_type": "stream",
     "text": [
      "Assuming nested distributions\n",
      "Assuming nested distributions\n"
     ]
    },
    {
     "name": "stdout",
     "output_type": "stream",
     "text": [
      "xmin progress: 06%\r"
     ]
    },
    {
     "name": "stderr",
     "output_type": "stream",
     "text": [
      "Assuming nested distributions\n",
      "Assuming nested distributions\n"
     ]
    },
    {
     "name": "stdout",
     "output_type": "stream",
     "text": [
      "xmin progress: 00%\r"
     ]
    },
    {
     "name": "stderr",
     "output_type": "stream",
     "text": [
      "Assuming nested distributions\n",
      "Assuming nested distributions\n"
     ]
    },
    {
     "name": "stdout",
     "output_type": "stream",
     "text": [
      "xmin progress: 00%\r"
     ]
    },
    {
     "name": "stderr",
     "output_type": "stream",
     "text": [
      "Assuming nested distributions\n",
      "Assuming nested distributions\n"
     ]
    },
    {
     "name": "stdout",
     "output_type": "stream",
     "text": [
      "xmin progress: 00%\r"
     ]
    },
    {
     "name": "stderr",
     "output_type": "stream",
     "text": [
      "Assuming nested distributions\n"
     ]
    },
    {
     "name": "stdout",
     "output_type": "stream",
     "text": [
      "xmin progress: 00%\r"
     ]
    },
    {
     "name": "stderr",
     "output_type": "stream",
     "text": [
      "Assuming nested distributions\n"
     ]
    },
    {
     "name": "stdout",
     "output_type": "stream",
     "text": [
      "xmin progress: 00%\r"
     ]
    },
    {
     "name": "stderr",
     "output_type": "stream",
     "text": [
      "Assuming nested distributions\n"
     ]
    },
    {
     "name": "stdout",
     "output_type": "stream",
     "text": [
      "xmin progress: 00%\r"
     ]
    },
    {
     "name": "stderr",
     "output_type": "stream",
     "text": [
      "Assuming nested distributions\n"
     ]
    },
    {
     "name": "stdout",
     "output_type": "stream",
     "text": [
      "xmin progress: 00%\r"
     ]
    },
    {
     "name": "stderr",
     "output_type": "stream",
     "text": [
      "Assuming nested distributions\n",
      "Assuming nested distributions\n"
     ]
    },
    {
     "name": "stdout",
     "output_type": "stream",
     "text": [
      "xmin progress: 00%\r"
     ]
    },
    {
     "name": "stderr",
     "output_type": "stream",
     "text": [
      "Assuming nested distributions\n"
     ]
    },
    {
     "name": "stdout",
     "output_type": "stream",
     "text": [
      "xmin progress: 99%\r"
     ]
    },
    {
     "name": "stderr",
     "output_type": "stream",
     "text": [
      "Assuming nested distributions\n",
      "Assuming nested distributions\n"
     ]
    },
    {
     "name": "stdout",
     "output_type": "stream",
     "text": [
      "xmin progress: 99%\r"
     ]
    },
    {
     "name": "stderr",
     "output_type": "stream",
     "text": [
      "Assuming nested distributions\n",
      "'nan' in fit cumulative distribution values.\n",
      "Likely underflow or overflow error: the optimal fit for this distribution gives values that are so extreme that we lack the numerical precision to calculate them.\n"
     ]
    },
    {
     "name": "stdout",
     "output_type": "stream",
     "text": [
      "xmin progress: 00%\r"
     ]
    },
    {
     "name": "stderr",
     "output_type": "stream",
     "text": [
      "Assuming nested distributions\n",
      "Assuming nested distributions\n"
     ]
    },
    {
     "name": "stdout",
     "output_type": "stream",
     "text": [
      "xmin progress: 99%\r"
     ]
    },
    {
     "name": "stderr",
     "output_type": "stream",
     "text": [
      "Assuming nested distributions\n"
     ]
    },
    {
     "name": "stdout",
     "output_type": "stream",
     "text": [
      "xmin progress: 99%\r"
     ]
    },
    {
     "name": "stderr",
     "output_type": "stream",
     "text": [
      "Assuming nested distributions\n"
     ]
    },
    {
     "name": "stdout",
     "output_type": "stream",
     "text": [
      "xmin progress: 00%\r"
     ]
    },
    {
     "name": "stderr",
     "output_type": "stream",
     "text": [
      "Assuming nested distributions\n"
     ]
    },
    {
     "name": "stdout",
     "output_type": "stream",
     "text": [
      "xmin progress: 00%\r"
     ]
    },
    {
     "name": "stderr",
     "output_type": "stream",
     "text": [
      "Assuming nested distributions\n"
     ]
    },
    {
     "name": "stdout",
     "output_type": "stream",
     "text": [
      "xmin progress: 01%\r"
     ]
    },
    {
     "name": "stderr",
     "output_type": "stream",
     "text": [
      "Assuming nested distributions\n",
      "Assuming nested distributions\n"
     ]
    },
    {
     "name": "stdout",
     "output_type": "stream",
     "text": [
      "xmin progress: 00%\r"
     ]
    },
    {
     "name": "stderr",
     "output_type": "stream",
     "text": [
      "Assuming nested distributions\n"
     ]
    },
    {
     "name": "stdout",
     "output_type": "stream",
     "text": [
      "xmin progress: 99%\r"
     ]
    },
    {
     "name": "stderr",
     "output_type": "stream",
     "text": [
      "Assuming nested distributions\n",
      "c:\\Users\\user\\anaconda3\\lib\\site-packages\\powerlaw.py:1615: RuntimeWarning: divide by zero encountered in divide\n",
      "  CDF = CDF/norm\n",
      "c:\\Users\\user\\anaconda3\\lib\\site-packages\\powerlaw.py:1615: RuntimeWarning: invalid value encountered in divide\n",
      "  CDF = CDF/norm\n",
      "'nan' in fit cumulative distribution values.\n",
      "Likely underflow or overflow error: the optimal fit for this distribution gives values that are so extreme that we lack the numerical precision to calculate them.\n"
     ]
    },
    {
     "name": "stdout",
     "output_type": "stream",
     "text": [
      "xmin progress: 99%\r"
     ]
    },
    {
     "name": "stderr",
     "output_type": "stream",
     "text": [
      "Assuming nested distributions\n"
     ]
    },
    {
     "name": "stdout",
     "output_type": "stream",
     "text": [
      "xmin progress: 00%\r"
     ]
    },
    {
     "name": "stderr",
     "output_type": "stream",
     "text": [
      "Assuming nested distributions\n",
      "Assuming nested distributions\n"
     ]
    },
    {
     "name": "stdout",
     "output_type": "stream",
     "text": [
      "xmin progress: 99%\r"
     ]
    },
    {
     "name": "stderr",
     "output_type": "stream",
     "text": [
      "Assuming nested distributions\n",
      "c:\\Users\\user\\anaconda3\\lib\\site-packages\\powerlaw.py:1507: RuntimeWarning: overflow encountered in divide\n",
      "  likelihoods = f/C\n",
      "'nan' in fit cumulative distribution values.\n",
      "Likely underflow or overflow error: the optimal fit for this distribution gives values that are so extreme that we lack the numerical precision to calculate them.\n",
      "Assuming nested distributions\n"
     ]
    },
    {
     "name": "stdout",
     "output_type": "stream",
     "text": [
      "xmin progress: 99%\r"
     ]
    },
    {
     "name": "stderr",
     "output_type": "stream",
     "text": [
      "Assuming nested distributions\n",
      "Assuming nested distributions\n"
     ]
    },
    {
     "name": "stdout",
     "output_type": "stream",
     "text": [
      "xmin progress: 99%\r"
     ]
    },
    {
     "name": "stderr",
     "output_type": "stream",
     "text": [
      "Assuming nested distributions\n"
     ]
    },
    {
     "name": "stdout",
     "output_type": "stream",
     "text": [
      "xmin progress: 99%\r"
     ]
    },
    {
     "name": "stderr",
     "output_type": "stream",
     "text": [
      "Assuming nested distributions\n"
     ]
    },
    {
     "name": "stdout",
     "output_type": "stream",
     "text": [
      "xmin progress: 99%\r"
     ]
    },
    {
     "name": "stderr",
     "output_type": "stream",
     "text": [
      "Assuming nested distributions\n"
     ]
    },
    {
     "name": "stdout",
     "output_type": "stream",
     "text": [
      "xmin progress: 99%\r"
     ]
    },
    {
     "name": "stderr",
     "output_type": "stream",
     "text": [
      "Assuming nested distributions\n",
      "c:\\Users\\user\\anaconda3\\lib\\site-packages\\powerlaw.py:1507: RuntimeWarning: overflow encountered in divide\n",
      "  likelihoods = f/C\n",
      "c:\\Users\\user\\anaconda3\\lib\\site-packages\\powerlaw.py:1615: RuntimeWarning: divide by zero encountered in divide\n",
      "  CDF = CDF/norm\n",
      "c:\\Users\\user\\anaconda3\\lib\\site-packages\\powerlaw.py:1615: RuntimeWarning: invalid value encountered in divide\n",
      "  CDF = CDF/norm\n",
      "'nan' in fit cumulative distribution values.\n",
      "Likely underflow or overflow error: the optimal fit for this distribution gives values that are so extreme that we lack the numerical precision to calculate them.\n"
     ]
    },
    {
     "name": "stdout",
     "output_type": "stream",
     "text": [
      "xmin progress: 00%\r"
     ]
    },
    {
     "name": "stderr",
     "output_type": "stream",
     "text": [
      "Assuming nested distributions\n"
     ]
    },
    {
     "name": "stdout",
     "output_type": "stream",
     "text": [
      "xmin progress: 99%\r"
     ]
    },
    {
     "name": "stderr",
     "output_type": "stream",
     "text": [
      "Assuming nested distributions\n"
     ]
    },
    {
     "name": "stdout",
     "output_type": "stream",
     "text": [
      "xmin progress: 99%\r"
     ]
    },
    {
     "name": "stderr",
     "output_type": "stream",
     "text": [
      "Assuming nested distributions\n"
     ]
    },
    {
     "name": "stdout",
     "output_type": "stream",
     "text": [
      "xmin progress: 99%\r"
     ]
    },
    {
     "name": "stderr",
     "output_type": "stream",
     "text": [
      "Assuming nested distributions\n",
      "Assuming nested distributions\n"
     ]
    },
    {
     "name": "stdout",
     "output_type": "stream",
     "text": [
      "xmin progress: 99%\r"
     ]
    },
    {
     "name": "stderr",
     "output_type": "stream",
     "text": [
      "Assuming nested distributions\n"
     ]
    },
    {
     "name": "stdout",
     "output_type": "stream",
     "text": [
      "xmin progress: 99%\r"
     ]
    },
    {
     "name": "stderr",
     "output_type": "stream",
     "text": [
      "Assuming nested distributions\n"
     ]
    },
    {
     "name": "stdout",
     "output_type": "stream",
     "text": [
      "xmin progress: 00%\r"
     ]
    },
    {
     "name": "stderr",
     "output_type": "stream",
     "text": [
      "Assuming nested distributions\n"
     ]
    },
    {
     "name": "stdout",
     "output_type": "stream",
     "text": [
      "xmin progress: 99%\r"
     ]
    },
    {
     "name": "stderr",
     "output_type": "stream",
     "text": [
      "Assuming nested distributions\n",
      "'nan' in fit cumulative distribution values.\n",
      "Likely underflow or overflow error: the optimal fit for this distribution gives values that are so extreme that we lack the numerical precision to calculate them.\n"
     ]
    },
    {
     "name": "stdout",
     "output_type": "stream",
     "text": [
      "xmin progress: 00%\r"
     ]
    },
    {
     "name": "stderr",
     "output_type": "stream",
     "text": [
      "Assuming nested distributions\n"
     ]
    },
    {
     "name": "stdout",
     "output_type": "stream",
     "text": [
      "xmin progress: 99%\r"
     ]
    },
    {
     "name": "stderr",
     "output_type": "stream",
     "text": [
      "Assuming nested distributions\n"
     ]
    },
    {
     "name": "stdout",
     "output_type": "stream",
     "text": [
      "xmin progress: 00%\r"
     ]
    },
    {
     "name": "stderr",
     "output_type": "stream",
     "text": [
      "Assuming nested distributions\n"
     ]
    },
    {
     "name": "stdout",
     "output_type": "stream",
     "text": [
      "xmin progress: 00%\r"
     ]
    },
    {
     "name": "stderr",
     "output_type": "stream",
     "text": [
      "Assuming nested distributions\n"
     ]
    },
    {
     "name": "stdout",
     "output_type": "stream",
     "text": [
      "xmin progress: 99%\r"
     ]
    },
    {
     "name": "stderr",
     "output_type": "stream",
     "text": [
      "Assuming nested distributions\n"
     ]
    },
    {
     "name": "stdout",
     "output_type": "stream",
     "text": [
      "xmin progress: 99%\r"
     ]
    },
    {
     "name": "stderr",
     "output_type": "stream",
     "text": [
      "Assuming nested distributions\n"
     ]
    },
    {
     "name": "stdout",
     "output_type": "stream",
     "text": [
      "xmin progress: 99%\r"
     ]
    },
    {
     "name": "stderr",
     "output_type": "stream",
     "text": [
      "Assuming nested distributions\n"
     ]
    },
    {
     "name": "stdout",
     "output_type": "stream",
     "text": [
      "xmin progress: 99%\r"
     ]
    },
    {
     "name": "stderr",
     "output_type": "stream",
     "text": [
      "Assuming nested distributions\n"
     ]
    },
    {
     "name": "stdout",
     "output_type": "stream",
     "text": [
      "xmin progress: 99%\r"
     ]
    },
    {
     "name": "stderr",
     "output_type": "stream",
     "text": [
      "Assuming nested distributions\n",
      "c:\\Users\\user\\anaconda3\\lib\\site-packages\\powerlaw.py:1615: RuntimeWarning: invalid value encountered in divide\n",
      "  CDF = CDF/norm\n",
      "'nan' in fit cumulative distribution values.\n",
      "Likely underflow or overflow error: the optimal fit for this distribution gives values that are so extreme that we lack the numerical precision to calculate them.\n"
     ]
    },
    {
     "name": "stdout",
     "output_type": "stream",
     "text": [
      "xmin progress: 00%\r"
     ]
    },
    {
     "name": "stderr",
     "output_type": "stream",
     "text": [
      "Assuming nested distributions\n"
     ]
    },
    {
     "name": "stdout",
     "output_type": "stream",
     "text": [
      "xmin progress: 99%\r"
     ]
    },
    {
     "name": "stderr",
     "output_type": "stream",
     "text": [
      "Assuming nested distributions\n"
     ]
    },
    {
     "name": "stdout",
     "output_type": "stream",
     "text": [
      "xmin progress: 99%\r"
     ]
    },
    {
     "name": "stderr",
     "output_type": "stream",
     "text": [
      "Assuming nested distributions\n"
     ]
    },
    {
     "name": "stdout",
     "output_type": "stream",
     "text": [
      "xmin progress: 99%\r"
     ]
    },
    {
     "name": "stderr",
     "output_type": "stream",
     "text": [
      "Assuming nested distributions\n"
     ]
    },
    {
     "name": "stdout",
     "output_type": "stream",
     "text": [
      "xmin progress: 00%\r"
     ]
    },
    {
     "name": "stderr",
     "output_type": "stream",
     "text": [
      "Assuming nested distributions\n",
      "Assuming nested distributions\n"
     ]
    },
    {
     "name": "stdout",
     "output_type": "stream",
     "text": [
      "xmin progress: 99%\r"
     ]
    },
    {
     "name": "stderr",
     "output_type": "stream",
     "text": [
      "Assuming nested distributions\n"
     ]
    },
    {
     "name": "stdout",
     "output_type": "stream",
     "text": [
      "xmin progress: 99%\r"
     ]
    },
    {
     "name": "stderr",
     "output_type": "stream",
     "text": [
      "Assuming nested distributions\n",
      "c:\\Users\\user\\anaconda3\\lib\\site-packages\\powerlaw.py:1507: RuntimeWarning: overflow encountered in divide\n",
      "  likelihoods = f/C\n",
      "'nan' in fit cumulative distribution values.\n",
      "Likely underflow or overflow error: the optimal fit for this distribution gives values that are so extreme that we lack the numerical precision to calculate them.\n"
     ]
    },
    {
     "name": "stdout",
     "output_type": "stream",
     "text": [
      "xmin progress: 99%\r"
     ]
    },
    {
     "name": "stderr",
     "output_type": "stream",
     "text": [
      "Assuming nested distributions\n"
     ]
    },
    {
     "name": "stdout",
     "output_type": "stream",
     "text": [
      "xmin progress: 99%\r"
     ]
    },
    {
     "name": "stderr",
     "output_type": "stream",
     "text": [
      "Assuming nested distributions\n",
      "Assuming nested distributions\n"
     ]
    },
    {
     "name": "stdout",
     "output_type": "stream",
     "text": [
      "xmin progress: 99%\r"
     ]
    },
    {
     "name": "stderr",
     "output_type": "stream",
     "text": [
      "Assuming nested distributions\n"
     ]
    },
    {
     "name": "stdout",
     "output_type": "stream",
     "text": [
      "xmin progress: 99%\r"
     ]
    },
    {
     "name": "stderr",
     "output_type": "stream",
     "text": [
      "Assuming nested distributions\n"
     ]
    },
    {
     "name": "stdout",
     "output_type": "stream",
     "text": [
      "xmin progress: 99%\r"
     ]
    },
    {
     "name": "stderr",
     "output_type": "stream",
     "text": [
      "Assuming nested distributions\n",
      "c:\\Users\\user\\anaconda3\\lib\\site-packages\\powerlaw.py:1507: RuntimeWarning: overflow encountered in divide\n",
      "  likelihoods = f/C\n",
      "c:\\Users\\user\\anaconda3\\lib\\site-packages\\powerlaw.py:1615: RuntimeWarning: divide by zero encountered in divide\n",
      "  CDF = CDF/norm\n",
      "c:\\Users\\user\\anaconda3\\lib\\site-packages\\powerlaw.py:1615: RuntimeWarning: invalid value encountered in divide\n",
      "  CDF = CDF/norm\n",
      "'nan' in fit cumulative distribution values.\n",
      "Likely underflow or overflow error: the optimal fit for this distribution gives values that are so extreme that we lack the numerical precision to calculate them.\n"
     ]
    },
    {
     "name": "stdout",
     "output_type": "stream",
     "text": [
      "xmin progress: 99%\r"
     ]
    },
    {
     "name": "stderr",
     "output_type": "stream",
     "text": [
      "Assuming nested distributions\n"
     ]
    },
    {
     "name": "stdout",
     "output_type": "stream",
     "text": [
      "xmin progress: 00%\r"
     ]
    },
    {
     "name": "stderr",
     "output_type": "stream",
     "text": [
      "Assuming nested distributions\n"
     ]
    },
    {
     "name": "stdout",
     "output_type": "stream",
     "text": [
      "xmin progress: 99%\r"
     ]
    },
    {
     "name": "stderr",
     "output_type": "stream",
     "text": [
      "Assuming nested distributions\n",
      "'nan' in fit cumulative distribution values.\n",
      "Likely underflow or overflow error: the optimal fit for this distribution gives values that are so extreme that we lack the numerical precision to calculate them.\n"
     ]
    },
    {
     "name": "stdout",
     "output_type": "stream",
     "text": [
      "xmin progress: 99%\r"
     ]
    },
    {
     "name": "stderr",
     "output_type": "stream",
     "text": [
      "Assuming nested distributions\n"
     ]
    },
    {
     "name": "stdout",
     "output_type": "stream",
     "text": [
      "xmin progress: 99%\r"
     ]
    },
    {
     "name": "stderr",
     "output_type": "stream",
     "text": [
      "Assuming nested distributions\n"
     ]
    },
    {
     "name": "stdout",
     "output_type": "stream",
     "text": [
      "xmin progress: 00%\r"
     ]
    },
    {
     "name": "stderr",
     "output_type": "stream",
     "text": [
      "Assuming nested distributions\n"
     ]
    },
    {
     "name": "stdout",
     "output_type": "stream",
     "text": [
      "xmin progress: 16%\r"
     ]
    },
    {
     "name": "stderr",
     "output_type": "stream",
     "text": [
      "Assuming nested distributions\n",
      "Assuming nested distributions\n"
     ]
    },
    {
     "name": "stdout",
     "output_type": "stream",
     "text": [
      "xmin progress: 99%\r"
     ]
    },
    {
     "name": "stderr",
     "output_type": "stream",
     "text": [
      "'nan' in fit cumulative distribution values.\n",
      "Likely underflow or overflow error: the optimal fit for this distribution gives values that are so extreme that we lack the numerical precision to calculate them.\n",
      "Assuming nested distributions\n"
     ]
    },
    {
     "name": "stdout",
     "output_type": "stream",
     "text": [
      "xmin progress: 99%\r"
     ]
    },
    {
     "name": "stderr",
     "output_type": "stream",
     "text": [
      "Assuming nested distributions\n"
     ]
    },
    {
     "name": "stdout",
     "output_type": "stream",
     "text": [
      "xmin progress: 99%\r"
     ]
    },
    {
     "name": "stderr",
     "output_type": "stream",
     "text": [
      "Assuming nested distributions\n"
     ]
    },
    {
     "name": "stdout",
     "output_type": "stream",
     "text": [
      "xmin progress: 99%\r"
     ]
    },
    {
     "name": "stderr",
     "output_type": "stream",
     "text": [
      "Assuming nested distributions\n"
     ]
    },
    {
     "name": "stdout",
     "output_type": "stream",
     "text": [
      "xmin progress: 99%\r"
     ]
    },
    {
     "name": "stderr",
     "output_type": "stream",
     "text": [
      "Assuming nested distributions\n"
     ]
    },
    {
     "name": "stdout",
     "output_type": "stream",
     "text": [
      "xmin progress: 99%\r"
     ]
    },
    {
     "name": "stderr",
     "output_type": "stream",
     "text": [
      "Assuming nested distributions\n"
     ]
    },
    {
     "name": "stdout",
     "output_type": "stream",
     "text": [
      "xmin progress: 99%\r"
     ]
    },
    {
     "name": "stderr",
     "output_type": "stream",
     "text": [
      "Assuming nested distributions\n",
      "c:\\Users\\user\\anaconda3\\lib\\site-packages\\powerlaw.py:1507: RuntimeWarning: overflow encountered in divide\n",
      "  likelihoods = f/C\n",
      "c:\\Users\\user\\anaconda3\\lib\\site-packages\\powerlaw.py:1615: RuntimeWarning: divide by zero encountered in divide\n",
      "  CDF = CDF/norm\n",
      "c:\\Users\\user\\anaconda3\\lib\\site-packages\\powerlaw.py:1615: RuntimeWarning: invalid value encountered in divide\n",
      "  CDF = CDF/norm\n",
      "'nan' in fit cumulative distribution values.\n",
      "Likely underflow or overflow error: the optimal fit for this distribution gives values that are so extreme that we lack the numerical precision to calculate them.\n",
      "Assuming nested distributions\n"
     ]
    },
    {
     "name": "stdout",
     "output_type": "stream",
     "text": [
      "xmin progress: 99%\r"
     ]
    },
    {
     "name": "stderr",
     "output_type": "stream",
     "text": [
      "Assuming nested distributions\n",
      "Assuming nested distributions\n"
     ]
    },
    {
     "name": "stdout",
     "output_type": "stream",
     "text": [
      "xmin progress: 99%\r"
     ]
    },
    {
     "name": "stderr",
     "output_type": "stream",
     "text": [
      "Assuming nested distributions\n"
     ]
    },
    {
     "name": "stdout",
     "output_type": "stream",
     "text": [
      "xmin progress: 99%\r"
     ]
    },
    {
     "name": "stderr",
     "output_type": "stream",
     "text": [
      "Assuming nested distributions\n"
     ]
    },
    {
     "name": "stdout",
     "output_type": "stream",
     "text": [
      "xmin progress: 99%\r"
     ]
    },
    {
     "name": "stderr",
     "output_type": "stream",
     "text": [
      "Assuming nested distributions\n",
      "'nan' in fit cumulative distribution values.\n",
      "Likely underflow or overflow error: the optimal fit for this distribution gives values that are so extreme that we lack the numerical precision to calculate them.\n"
     ]
    },
    {
     "name": "stdout",
     "output_type": "stream",
     "text": [
      "xmin progress: 99%\r"
     ]
    },
    {
     "name": "stderr",
     "output_type": "stream",
     "text": [
      "Assuming nested distributions\n"
     ]
    },
    {
     "name": "stdout",
     "output_type": "stream",
     "text": [
      "xmin progress: 99%\r"
     ]
    },
    {
     "name": "stderr",
     "output_type": "stream",
     "text": [
      "Assuming nested distributions\n"
     ]
    },
    {
     "name": "stdout",
     "output_type": "stream",
     "text": [
      "xmin progress: 00%\r"
     ]
    },
    {
     "name": "stderr",
     "output_type": "stream",
     "text": [
      "Assuming nested distributions\n"
     ]
    },
    {
     "name": "stdout",
     "output_type": "stream",
     "text": [
      "xmin progress: 99%\r"
     ]
    },
    {
     "name": "stderr",
     "output_type": "stream",
     "text": [
      "Assuming nested distributions\n"
     ]
    },
    {
     "name": "stdout",
     "output_type": "stream",
     "text": [
      "xmin progress: 99%\r"
     ]
    },
    {
     "name": "stderr",
     "output_type": "stream",
     "text": [
      "Assuming nested distributions\n",
      "Assuming nested distributions\n"
     ]
    },
    {
     "name": "stdout",
     "output_type": "stream",
     "text": [
      "xmin progress: 03%\r"
     ]
    },
    {
     "name": "stderr",
     "output_type": "stream",
     "text": [
      "Assuming nested distributions\n"
     ]
    },
    {
     "name": "stdout",
     "output_type": "stream",
     "text": [
      "xmin progress: 99%\r"
     ]
    },
    {
     "name": "stderr",
     "output_type": "stream",
     "text": [
      "Assuming nested distributions\n",
      "c:\\Users\\user\\anaconda3\\lib\\site-packages\\powerlaw.py:1507: RuntimeWarning: overflow encountered in divide\n",
      "  likelihoods = f/C\n",
      "c:\\Users\\user\\anaconda3\\lib\\site-packages\\powerlaw.py:1615: RuntimeWarning: divide by zero encountered in divide\n",
      "  CDF = CDF/norm\n",
      "c:\\Users\\user\\anaconda3\\lib\\site-packages\\powerlaw.py:1615: RuntimeWarning: invalid value encountered in divide\n",
      "  CDF = CDF/norm\n",
      "'nan' in fit cumulative distribution values.\n",
      "Likely underflow or overflow error: the optimal fit for this distribution gives values that are so extreme that we lack the numerical precision to calculate them.\n"
     ]
    },
    {
     "name": "stdout",
     "output_type": "stream",
     "text": [
      "xmin progress: 99%\r"
     ]
    },
    {
     "name": "stderr",
     "output_type": "stream",
     "text": [
      "Assuming nested distributions\n"
     ]
    },
    {
     "name": "stdout",
     "output_type": "stream",
     "text": [
      "xmin progress: 99%\r"
     ]
    },
    {
     "name": "stderr",
     "output_type": "stream",
     "text": [
      "Assuming nested distributions\n"
     ]
    },
    {
     "name": "stdout",
     "output_type": "stream",
     "text": [
      "xmin progress: 99%\r"
     ]
    },
    {
     "name": "stderr",
     "output_type": "stream",
     "text": [
      "Assuming nested distributions\n"
     ]
    },
    {
     "name": "stdout",
     "output_type": "stream",
     "text": [
      "xmin progress: 99%\r"
     ]
    },
    {
     "name": "stderr",
     "output_type": "stream",
     "text": [
      "Assuming nested distributions\n"
     ]
    },
    {
     "name": "stdout",
     "output_type": "stream",
     "text": [
      "xmin progress: 99%\r"
     ]
    },
    {
     "name": "stderr",
     "output_type": "stream",
     "text": [
      "Assuming nested distributions\n",
      "'nan' in fit cumulative distribution values.\n",
      "Likely underflow or overflow error: the optimal fit for this distribution gives values that are so extreme that we lack the numerical precision to calculate them.\n"
     ]
    },
    {
     "name": "stdout",
     "output_type": "stream",
     "text": [
      "xmin progress: 99%\r"
     ]
    },
    {
     "name": "stderr",
     "output_type": "stream",
     "text": [
      "Assuming nested distributions\n"
     ]
    },
    {
     "name": "stdout",
     "output_type": "stream",
     "text": [
      "xmin progress: 99%\r"
     ]
    },
    {
     "name": "stderr",
     "output_type": "stream",
     "text": [
      "Assuming nested distributions\n"
     ]
    },
    {
     "name": "stdout",
     "output_type": "stream",
     "text": [
      "xmin progress: 99%\r"
     ]
    },
    {
     "name": "stderr",
     "output_type": "stream",
     "text": [
      "Assuming nested distributions\n"
     ]
    },
    {
     "name": "stdout",
     "output_type": "stream",
     "text": [
      "xmin progress: 99%\r"
     ]
    },
    {
     "name": "stderr",
     "output_type": "stream",
     "text": [
      "Assuming nested distributions\n"
     ]
    },
    {
     "name": "stdout",
     "output_type": "stream",
     "text": [
      "xmin progress: 99%\r"
     ]
    },
    {
     "name": "stderr",
     "output_type": "stream",
     "text": [
      "Assuming nested distributions\n"
     ]
    },
    {
     "name": "stdout",
     "output_type": "stream",
     "text": [
      "xmin progress: 00%\r"
     ]
    },
    {
     "name": "stderr",
     "output_type": "stream",
     "text": [
      "Assuming nested distributions\n"
     ]
    },
    {
     "name": "stdout",
     "output_type": "stream",
     "text": [
      "xmin progress: 99%\r"
     ]
    },
    {
     "name": "stderr",
     "output_type": "stream",
     "text": [
      "Assuming nested distributions\n"
     ]
    },
    {
     "name": "stdout",
     "output_type": "stream",
     "text": [
      "xmin progress: 99%\r"
     ]
    },
    {
     "name": "stderr",
     "output_type": "stream",
     "text": [
      "Assuming nested distributions\n",
      "c:\\Users\\user\\anaconda3\\lib\\site-packages\\powerlaw.py:1615: RuntimeWarning: divide by zero encountered in divide\n",
      "  CDF = CDF/norm\n",
      "c:\\Users\\user\\anaconda3\\lib\\site-packages\\powerlaw.py:1615: RuntimeWarning: invalid value encountered in divide\n",
      "  CDF = CDF/norm\n",
      "'nan' in fit cumulative distribution values.\n",
      "Likely underflow or overflow error: the optimal fit for this distribution gives values that are so extreme that we lack the numerical precision to calculate them.\n"
     ]
    },
    {
     "name": "stdout",
     "output_type": "stream",
     "text": [
      "xmin progress: 00%\r"
     ]
    },
    {
     "name": "stderr",
     "output_type": "stream",
     "text": [
      "Assuming nested distributions\n"
     ]
    },
    {
     "name": "stdout",
     "output_type": "stream",
     "text": [
      "xmin progress: 99%\r"
     ]
    },
    {
     "name": "stderr",
     "output_type": "stream",
     "text": [
      "Assuming nested distributions\n",
      "c:\\Users\\user\\anaconda3\\lib\\site-packages\\powerlaw.py:1507: RuntimeWarning: overflow encountered in divide\n",
      "  likelihoods = f/C\n",
      "'nan' in fit cumulative distribution values.\n",
      "Likely underflow or overflow error: the optimal fit for this distribution gives values that are so extreme that we lack the numerical precision to calculate them.\n"
     ]
    },
    {
     "name": "stdout",
     "output_type": "stream",
     "text": [
      "xmin progress: 00%\r"
     ]
    },
    {
     "name": "stderr",
     "output_type": "stream",
     "text": [
      "Assuming nested distributions\n",
      "Assuming nested distributions\n"
     ]
    },
    {
     "name": "stdout",
     "output_type": "stream",
     "text": [
      "xmin progress: 00%\r"
     ]
    },
    {
     "name": "stderr",
     "output_type": "stream",
     "text": [
      "Assuming nested distributions\n"
     ]
    },
    {
     "name": "stdout",
     "output_type": "stream",
     "text": [
      "xmin progress: 99%\r"
     ]
    },
    {
     "name": "stderr",
     "output_type": "stream",
     "text": [
      "Assuming nested distributions\n"
     ]
    },
    {
     "name": "stdout",
     "output_type": "stream",
     "text": [
      "xmin progress: 00%\r"
     ]
    },
    {
     "name": "stderr",
     "output_type": "stream",
     "text": [
      "Assuming nested distributions\n",
      "Assuming nested distributions\n"
     ]
    },
    {
     "name": "stdout",
     "output_type": "stream",
     "text": [
      "xmin progress: 99%\r"
     ]
    },
    {
     "name": "stderr",
     "output_type": "stream",
     "text": [
      "Assuming nested distributions\n"
     ]
    },
    {
     "name": "stdout",
     "output_type": "stream",
     "text": [
      "xmin progress: 99%\r"
     ]
    },
    {
     "name": "stderr",
     "output_type": "stream",
     "text": [
      "Assuming nested distributions\n"
     ]
    },
    {
     "name": "stdout",
     "output_type": "stream",
     "text": [
      "xmin progress: 00%\r"
     ]
    },
    {
     "name": "stderr",
     "output_type": "stream",
     "text": [
      "Assuming nested distributions\n"
     ]
    },
    {
     "name": "stdout",
     "output_type": "stream",
     "text": [
      "xmin progress: 99%\r"
     ]
    },
    {
     "name": "stderr",
     "output_type": "stream",
     "text": [
      "Assuming nested distributions\n",
      "c:\\Users\\user\\anaconda3\\lib\\site-packages\\powerlaw.py:1507: RuntimeWarning: overflow encountered in divide\n",
      "  likelihoods = f/C\n",
      "c:\\Users\\user\\anaconda3\\lib\\site-packages\\powerlaw.py:1615: RuntimeWarning: divide by zero encountered in divide\n",
      "  CDF = CDF/norm\n",
      "c:\\Users\\user\\anaconda3\\lib\\site-packages\\powerlaw.py:1615: RuntimeWarning: invalid value encountered in divide\n",
      "  CDF = CDF/norm\n",
      "'nan' in fit cumulative distribution values.\n",
      "Likely underflow or overflow error: the optimal fit for this distribution gives values that are so extreme that we lack the numerical precision to calculate them.\n"
     ]
    },
    {
     "name": "stdout",
     "output_type": "stream",
     "text": [
      "xmin progress: 99%\r"
     ]
    },
    {
     "name": "stderr",
     "output_type": "stream",
     "text": [
      "Assuming nested distributions\n"
     ]
    },
    {
     "name": "stdout",
     "output_type": "stream",
     "text": [
      "xmin progress: 00%\r"
     ]
    },
    {
     "name": "stderr",
     "output_type": "stream",
     "text": [
      "Assuming nested distributions\n"
     ]
    },
    {
     "name": "stdout",
     "output_type": "stream",
     "text": [
      "xmin progress: 99%\r"
     ]
    },
    {
     "name": "stderr",
     "output_type": "stream",
     "text": [
      "Assuming nested distributions\n"
     ]
    },
    {
     "name": "stdout",
     "output_type": "stream",
     "text": [
      "xmin progress: 99%\r"
     ]
    },
    {
     "name": "stderr",
     "output_type": "stream",
     "text": [
      "Assuming nested distributions\n"
     ]
    },
    {
     "name": "stdout",
     "output_type": "stream",
     "text": [
      "xmin progress: 99%\r"
     ]
    },
    {
     "name": "stderr",
     "output_type": "stream",
     "text": [
      "Assuming nested distributions\n",
      "c:\\Users\\user\\anaconda3\\lib\\site-packages\\powerlaw.py:1615: RuntimeWarning: invalid value encountered in divide\n",
      "  CDF = CDF/norm\n",
      "'nan' in fit cumulative distribution values.\n",
      "Likely underflow or overflow error: the optimal fit for this distribution gives values that are so extreme that we lack the numerical precision to calculate them.\n"
     ]
    },
    {
     "name": "stdout",
     "output_type": "stream",
     "text": [
      "xmin progress: 00%\r"
     ]
    },
    {
     "name": "stderr",
     "output_type": "stream",
     "text": [
      "Assuming nested distributions\n",
      "Assuming nested distributions\n"
     ]
    },
    {
     "name": "stdout",
     "output_type": "stream",
     "text": [
      "xmin progress: 18%\r"
     ]
    },
    {
     "name": "stderr",
     "output_type": "stream",
     "text": [
      "Assuming nested distributions\n"
     ]
    },
    {
     "name": "stdout",
     "output_type": "stream",
     "text": [
      "xmin progress: 99%\r"
     ]
    },
    {
     "name": "stderr",
     "output_type": "stream",
     "text": [
      "Assuming nested distributions\n"
     ]
    },
    {
     "name": "stdout",
     "output_type": "stream",
     "text": [
      "xmin progress: 99%\r"
     ]
    },
    {
     "name": "stderr",
     "output_type": "stream",
     "text": [
      "Assuming nested distributions\n"
     ]
    },
    {
     "name": "stdout",
     "output_type": "stream",
     "text": [
      "xmin progress: 99%\r"
     ]
    },
    {
     "name": "stderr",
     "output_type": "stream",
     "text": [
      "Assuming nested distributions\n"
     ]
    },
    {
     "name": "stdout",
     "output_type": "stream",
     "text": [
      "xmin progress: 99%\r"
     ]
    },
    {
     "name": "stderr",
     "output_type": "stream",
     "text": [
      "Assuming nested distributions\n"
     ]
    },
    {
     "name": "stdout",
     "output_type": "stream",
     "text": [
      "xmin progress: 99%\r"
     ]
    },
    {
     "name": "stderr",
     "output_type": "stream",
     "text": [
      "Assuming nested distributions\n",
      "c:\\Users\\user\\anaconda3\\lib\\site-packages\\powerlaw.py:1507: RuntimeWarning: overflow encountered in divide\n",
      "  likelihoods = f/C\n",
      "c:\\Users\\user\\anaconda3\\lib\\site-packages\\powerlaw.py:1615: RuntimeWarning: divide by zero encountered in divide\n",
      "  CDF = CDF/norm\n",
      "c:\\Users\\user\\anaconda3\\lib\\site-packages\\powerlaw.py:1615: RuntimeWarning: invalid value encountered in divide\n",
      "  CDF = CDF/norm\n",
      "'nan' in fit cumulative distribution values.\n",
      "Likely underflow or overflow error: the optimal fit for this distribution gives values that are so extreme that we lack the numerical precision to calculate them.\n"
     ]
    },
    {
     "name": "stdout",
     "output_type": "stream",
     "text": [
      "xmin progress: 99%\r"
     ]
    },
    {
     "name": "stderr",
     "output_type": "stream",
     "text": [
      "Assuming nested distributions\n"
     ]
    },
    {
     "name": "stdout",
     "output_type": "stream",
     "text": [
      "xmin progress: 99%\r"
     ]
    },
    {
     "name": "stderr",
     "output_type": "stream",
     "text": [
      "Assuming nested distributions\n"
     ]
    },
    {
     "name": "stdout",
     "output_type": "stream",
     "text": [
      "xmin progress: 19%\r"
     ]
    },
    {
     "name": "stderr",
     "output_type": "stream",
     "text": [
      "Assuming nested distributions\n"
     ]
    },
    {
     "name": "stdout",
     "output_type": "stream",
     "text": [
      "xmin progress: 99%\r"
     ]
    },
    {
     "name": "stderr",
     "output_type": "stream",
     "text": [
      "Assuming nested distributions\n",
      "c:\\Users\\user\\anaconda3\\lib\\site-packages\\powerlaw.py:1615: RuntimeWarning: invalid value encountered in divide\n",
      "  CDF = CDF/norm\n",
      "'nan' in fit cumulative distribution values.\n",
      "Likely underflow or overflow error: the optimal fit for this distribution gives values that are so extreme that we lack the numerical precision to calculate them.\n"
     ]
    },
    {
     "name": "stdout",
     "output_type": "stream",
     "text": [
      "xmin progress: 99%\r"
     ]
    },
    {
     "name": "stderr",
     "output_type": "stream",
     "text": [
      "Assuming nested distributions\n",
      "c:\\Users\\user\\anaconda3\\lib\\site-packages\\powerlaw.py:1507: RuntimeWarning: overflow encountered in divide\n",
      "  likelihoods = f/C\n",
      "c:\\Users\\user\\anaconda3\\lib\\site-packages\\powerlaw.py:1615: RuntimeWarning: divide by zero encountered in divide\n",
      "  CDF = CDF/norm\n",
      "'nan' in fit cumulative distribution values.\n",
      "Likely underflow or overflow error: the optimal fit for this distribution gives values that are so extreme that we lack the numerical precision to calculate them.\n"
     ]
    },
    {
     "name": "stdout",
     "output_type": "stream",
     "text": [
      "xmin progress: 00%\r"
     ]
    },
    {
     "name": "stderr",
     "output_type": "stream",
     "text": [
      "Assuming nested distributions\n"
     ]
    },
    {
     "name": "stdout",
     "output_type": "stream",
     "text": [
      "xmin progress: 99%\r"
     ]
    },
    {
     "name": "stderr",
     "output_type": "stream",
     "text": [
      "Assuming nested distributions\n"
     ]
    },
    {
     "name": "stdout",
     "output_type": "stream",
     "text": [
      "xmin progress: 00%\r"
     ]
    },
    {
     "name": "stderr",
     "output_type": "stream",
     "text": [
      "Assuming nested distributions\n"
     ]
    },
    {
     "name": "stdout",
     "output_type": "stream",
     "text": [
      "xmin progress: 99%\r"
     ]
    },
    {
     "name": "stderr",
     "output_type": "stream",
     "text": [
      "Assuming nested distributions\n"
     ]
    },
    {
     "name": "stdout",
     "output_type": "stream",
     "text": [
      "xmin progress: 99%\r"
     ]
    },
    {
     "name": "stderr",
     "output_type": "stream",
     "text": [
      "Assuming nested distributions\n"
     ]
    },
    {
     "name": "stdout",
     "output_type": "stream",
     "text": [
      "xmin progress: 99%\r"
     ]
    },
    {
     "name": "stderr",
     "output_type": "stream",
     "text": [
      "Assuming nested distributions\n"
     ]
    },
    {
     "name": "stdout",
     "output_type": "stream",
     "text": [
      "xmin progress: 10%\r"
     ]
    },
    {
     "name": "stderr",
     "output_type": "stream",
     "text": [
      "Assuming nested distributions\n"
     ]
    },
    {
     "name": "stdout",
     "output_type": "stream",
     "text": [
      "xmin progress: 99%\r"
     ]
    },
    {
     "name": "stderr",
     "output_type": "stream",
     "text": [
      "Assuming nested distributions\n"
     ]
    },
    {
     "name": "stdout",
     "output_type": "stream",
     "text": [
      "xmin progress: 99%\r"
     ]
    },
    {
     "name": "stderr",
     "output_type": "stream",
     "text": [
      "Assuming nested distributions\n"
     ]
    },
    {
     "name": "stdout",
     "output_type": "stream",
     "text": [
      "xmin progress: 99%\r"
     ]
    },
    {
     "name": "stderr",
     "output_type": "stream",
     "text": [
      "Assuming nested distributions\n"
     ]
    },
    {
     "name": "stdout",
     "output_type": "stream",
     "text": [
      "xmin progress: 19%\r"
     ]
    },
    {
     "name": "stderr",
     "output_type": "stream",
     "text": [
      "Assuming nested distributions\n"
     ]
    },
    {
     "name": "stdout",
     "output_type": "stream",
     "text": [
      "xmin progress: 99%\r"
     ]
    },
    {
     "name": "stderr",
     "output_type": "stream",
     "text": [
      "Assuming nested distributions\n"
     ]
    },
    {
     "name": "stdout",
     "output_type": "stream",
     "text": [
      "xmin progress: 99%\r"
     ]
    },
    {
     "name": "stderr",
     "output_type": "stream",
     "text": [
      "Assuming nested distributions\n"
     ]
    },
    {
     "name": "stdout",
     "output_type": "stream",
     "text": [
      "xmin progress: 99%\r"
     ]
    },
    {
     "name": "stderr",
     "output_type": "stream",
     "text": [
      "Assuming nested distributions\n"
     ]
    },
    {
     "name": "stdout",
     "output_type": "stream",
     "text": [
      "xmin progress: 01%\r"
     ]
    },
    {
     "name": "stderr",
     "output_type": "stream",
     "text": [
      "Assuming nested distributions\n"
     ]
    },
    {
     "name": "stdout",
     "output_type": "stream",
     "text": [
      "xmin progress: 46%"
     ]
    },
    {
     "name": "stderr",
     "output_type": "stream",
     "text": [
      "Assuming nested distributions\n"
     ]
    },
    {
     "name": "stdout",
     "output_type": "stream",
     "text": [
      "xmin progress: 16%\r"
     ]
    },
    {
     "name": "stderr",
     "output_type": "stream",
     "text": [
      "Assuming nested distributions\n"
     ]
    },
    {
     "name": "stdout",
     "output_type": "stream",
     "text": [
      "xmin progress: 99%\r"
     ]
    },
    {
     "name": "stderr",
     "output_type": "stream",
     "text": [
      "Assuming nested distributions\n",
      "c:\\Users\\user\\anaconda3\\lib\\site-packages\\powerlaw.py:1507: RuntimeWarning: overflow encountered in divide\n",
      "  likelihoods = f/C\n",
      "c:\\Users\\user\\anaconda3\\lib\\site-packages\\powerlaw.py:1615: RuntimeWarning: divide by zero encountered in divide\n",
      "  CDF = CDF/norm\n",
      "c:\\Users\\user\\anaconda3\\lib\\site-packages\\powerlaw.py:1615: RuntimeWarning: invalid value encountered in divide\n",
      "  CDF = CDF/norm\n",
      "'nan' in fit cumulative distribution values.\n",
      "Likely underflow or overflow error: the optimal fit for this distribution gives values that are so extreme that we lack the numerical precision to calculate them.\n"
     ]
    },
    {
     "name": "stdout",
     "output_type": "stream",
     "text": [
      "xmin progress: 00%\r"
     ]
    },
    {
     "name": "stderr",
     "output_type": "stream",
     "text": [
      "Assuming nested distributions\n"
     ]
    },
    {
     "name": "stdout",
     "output_type": "stream",
     "text": [
      "xmin progress: 00%\r"
     ]
    },
    {
     "name": "stderr",
     "output_type": "stream",
     "text": [
      "Assuming nested distributions\n",
      "Assuming nested distributions\n"
     ]
    },
    {
     "name": "stdout",
     "output_type": "stream",
     "text": [
      "xmin progress: 99%\r"
     ]
    },
    {
     "name": "stderr",
     "output_type": "stream",
     "text": [
      "Assuming nested distributions\n"
     ]
    },
    {
     "name": "stdout",
     "output_type": "stream",
     "text": [
      "xmin progress: 99%\r"
     ]
    },
    {
     "name": "stderr",
     "output_type": "stream",
     "text": [
      "Assuming nested distributions\n"
     ]
    },
    {
     "name": "stdout",
     "output_type": "stream",
     "text": [
      "xmin progress: 99%\r"
     ]
    },
    {
     "name": "stderr",
     "output_type": "stream",
     "text": [
      "Assuming nested distributions\n"
     ]
    },
    {
     "name": "stdout",
     "output_type": "stream",
     "text": [
      "xmin progress: 99%\r"
     ]
    },
    {
     "name": "stderr",
     "output_type": "stream",
     "text": [
      "Assuming nested distributions\n"
     ]
    },
    {
     "name": "stdout",
     "output_type": "stream",
     "text": [
      "xmin progress: 60%"
     ]
    },
    {
     "name": "stderr",
     "output_type": "stream",
     "text": [
      "Assuming nested distributions\n"
     ]
    },
    {
     "name": "stdout",
     "output_type": "stream",
     "text": [
      "xmin progress: 99%\r"
     ]
    },
    {
     "name": "stderr",
     "output_type": "stream",
     "text": [
      "Assuming nested distributions\n"
     ]
    },
    {
     "name": "stdout",
     "output_type": "stream",
     "text": [
      "xmin progress: 99%\r"
     ]
    },
    {
     "name": "stderr",
     "output_type": "stream",
     "text": [
      "Assuming nested distributions\n"
     ]
    },
    {
     "name": "stdout",
     "output_type": "stream",
     "text": [
      "xmin progress: 99%\r"
     ]
    },
    {
     "name": "stderr",
     "output_type": "stream",
     "text": [
      "Assuming nested distributions\n",
      "c:\\Users\\user\\anaconda3\\lib\\site-packages\\powerlaw.py:1507: RuntimeWarning: overflow encountered in divide\n",
      "  likelihoods = f/C\n",
      "c:\\Users\\user\\anaconda3\\lib\\site-packages\\powerlaw.py:1615: RuntimeWarning: divide by zero encountered in divide\n",
      "  CDF = CDF/norm\n",
      "c:\\Users\\user\\anaconda3\\lib\\site-packages\\powerlaw.py:1615: RuntimeWarning: invalid value encountered in divide\n",
      "  CDF = CDF/norm\n",
      "'nan' in fit cumulative distribution values.\n",
      "Likely underflow or overflow error: the optimal fit for this distribution gives values that are so extreme that we lack the numerical precision to calculate them.\n"
     ]
    },
    {
     "name": "stdout",
     "output_type": "stream",
     "text": [
      "xmin progress: 99%\r"
     ]
    },
    {
     "name": "stderr",
     "output_type": "stream",
     "text": [
      "Assuming nested distributions\n"
     ]
    },
    {
     "name": "stdout",
     "output_type": "stream",
     "text": [
      "xmin progress: 99%\r"
     ]
    },
    {
     "name": "stderr",
     "output_type": "stream",
     "text": [
      "Assuming nested distributions\n"
     ]
    },
    {
     "name": "stdout",
     "output_type": "stream",
     "text": [
      "xmin progress: 99%\r"
     ]
    },
    {
     "name": "stderr",
     "output_type": "stream",
     "text": [
      "Assuming nested distributions\n"
     ]
    },
    {
     "name": "stdout",
     "output_type": "stream",
     "text": [
      "xmin progress: 99%\r"
     ]
    },
    {
     "name": "stderr",
     "output_type": "stream",
     "text": [
      "Assuming nested distributions\n"
     ]
    },
    {
     "name": "stdout",
     "output_type": "stream",
     "text": [
      "xmin progress: 99%\r"
     ]
    },
    {
     "name": "stderr",
     "output_type": "stream",
     "text": [
      "Assuming nested distributions\n"
     ]
    },
    {
     "name": "stdout",
     "output_type": "stream",
     "text": [
      "xmin progress: 99%\r"
     ]
    },
    {
     "name": "stderr",
     "output_type": "stream",
     "text": [
      "Assuming nested distributions\n"
     ]
    },
    {
     "name": "stdout",
     "output_type": "stream",
     "text": [
      "xmin progress: 99%\r"
     ]
    },
    {
     "name": "stderr",
     "output_type": "stream",
     "text": [
      "Assuming nested distributions\n"
     ]
    },
    {
     "name": "stdout",
     "output_type": "stream",
     "text": [
      "xmin progress: 99%\r"
     ]
    },
    {
     "name": "stderr",
     "output_type": "stream",
     "text": [
      "Assuming nested distributions\n"
     ]
    },
    {
     "name": "stdout",
     "output_type": "stream",
     "text": [
      "xmin progress: 99%\r"
     ]
    },
    {
     "name": "stderr",
     "output_type": "stream",
     "text": [
      "Assuming nested distributions\n",
      "Assuming nested distributions\n"
     ]
    },
    {
     "name": "stdout",
     "output_type": "stream",
     "text": [
      "xmin progress: 99%\r"
     ]
    },
    {
     "name": "stderr",
     "output_type": "stream",
     "text": [
      "Assuming nested distributions\n"
     ]
    },
    {
     "name": "stdout",
     "output_type": "stream",
     "text": [
      "xmin progress: 99%\r"
     ]
    },
    {
     "name": "stderr",
     "output_type": "stream",
     "text": [
      "Assuming nested distributions\n",
      "'nan' in fit cumulative distribution values.\n",
      "Likely underflow or overflow error: the optimal fit for this distribution gives values that are so extreme that we lack the numerical precision to calculate them.\n"
     ]
    },
    {
     "name": "stdout",
     "output_type": "stream",
     "text": [
      "xmin progress: 08%"
     ]
    },
    {
     "name": "stderr",
     "output_type": "stream",
     "text": [
      "Assuming nested distributions\n"
     ]
    },
    {
     "name": "stdout",
     "output_type": "stream",
     "text": [
      "xmin progress: 99%\r"
     ]
    },
    {
     "name": "stderr",
     "output_type": "stream",
     "text": [
      "Assuming nested distributions\n"
     ]
    },
    {
     "name": "stdout",
     "output_type": "stream",
     "text": [
      "xmin progress: 99%\r"
     ]
    },
    {
     "name": "stderr",
     "output_type": "stream",
     "text": [
      "Assuming nested distributions\n",
      "'nan' in fit cumulative distribution values.\n",
      "Likely underflow or overflow error: the optimal fit for this distribution gives values that are so extreme that we lack the numerical precision to calculate them.\n"
     ]
    },
    {
     "name": "stdout",
     "output_type": "stream",
     "text": [
      "xmin progress: 99%\r"
     ]
    },
    {
     "name": "stderr",
     "output_type": "stream",
     "text": [
      "Assuming nested distributions\n"
     ]
    },
    {
     "name": "stdout",
     "output_type": "stream",
     "text": [
      "xmin progress: 99%\r"
     ]
    },
    {
     "name": "stderr",
     "output_type": "stream",
     "text": [
      "Assuming nested distributions\n"
     ]
    },
    {
     "name": "stdout",
     "output_type": "stream",
     "text": [
      "xmin progress: 76%\r"
     ]
    },
    {
     "name": "stderr",
     "output_type": "stream",
     "text": [
      "Assuming nested distributions\n",
      "Assuming nested distributions\n"
     ]
    },
    {
     "name": "stdout",
     "output_type": "stream",
     "text": [
      "xmin progress: 99%\r"
     ]
    },
    {
     "name": "stderr",
     "output_type": "stream",
     "text": [
      "c:\\Users\\user\\anaconda3\\lib\\site-packages\\powerlaw.py:1615: RuntimeWarning: invalid value encountered in divide\n",
      "  CDF = CDF/norm\n",
      "'nan' in fit cumulative distribution values.\n",
      "Likely underflow or overflow error: the optimal fit for this distribution gives values that are so extreme that we lack the numerical precision to calculate them.\n"
     ]
    },
    {
     "name": "stdout",
     "output_type": "stream",
     "text": [
      "xmin progress: 99%\r"
     ]
    },
    {
     "name": "stderr",
     "output_type": "stream",
     "text": [
      "Assuming nested distributions\n"
     ]
    },
    {
     "name": "stdout",
     "output_type": "stream",
     "text": [
      "xmin progress: 99%\r"
     ]
    },
    {
     "name": "stderr",
     "output_type": "stream",
     "text": [
      "Assuming nested distributions\n"
     ]
    },
    {
     "name": "stdout",
     "output_type": "stream",
     "text": [
      "xmin progress: 12%"
     ]
    },
    {
     "name": "stderr",
     "output_type": "stream",
     "text": [
      "Assuming nested distributions\n",
      "Assuming nested distributions\n"
     ]
    },
    {
     "name": "stdout",
     "output_type": "stream",
     "text": [
      "xmin progress: 99%\r"
     ]
    },
    {
     "name": "stderr",
     "output_type": "stream",
     "text": [
      "c:\\Users\\user\\anaconda3\\lib\\site-packages\\powerlaw.py:1507: RuntimeWarning: overflow encountered in divide\n",
      "  likelihoods = f/C\n",
      "c:\\Users\\user\\anaconda3\\lib\\site-packages\\powerlaw.py:1615: RuntimeWarning: divide by zero encountered in divide\n",
      "  CDF = CDF/norm\n",
      "'nan' in fit cumulative distribution values.\n",
      "Likely underflow or overflow error: the optimal fit for this distribution gives values that are so extreme that we lack the numerical precision to calculate them.\n"
     ]
    },
    {
     "name": "stdout",
     "output_type": "stream",
     "text": [
      "xmin progress: 99%\r"
     ]
    },
    {
     "name": "stderr",
     "output_type": "stream",
     "text": [
      "Assuming nested distributions\n"
     ]
    },
    {
     "name": "stdout",
     "output_type": "stream",
     "text": [
      "xmin progress: 99%\r"
     ]
    },
    {
     "name": "stderr",
     "output_type": "stream",
     "text": [
      "Assuming nested distributions\n"
     ]
    },
    {
     "name": "stdout",
     "output_type": "stream",
     "text": [
      "xmin progress: 05%"
     ]
    },
    {
     "name": "stderr",
     "output_type": "stream",
     "text": [
      "Assuming nested distributions\n",
      "Assuming nested distributions\n"
     ]
    },
    {
     "name": "stdout",
     "output_type": "stream",
     "text": [
      "xmin progress: 99%\r"
     ]
    },
    {
     "name": "stderr",
     "output_type": "stream",
     "text": [
      "Assuming nested distributions\n"
     ]
    },
    {
     "name": "stdout",
     "output_type": "stream",
     "text": [
      "xmin progress: 36%"
     ]
    },
    {
     "name": "stderr",
     "output_type": "stream",
     "text": [
      "Assuming nested distributions\n",
      "Assuming nested distributions\n"
     ]
    },
    {
     "name": "stdout",
     "output_type": "stream",
     "text": [
      "xmin progress: 99%\r"
     ]
    },
    {
     "name": "stderr",
     "output_type": "stream",
     "text": [
      "Assuming nested distributions\n"
     ]
    },
    {
     "name": "stdout",
     "output_type": "stream",
     "text": [
      "xmin progress: 99%\r"
     ]
    },
    {
     "name": "stderr",
     "output_type": "stream",
     "text": [
      "Assuming nested distributions\n"
     ]
    },
    {
     "name": "stdout",
     "output_type": "stream",
     "text": [
      "xmin progress: 99%\r"
     ]
    },
    {
     "name": "stderr",
     "output_type": "stream",
     "text": [
      "Assuming nested distributions\n"
     ]
    },
    {
     "name": "stdout",
     "output_type": "stream",
     "text": [
      "xmin progress: 08%"
     ]
    },
    {
     "name": "stderr",
     "output_type": "stream",
     "text": [
      "Assuming nested distributions\n"
     ]
    },
    {
     "name": "stdout",
     "output_type": "stream",
     "text": [
      "xmin progress: 99%\r"
     ]
    },
    {
     "name": "stderr",
     "output_type": "stream",
     "text": [
      "Assuming nested distributions\n",
      "Assuming nested distributions"
     ]
    },
    {
     "name": "stdout",
     "output_type": "stream",
     "text": [
      "xmin progress: 99%\r"
     ]
    },
    {
     "name": "stderr",
     "output_type": "stream",
     "text": [
      "\n",
      "Assuming nested distributions\n"
     ]
    },
    {
     "name": "stdout",
     "output_type": "stream",
     "text": [
      "xmin progress: 99%\r"
     ]
    },
    {
     "name": "stderr",
     "output_type": "stream",
     "text": [
      "Assuming nested distributions\n",
      "c:\\Users\\user\\anaconda3\\lib\\site-packages\\powerlaw.py:1615: RuntimeWarning: invalid value encountered in divide\n",
      "  CDF = CDF/norm\n",
      "'nan' in fit cumulative distribution values.\n",
      "Likely underflow or overflow error: the optimal fit for this distribution gives values that are so extreme that we lack the numerical precision to calculate them.\n"
     ]
    },
    {
     "name": "stdout",
     "output_type": "stream",
     "text": [
      "xmin progress: 99%\r"
     ]
    },
    {
     "name": "stderr",
     "output_type": "stream",
     "text": [
      "Assuming nested distributions\n",
      "c:\\Users\\user\\anaconda3\\lib\\site-packages\\powerlaw.py:1507: RuntimeWarning: overflow encountered in divide\n",
      "  likelihoods = f/C\n",
      "c:\\Users\\user\\anaconda3\\lib\\site-packages\\powerlaw.py:1615: RuntimeWarning: divide by zero encountered in divide\n",
      "  CDF = CDF/norm\n",
      "'nan' in fit cumulative distribution values.\n",
      "Likely underflow or overflow error: the optimal fit for this distribution gives values that are so extreme that we lack the numerical precision to calculate them.\n"
     ]
    },
    {
     "name": "stdout",
     "output_type": "stream",
     "text": [
      "xmin progress: 99%\r"
     ]
    },
    {
     "name": "stderr",
     "output_type": "stream",
     "text": [
      "Assuming nested distributions\n",
      "Assuming nested distributions\n"
     ]
    },
    {
     "name": "stdout",
     "output_type": "stream",
     "text": [
      "xmin progress: 99%\r"
     ]
    },
    {
     "name": "stderr",
     "output_type": "stream",
     "text": [
      "Assuming nested distributions\n"
     ]
    },
    {
     "name": "stdout",
     "output_type": "stream",
     "text": [
      "xmin progress: 99%\r"
     ]
    },
    {
     "name": "stderr",
     "output_type": "stream",
     "text": [
      "Assuming nested distributions\n"
     ]
    },
    {
     "name": "stdout",
     "output_type": "stream",
     "text": [
      "xmin progress: 99%\r"
     ]
    },
    {
     "name": "stderr",
     "output_type": "stream",
     "text": [
      "Assuming nested distributions\n"
     ]
    },
    {
     "name": "stdout",
     "output_type": "stream",
     "text": [
      "xmin progress: 29%"
     ]
    },
    {
     "name": "stderr",
     "output_type": "stream",
     "text": [
      "Assuming nested distributions\n",
      "'nan' in fit cumulative distribution values.\n",
      "Likely underflow or overflow error: the optimal fit for this distribution gives values that are so extreme that we lack the numerical precision to calculate them.\n"
     ]
    },
    {
     "name": "stdout",
     "output_type": "stream",
     "text": [
      "xmin progress: 99%\r"
     ]
    },
    {
     "name": "stderr",
     "output_type": "stream",
     "text": [
      "Assuming nested distributions\n"
     ]
    },
    {
     "name": "stdout",
     "output_type": "stream",
     "text": [
      "xmin progress: 99%\r"
     ]
    },
    {
     "name": "stderr",
     "output_type": "stream",
     "text": [
      "Assuming nested distributions\n"
     ]
    },
    {
     "name": "stdout",
     "output_type": "stream",
     "text": [
      "xmin progress: 40%"
     ]
    },
    {
     "name": "stderr",
     "output_type": "stream",
     "text": [
      "Assuming nested distributions\n"
     ]
    },
    {
     "name": "stdout",
     "output_type": "stream",
     "text": [
      "xmin progress: 99%\r"
     ]
    },
    {
     "name": "stderr",
     "output_type": "stream",
     "text": [
      "Assuming nested distributions\n"
     ]
    },
    {
     "name": "stdout",
     "output_type": "stream",
     "text": [
      "xmin progress: 99%\r"
     ]
    },
    {
     "name": "stderr",
     "output_type": "stream",
     "text": [
      "Assuming nested distributions\n"
     ]
    },
    {
     "name": "stdout",
     "output_type": "stream",
     "text": [
      "xmin progress: 66%"
     ]
    },
    {
     "name": "stderr",
     "output_type": "stream",
     "text": [
      "Assuming nested distributions\n"
     ]
    },
    {
     "name": "stdout",
     "output_type": "stream",
     "text": [
      "xmin progress: 99%\r"
     ]
    },
    {
     "name": "stderr",
     "output_type": "stream",
     "text": [
      "Assuming nested distributions\n"
     ]
    },
    {
     "name": "stdout",
     "output_type": "stream",
     "text": [
      "xmin progress: 99%\r"
     ]
    },
    {
     "name": "stderr",
     "output_type": "stream",
     "text": [
      "Assuming nested distributions\n"
     ]
    },
    {
     "name": "stdout",
     "output_type": "stream",
     "text": [
      "xmin progress: 67%"
     ]
    },
    {
     "name": "stderr",
     "output_type": "stream",
     "text": [
      "Assuming nested distributions\n"
     ]
    },
    {
     "name": "stdout",
     "output_type": "stream",
     "text": [
      "xmin progress: 20%"
     ]
    },
    {
     "name": "stderr",
     "output_type": "stream",
     "text": [
      "Assuming nested distributions\n"
     ]
    },
    {
     "name": "stdout",
     "output_type": "stream",
     "text": [
      "xmin progress: 99%\r"
     ]
    },
    {
     "name": "stderr",
     "output_type": "stream",
     "text": [
      "Assuming nested distributions\n"
     ]
    },
    {
     "name": "stdout",
     "output_type": "stream",
     "text": [
      "xmin progress: 99%\r"
     ]
    },
    {
     "name": "stderr",
     "output_type": "stream",
     "text": [
      "Assuming nested distributions\n"
     ]
    },
    {
     "name": "stdout",
     "output_type": "stream",
     "text": [
      "xmin progress: 99%\r"
     ]
    },
    {
     "name": "stderr",
     "output_type": "stream",
     "text": [
      "Assuming nested distributions\n"
     ]
    },
    {
     "name": "stdout",
     "output_type": "stream",
     "text": [
      "xmin progress: 01%"
     ]
    },
    {
     "name": "stderr",
     "output_type": "stream",
     "text": [
      "Assuming nested distributions\n",
      "Assuming nested distributions\n"
     ]
    },
    {
     "name": "stdout",
     "output_type": "stream",
     "text": [
      "xmin progress: 99%\r"
     ]
    },
    {
     "name": "stderr",
     "output_type": "stream",
     "text": [
      "Assuming nested distributions\n",
      "Assuming nested distributions\n",
      "c:\\Users\\user\\anaconda3\\lib\\site-packages\\powerlaw.py:1507: RuntimeWarning: overflow encountered in divide\n",
      "  likelihoods = f/C\n",
      "c:\\Users\\user\\anaconda3\\lib\\site-packages\\powerlaw.py:1615: RuntimeWarning: divide by zero encountered in divide\n",
      "  CDF = CDF/norm\n",
      "c:\\Users\\user\\anaconda3\\lib\\site-packages\\powerlaw.py:1615: RuntimeWarning: invalid value encountered in divide\n",
      "  CDF = CDF/norm\n",
      "'nan' in fit cumulative distribution values.\n",
      "Likely underflow or overflow error: the optimal fit for this distribution gives values that are so extreme that we lack the numerical precision to calculate them.\n"
     ]
    },
    {
     "name": "stdout",
     "output_type": "stream",
     "text": [
      "xmin progress: 99%\r"
     ]
    },
    {
     "name": "stderr",
     "output_type": "stream",
     "text": [
      "Assuming nested distributions\n"
     ]
    },
    {
     "name": "stdout",
     "output_type": "stream",
     "text": [
      "xmin progress: 32%"
     ]
    },
    {
     "name": "stderr",
     "output_type": "stream",
     "text": [
      "Assuming nested distributions\n"
     ]
    },
    {
     "name": "stdout",
     "output_type": "stream",
     "text": [
      "xmin progress: 99%\r"
     ]
    },
    {
     "name": "stderr",
     "output_type": "stream",
     "text": [
      "Assuming nested distributions\n"
     ]
    },
    {
     "name": "stdout",
     "output_type": "stream",
     "text": [
      "xmin progress: 99%\r"
     ]
    },
    {
     "name": "stderr",
     "output_type": "stream",
     "text": [
      "Assuming nested distributions\n",
      "c:\\Users\\user\\anaconda3\\lib\\site-packages\\powerlaw.py:1615: RuntimeWarning: divide by zero encountered in divide\n",
      "  CDF = CDF/norm\n",
      "c:\\Users\\user\\anaconda3\\lib\\site-packages\\powerlaw.py:1615: RuntimeWarning: invalid value encountered in divide\n",
      "  CDF = CDF/norm\n",
      "'nan' in fit cumulative distribution values.\n",
      "Likely underflow or overflow error: the optimal fit for this distribution gives values that are so extreme that we lack the numerical precision to calculate them.\n"
     ]
    },
    {
     "name": "stdout",
     "output_type": "stream",
     "text": [
      "xmin progress: 13%"
     ]
    },
    {
     "name": "stderr",
     "output_type": "stream",
     "text": [
      "Assuming nested distributions\n"
     ]
    },
    {
     "name": "stdout",
     "output_type": "stream",
     "text": [
      "xmin progress: 31%"
     ]
    },
    {
     "name": "stderr",
     "output_type": "stream",
     "text": [
      "Assuming nested distributions\n"
     ]
    },
    {
     "name": "stdout",
     "output_type": "stream",
     "text": [
      "xmin progress: 54%"
     ]
    },
    {
     "name": "stderr",
     "output_type": "stream",
     "text": [
      "Assuming nested distributions\n"
     ]
    },
    {
     "name": "stdout",
     "output_type": "stream",
     "text": [
      "xmin progress: 99%\r"
     ]
    },
    {
     "name": "stderr",
     "output_type": "stream",
     "text": [
      "Assuming nested distributions\n",
      "c:\\Users\\user\\anaconda3\\lib\\site-packages\\powerlaw.py:1408: RuntimeWarning: overflow encountered in scalar power\n",
      "  C = ( self.Lambda**(1-self.alpha) /\n",
      "c:\\Users\\user\\anaconda3\\lib\\site-packages\\scipy\\optimize\\_optimize.py:917: RuntimeWarning: invalid value encountered in subtract\n",
      "  np.max(np.abs(fsim[0] - fsim[1:])) <= fatol):\n",
      "c:\\Users\\user\\anaconda3\\lib\\site-packages\\powerlaw.py:1396: RuntimeWarning: overflow encountered in scalar power\n",
      "  self.Lambda**(1-self.alpha)\n",
      "c:\\Users\\user\\anaconda3\\lib\\site-packages\\powerlaw.py:1808: RuntimeWarning: invalid value encountered in subtract\n",
      "  ( (loglikelihoods1-loglikelihoods2) - mean_diff)**2\n",
      "'nan' in fit cumulative distribution values.\n",
      "Likely underflow or overflow error: the optimal fit for this distribution gives values that are so extreme that we lack the numerical precision to calculate them.\n",
      "Assuming nested distributions\n",
      "c:\\Users\\user\\anaconda3\\lib\\site-packages\\powerlaw.py:1507: RuntimeWarning: overflow encountered in divide\n",
      "  likelihoods = f/C\n"
     ]
    },
    {
     "name": "stdout",
     "output_type": "stream",
     "text": [
      "xmin progress: 99%\r"
     ]
    },
    {
     "name": "stderr",
     "output_type": "stream",
     "text": [
      "'nan' in fit cumulative distribution values.\n",
      "Likely underflow or overflow error: the optimal fit for this distribution gives values that are so extreme that we lack the numerical precision to calculate them.\n",
      "Assuming nested distributions\n"
     ]
    },
    {
     "name": "stdout",
     "output_type": "stream",
     "text": [
      "xmin progress: 99%\r"
     ]
    },
    {
     "name": "stderr",
     "output_type": "stream",
     "text": [
      "Assuming nested distributions\n"
     ]
    },
    {
     "name": "stdout",
     "output_type": "stream",
     "text": [
      "xmin progress: 99%\r"
     ]
    },
    {
     "name": "stderr",
     "output_type": "stream",
     "text": [
      "Assuming nested distributions\n"
     ]
    },
    {
     "name": "stdout",
     "output_type": "stream",
     "text": [
      "xmin progress: 99%\r"
     ]
    },
    {
     "name": "stderr",
     "output_type": "stream",
     "text": [
      "Assuming nested distributions\n"
     ]
    },
    {
     "name": "stdout",
     "output_type": "stream",
     "text": [
      "xmin progress: 99%\r"
     ]
    },
    {
     "name": "stderr",
     "output_type": "stream",
     "text": [
      "Assuming nested distributions\n"
     ]
    },
    {
     "name": "stdout",
     "output_type": "stream",
     "text": [
      "xmin progress: 06%"
     ]
    },
    {
     "name": "stderr",
     "output_type": "stream",
     "text": [
      "Assuming nested distributions\n"
     ]
    },
    {
     "name": "stdout",
     "output_type": "stream",
     "text": [
      "xmin progress: 99%\r"
     ]
    },
    {
     "name": "stderr",
     "output_type": "stream",
     "text": [
      "Assuming nested distributions\n"
     ]
    },
    {
     "name": "stdout",
     "output_type": "stream",
     "text": [
      "xmin progress: 25%"
     ]
    },
    {
     "name": "stderr",
     "output_type": "stream",
     "text": [
      "Assuming nested distributions\n"
     ]
    },
    {
     "name": "stdout",
     "output_type": "stream",
     "text": [
      "xmin progress: 08%"
     ]
    },
    {
     "name": "stderr",
     "output_type": "stream",
     "text": [
      "Assuming nested distributions\n"
     ]
    },
    {
     "name": "stdout",
     "output_type": "stream",
     "text": [
      "xmin progress: 99%\r"
     ]
    }
   ],
   "source": [
    "# Lightning frequency\n",
    "L = 50\n",
    "f = 50\n",
    "parameter_to_change = 'f'\n",
    "range_min = 5\n",
    "range_max = 100\n",
    "range_step = 5\n",
    "time_steps = 10 ** 5\n",
    "instances = 30\n",
    "include_lakes = False\n",
    "lake_proportion = 0\n",
    "\n",
    "sensitivity_f = SensitivityAnal(L,f,parameter_to_change, range_min, range_max, range_step, \n",
    "                                       time_steps, instances, include_lakes, lake_proportion)\n",
    "sensitivity_f.run()\n"
   ]
  },
  {
   "cell_type": "code",
   "execution_count": 9,
   "metadata": {},
   "outputs": [
    {
     "data": {
      "image/png": "[encoded data removed]",
      "text/plain": [
       "<Figure size 720x432 with 1 Axes>"
      ]
     },
     "metadata": {
      "needs_background": "light"
     },
     "output_type": "display_data"
    }
   ],
   "source": [
    "# Make plots based on previous simulation\n",
    "sensitivity_f.make_distributions_plots()\n",
    "sensitivity_f.make_stability_plot()\n",
    "sensitivity_f.plot_average_tree_densities()\n",
    "sensitivity_f.make_mean_fire_size_boxplot()"
   ]
  },
  {
   "cell_type": "markdown",
   "metadata": {},
   "source": [
    "Sensitivity analysis from $f = 100$ up until $1000$ in steps of $50$"
   ]
  },
  {
   "cell_type": "code",
   "execution_count": 9,
   "metadata": {},
   "outputs": [
    {
     "name": "stderr",
     "output_type": "stream",
     "text": [
      "Less than 2 unique data values left after xmin and xmax options! Cannot fit. Returning nans.\n",
      "c:\\Users\\user\\anaconda3\\lib\\site-packages\\powerlaw.py:1151: RuntimeWarning: invalid value encountered in scalar divide\n",
      "  self.alpha = 1 + (self.n / sum(log(data/self.xmin)))\n",
      "c:\\Users\\user\\anaconda3\\lib\\site-packages\\powerlaw.py:1170: RuntimeWarning: invalid value encountered in scalar divide\n",
      "  return 1 + len(data)/sum(log(data / (self.xmin)))\n",
      "Not enough data. Returning nan\n",
      "Not enough data. Returning nan\n",
      "c:\\Users\\user\\anaconda3\\lib\\site-packages\\numpy\\core\\fromnumeric.py:3504: RuntimeWarning: Mean of empty slice.\n",
      "  return _methods._mean(a, axis=axis, dtype=dtype,\n",
      "c:\\Users\\user\\anaconda3\\lib\\site-packages\\numpy\\core\\_methods.py:129: RuntimeWarning: invalid value encountered in scalar divide\n",
      "  ret = ret.dtype.type(ret / rcount)\n",
      "No valid fits found.\n",
      "Not enough data. Returning nan\n",
      "Assuming nested distributions\n",
      "c:\\Users\\user\\anaconda3\\lib\\site-packages\\powerlaw.py:1383: RuntimeWarning: invalid value encountered in scalar divide\n",
      "  alpha = 1 + len(data)/sum( log( data / (self.xmin) ))\n",
      "No valid fits found.\n",
      "Not enough data. Returning nan\n",
      "c:\\Users\\user\\anaconda3\\lib\\site-packages\\numpy\\core\\_methods.py:206: RuntimeWarning: Degrees of freedom <= 0 for slice\n",
      "  ret = _var(a, axis=axis, dtype=dtype, out=out, ddof=ddof,\n",
      "c:\\Users\\user\\anaconda3\\lib\\site-packages\\numpy\\core\\_methods.py:163: RuntimeWarning: invalid value encountered in divide\n",
      "  arrmean = um.true_divide(arrmean, div, out=arrmean,\n",
      "c:\\Users\\user\\anaconda3\\lib\\site-packages\\numpy\\core\\_methods.py:198: RuntimeWarning: invalid value encountered in scalar divide\n",
      "  ret = ret.dtype.type(ret / rcount)\n",
      "No valid fits found.\n",
      "Not enough data. Returning nan\n",
      "Less than 2 unique data values left after xmin and xmax options! Cannot fit. Returning nans.\n",
      "Not enough data. Returning nan\n",
      "Not enough data. Returning nan\n",
      "No valid fits found.\n",
      "Not enough data. Returning nan\n",
      "Assuming nested distributions\n",
      "No valid fits found.\n",
      "Not enough data. Returning nan\n",
      "No valid fits found.\n",
      "Not enough data. Returning nan\n",
      "Less than 2 unique data values left after xmin and xmax options! Cannot fit. Returning nans.\n",
      "Not enough data. Returning nan\n",
      "Not enough data. Returning nan\n",
      "No valid fits found.\n",
      "Not enough data. Returning nan\n",
      "Assuming nested distributions\n",
      "No valid fits found.\n",
      "Not enough data. Returning nan\n",
      "No valid fits found.\n",
      "Not enough data. Returning nan\n",
      "Less than 2 unique data values left after xmin and xmax options! Cannot fit. Returning nans.\n",
      "Not enough data. Returning nan\n",
      "Not enough data. Returning nan\n",
      "No valid fits found.\n",
      "Not enough data. Returning nan\n",
      "Assuming nested distributions\n",
      "No valid fits found.\n",
      "Not enough data. Returning nan\n",
      "No valid fits found.\n",
      "Not enough data. Returning nan\n",
      "Less than 2 unique data values left after xmin and xmax options! Cannot fit. Returning nans.\n",
      "Not enough data. Returning nan\n",
      "Not enough data. Returning nan\n",
      "No valid fits found.\n",
      "Not enough data. Returning nan\n",
      "Assuming nested distributions\n",
      "No valid fits found.\n",
      "Not enough data. Returning nan\n",
      "No valid fits found.\n",
      "Not enough data. Returning nan\n",
      "Less than 2 unique data values left after xmin and xmax options! Cannot fit. Returning nans.\n",
      "c:\\Users\\user\\anaconda3\\lib\\site-packages\\powerlaw.py:1151: RuntimeWarning: invalid value encountered in scalar divide\n",
      "  self.alpha = 1 + (self.n / sum(log(data/self.xmin)))\n",
      "c:\\Users\\user\\anaconda3\\lib\\site-packages\\powerlaw.py:1170: RuntimeWarning: invalid value encountered in scalar divide\n",
      "  return 1 + len(data)/sum(log(data / (self.xmin)))\n",
      "Not enough data. Returning nan\n",
      "Not enough data. Returning nan\n",
      "c:\\Users\\user\\anaconda3\\lib\\site-packages\\numpy\\core\\fromnumeric.py:3504: RuntimeWarning: Mean of empty slice.\n",
      "  return _methods._mean(a, axis=axis, dtype=dtype,\n",
      "c:\\Users\\user\\anaconda3\\lib\\site-packages\\numpy\\core\\_methods.py:129: RuntimeWarning: invalid value encountered in scalar divide\n",
      "  ret = ret.dtype.type(ret / rcount)\n",
      "No valid fits found.\n",
      "Not enough data. Returning nan\n",
      "Assuming nested distributions\n",
      "c:\\Users\\user\\anaconda3\\lib\\site-packages\\powerlaw.py:1383: RuntimeWarning: invalid value encountered in scalar divide\n",
      "  alpha = 1 + len(data)/sum( log( data / (self.xmin) ))\n",
      "No valid fits found.\n",
      "Not enough data. Returning nan\n",
      "c:\\Users\\user\\anaconda3\\lib\\site-packages\\numpy\\core\\_methods.py:206: RuntimeWarning: Degrees of freedom <= 0 for slice\n",
      "  ret = _var(a, axis=axis, dtype=dtype, out=out, ddof=ddof,\n",
      "c:\\Users\\user\\anaconda3\\lib\\site-packages\\numpy\\core\\_methods.py:163: RuntimeWarning: invalid value encountered in divide\n",
      "  arrmean = um.true_divide(arrmean, div, out=arrmean,\n",
      "c:\\Users\\user\\anaconda3\\lib\\site-packages\\numpy\\core\\_methods.py:198: RuntimeWarning: invalid value encountered in scalar divide\n",
      "  ret = ret.dtype.type(ret / rcount)\n",
      "No valid fits found.\n",
      "Not enough data. Returning nan\n",
      "Less than 2 unique data values left after xmin and xmax options! Cannot fit. Returning nans.\n",
      "Not enough data. Returning nan\n",
      "Not enough data. Returning nan\n",
      "No valid fits found.\n",
      "Not enough data. Returning nan\n",
      "Assuming nested distributions\n",
      "No valid fits found.\n",
      "Not enough data. Returning nan\n",
      "No valid fits found.\n",
      "Not enough data. Returning nan\n",
      "Less than 2 unique data values left after xmin and xmax options! Cannot fit. Returning nans.\n",
      "Not enough data. Returning nan\n",
      "Not enough data. Returning nan\n",
      "No valid fits found.\n",
      "Not enough data. Returning nan\n",
      "Assuming nested distributions\n",
      "No valid fits found.\n",
      "Not enough data. Returning nan\n",
      "No valid fits found.\n",
      "Not enough data. Returning nan\n",
      "Less than 2 unique data values left after xmin and xmax options! Cannot fit. Returning nans.\n",
      "Not enough data. Returning nan\n",
      "Not enough data. Returning nan\n",
      "No valid fits found.\n",
      "Not enough data. Returning nan\n",
      "Assuming nested distributions\n",
      "No valid fits found.\n",
      "Not enough data. Returning nan\n",
      "No valid fits found.\n",
      "Not enough data. Returning nan\n",
      "Less than 2 unique data values left after xmin and xmax options! Cannot fit. Returning nans.\n",
      "Not enough data. Returning nan\n",
      "Not enough data. Returning nan\n",
      "No valid fits found.\n",
      "Not enough data. Returning nan\n",
      "Assuming nested distributions\n",
      "No valid fits found.\n",
      "Not enough data. Returning nan\n",
      "No valid fits found.\n",
      "Not enough data. Returning nan\n",
      "Less than 2 unique data values left after xmin and xmax options! Cannot fit. Returning nans.\n",
      "c:\\Users\\user\\anaconda3\\lib\\site-packages\\powerlaw.py:1151: RuntimeWarning: invalid value encountered in scalar divide\n",
      "  self.alpha = 1 + (self.n / sum(log(data/self.xmin)))\n",
      "c:\\Users\\user\\anaconda3\\lib\\site-packages\\powerlaw.py:1170: RuntimeWarning: invalid value encountered in scalar divide\n",
      "  return 1 + len(data)/sum(log(data / (self.xmin)))\n",
      "Not enough data. Returning nan\n",
      "Not enough data. Returning nan\n",
      "c:\\Users\\user\\anaconda3\\lib\\site-packages\\numpy\\core\\fromnumeric.py:3504: RuntimeWarning: Mean of empty slice.\n",
      "  return _methods._mean(a, axis=axis, dtype=dtype,\n",
      "c:\\Users\\user\\anaconda3\\lib\\site-packages\\numpy\\core\\_methods.py:129: RuntimeWarning: invalid value encountered in scalar divide\n",
      "  ret = ret.dtype.type(ret / rcount)\n",
      "No valid fits found.\n",
      "Not enough data. Returning nan\n",
      "Assuming nested distributions\n",
      "c:\\Users\\user\\anaconda3\\lib\\site-packages\\powerlaw.py:1383: RuntimeWarning: invalid value encountered in scalar divide\n",
      "  alpha = 1 + len(data)/sum( log( data / (self.xmin) ))\n",
      "No valid fits found.\n",
      "Not enough data. Returning nan\n",
      "c:\\Users\\user\\anaconda3\\lib\\site-packages\\numpy\\core\\_methods.py:206: RuntimeWarning: Degrees of freedom <= 0 for slice\n",
      "  ret = _var(a, axis=axis, dtype=dtype, out=out, ddof=ddof,\n",
      "c:\\Users\\user\\anaconda3\\lib\\site-packages\\numpy\\core\\_methods.py:163: RuntimeWarning: invalid value encountered in divide\n",
      "  arrmean = um.true_divide(arrmean, div, out=arrmean,\n",
      "c:\\Users\\user\\anaconda3\\lib\\site-packages\\numpy\\core\\_methods.py:198: RuntimeWarning: invalid value encountered in scalar divide\n",
      "  ret = ret.dtype.type(ret / rcount)\n",
      "No valid fits found.\n",
      "Not enough data. Returning nan\n",
      "Less than 2 unique data values left after xmin and xmax options! Cannot fit. Returning nans.\n",
      "Not enough data. Returning nan\n",
      "Not enough data. Returning nan\n",
      "No valid fits found.\n",
      "Not enough data. Returning nan\n",
      "Assuming nested distributions\n",
      "No valid fits found.\n",
      "Not enough data. Returning nan\n",
      "No valid fits found.\n",
      "Not enough data. Returning nan\n",
      "Less than 2 unique data values left after xmin and xmax options! Cannot fit. Returning nans.\n",
      "Not enough data. Returning nan\n",
      "Not enough data. Returning nan\n",
      "No valid fits found.\n",
      "Not enough data. Returning nan\n",
      "Assuming nested distributions\n",
      "No valid fits found.\n",
      "Not enough data. Returning nan\n",
      "No valid fits found.\n",
      "Not enough data. Returning nan\n",
      "Less than 2 unique data values left after xmin and xmax options! Cannot fit. Returning nans.\n",
      "Not enough data. Returning nan\n",
      "Not enough data. Returning nan\n",
      "No valid fits found.\n",
      "Not enough data. Returning nan\n",
      "Assuming nested distributions\n",
      "No valid fits found.\n",
      "Not enough data. Returning nan\n",
      "No valid fits found.\n",
      "Not enough data. Returning nan\n",
      "Less than 2 unique data values left after xmin and xmax options! Cannot fit. Returning nans.\n",
      "Not enough data. Returning nan\n",
      "Not enough data. Returning nan\n",
      "No valid fits found.\n",
      "Not enough data. Returning nan\n",
      "Assuming nested distributions\n",
      "No valid fits found.\n",
      "Not enough data. Returning nan\n",
      "No valid fits found.\n",
      "Not enough data. Returning nan\n",
      "Less than 2 unique data values left after xmin and xmax options! Cannot fit. Returning nans.\n",
      "c:\\Users\\user\\anaconda3\\lib\\site-packages\\powerlaw.py:1151: RuntimeWarning: invalid value encountered in scalar divide\n",
      "  self.alpha = 1 + (self.n / sum(log(data/self.xmin)))\n",
      "c:\\Users\\user\\anaconda3\\lib\\site-packages\\powerlaw.py:1170: RuntimeWarning: invalid value encountered in scalar divide\n",
      "  return 1 + len(data)/sum(log(data / (self.xmin)))\n",
      "Not enough data. Returning nan\n",
      "Not enough data. Returning nan\n",
      "c:\\Users\\user\\anaconda3\\lib\\site-packages\\numpy\\core\\fromnumeric.py:3504: RuntimeWarning: Mean of empty slice.\n",
      "  return _methods._mean(a, axis=axis, dtype=dtype,\n",
      "c:\\Users\\user\\anaconda3\\lib\\site-packages\\numpy\\core\\_methods.py:129: RuntimeWarning: invalid value encountered in scalar divide\n",
      "  ret = ret.dtype.type(ret / rcount)\n",
      "No valid fits found.\n",
      "Not enough data. Returning nan\n",
      "Assuming nested distributions\n",
      "c:\\Users\\user\\anaconda3\\lib\\site-packages\\powerlaw.py:1383: RuntimeWarning: invalid value encountered in scalar divide\n",
      "  alpha = 1 + len(data)/sum( log( data / (self.xmin) ))\n",
      "No valid fits found.\n",
      "Not enough data. Returning nan\n",
      "c:\\Users\\user\\anaconda3\\lib\\site-packages\\numpy\\core\\_methods.py:206: RuntimeWarning: Degrees of freedom <= 0 for slice\n",
      "  ret = _var(a, axis=axis, dtype=dtype, out=out, ddof=ddof,\n",
      "c:\\Users\\user\\anaconda3\\lib\\site-packages\\numpy\\core\\_methods.py:163: RuntimeWarning: invalid value encountered in divide\n",
      "  arrmean = um.true_divide(arrmean, div, out=arrmean,\n",
      "c:\\Users\\user\\anaconda3\\lib\\site-packages\\numpy\\core\\_methods.py:198: RuntimeWarning: invalid value encountered in scalar divide\n",
      "  ret = ret.dtype.type(ret / rcount)\n",
      "No valid fits found.\n",
      "Not enough data. Returning nan\n",
      "Less than 2 unique data values left after xmin and xmax options! Cannot fit. Returning nans.\n",
      "Not enough data. Returning nan\n",
      "Not enough data. Returning nan\n",
      "No valid fits found.\n",
      "Not enough data. Returning nan\n",
      "Assuming nested distributions\n",
      "No valid fits found.\n",
      "Not enough data. Returning nan\n",
      "No valid fits found.\n",
      "Not enough data. Returning nan\n",
      "Less than 2 unique data values left after xmin and xmax options! Cannot fit. Returning nans.\n",
      "Not enough data. Returning nan\n",
      "Not enough data. Returning nan\n",
      "No valid fits found.\n",
      "Not enough data. Returning nan\n",
      "Assuming nested distributions\n",
      "No valid fits found.\n",
      "Not enough data. Returning nan\n",
      "No valid fits found.\n",
      "Not enough data. Returning nan\n",
      "Less than 2 unique data values left after xmin and xmax options! Cannot fit. Returning nans.\n",
      "Not enough data. Returning nan\n",
      "Not enough data. Returning nan\n",
      "No valid fits found.\n",
      "Not enough data. Returning nan\n",
      "Assuming nested distributions\n",
      "No valid fits found.\n",
      "Not enough data. Returning nan\n",
      "No valid fits found.\n",
      "Not enough data. Returning nan\n",
      "Less than 2 unique data values left after xmin and xmax options! Cannot fit. Returning nans.\n",
      "Not enough data. Returning nan\n",
      "Not enough data. Returning nan\n",
      "No valid fits found.\n",
      "Not enough data. Returning nan\n",
      "Assuming nested distributions\n",
      "No valid fits found.\n",
      "Not enough data. Returning nan\n",
      "No valid fits found.\n",
      "Not enough data. Returning nan\n",
      "Less than 2 unique data values left after xmin and xmax options! Cannot fit. Returning nans.\n",
      "c:\\Users\\user\\anaconda3\\lib\\site-packages\\powerlaw.py:1151: RuntimeWarning: invalid value encountered in scalar divide\n",
      "  self.alpha = 1 + (self.n / sum(log(data/self.xmin)))\n",
      "c:\\Users\\user\\anaconda3\\lib\\site-packages\\powerlaw.py:1170: RuntimeWarning: invalid value encountered in scalar divide\n",
      "  return 1 + len(data)/sum(log(data / (self.xmin)))\n",
      "Not enough data. Returning nan\n",
      "Not enough data. Returning nan\n",
      "c:\\Users\\user\\anaconda3\\lib\\site-packages\\numpy\\core\\fromnumeric.py:3504: RuntimeWarning: Mean of empty slice.\n",
      "  return _methods._mean(a, axis=axis, dtype=dtype,\n",
      "c:\\Users\\user\\anaconda3\\lib\\site-packages\\numpy\\core\\_methods.py:129: RuntimeWarning: invalid value encountered in scalar divide\n",
      "  ret = ret.dtype.type(ret / rcount)\n",
      "No valid fits found.\n",
      "Not enough data. Returning nan\n",
      "Assuming nested distributions\n",
      "c:\\Users\\user\\anaconda3\\lib\\site-packages\\powerlaw.py:1383: RuntimeWarning: invalid value encountered in scalar divide\n",
      "  alpha = 1 + len(data)/sum( log( data / (self.xmin) ))\n",
      "No valid fits found.\n",
      "Not enough data. Returning nan\n",
      "c:\\Users\\user\\anaconda3\\lib\\site-packages\\numpy\\core\\_methods.py:206: RuntimeWarning: Degrees of freedom <= 0 for slice\n",
      "  ret = _var(a, axis=axis, dtype=dtype, out=out, ddof=ddof,\n",
      "c:\\Users\\user\\anaconda3\\lib\\site-packages\\numpy\\core\\_methods.py:163: RuntimeWarning: invalid value encountered in divide\n",
      "  arrmean = um.true_divide(arrmean, div, out=arrmean,\n",
      "c:\\Users\\user\\anaconda3\\lib\\site-packages\\numpy\\core\\_methods.py:198: RuntimeWarning: invalid value encountered in scalar divide\n",
      "  ret = ret.dtype.type(ret / rcount)\n",
      "No valid fits found.\n",
      "Not enough data. Returning nan\n",
      "Less than 2 unique data values left after xmin and xmax options! Cannot fit. Returning nans.\n",
      "Not enough data. Returning nan\n",
      "Not enough data. Returning nan\n",
      "No valid fits found.\n",
      "Not enough data. Returning nan\n",
      "Assuming nested distributions\n",
      "No valid fits found.\n",
      "Not enough data. Returning nan\n",
      "No valid fits found.\n",
      "Not enough data. Returning nan\n",
      "Less than 2 unique data values left after xmin and xmax options! Cannot fit. Returning nans.\n",
      "Not enough data. Returning nan\n",
      "Not enough data. Returning nan\n",
      "No valid fits found.\n",
      "Not enough data. Returning nan\n",
      "Assuming nested distributions\n",
      "No valid fits found.\n",
      "Not enough data. Returning nan\n",
      "No valid fits found.\n",
      "Not enough data. Returning nan\n",
      "Less than 2 unique data values left after xmin and xmax options! Cannot fit. Returning nans.\n",
      "Not enough data. Returning nan\n",
      "Not enough data. Returning nan\n",
      "No valid fits found.\n",
      "Not enough data. Returning nan\n",
      "Assuming nested distributions\n",
      "No valid fits found.\n",
      "Not enough data. Returning nan\n",
      "No valid fits found.\n",
      "Not enough data. Returning nan\n",
      "Less than 2 unique data values left after xmin and xmax options! Cannot fit. Returning nans.\n",
      "Not enough data. Returning nan\n",
      "Not enough data. Returning nan\n",
      "No valid fits found.\n",
      "Not enough data. Returning nan\n",
      "Assuming nested distributions\n",
      "No valid fits found.\n",
      "Not enough data. Returning nan\n",
      "No valid fits found.\n",
      "Not enough data. Returning nan\n",
      "Less than 2 unique data values left after xmin and xmax options! Cannot fit. Returning nans.\n",
      "c:\\Users\\user\\anaconda3\\lib\\site-packages\\powerlaw.py:1151: RuntimeWarning: invalid value encountered in scalar divide\n",
      "  self.alpha = 1 + (self.n / sum(log(data/self.xmin)))\n",
      "c:\\Users\\user\\anaconda3\\lib\\site-packages\\powerlaw.py:1170: RuntimeWarning: invalid value encountered in scalar divide\n",
      "  return 1 + len(data)/sum(log(data / (self.xmin)))\n",
      "Not enough data. Returning nan\n",
      "Not enough data. Returning nan\n",
      "c:\\Users\\user\\anaconda3\\lib\\site-packages\\numpy\\core\\fromnumeric.py:3504: RuntimeWarning: Mean of empty slice.\n",
      "  return _methods._mean(a, axis=axis, dtype=dtype,\n",
      "c:\\Users\\user\\anaconda3\\lib\\site-packages\\numpy\\core\\_methods.py:129: RuntimeWarning: invalid value encountered in scalar divide\n",
      "  ret = ret.dtype.type(ret / rcount)\n",
      "No valid fits found.\n",
      "Not enough data. Returning nan\n",
      "Assuming nested distributions\n",
      "c:\\Users\\user\\anaconda3\\lib\\site-packages\\powerlaw.py:1383: RuntimeWarning: invalid value encountered in scalar divide\n",
      "  alpha = 1 + len(data)/sum( log( data / (self.xmin) ))\n",
      "No valid fits found.\n",
      "Not enough data. Returning nan\n",
      "c:\\Users\\user\\anaconda3\\lib\\site-packages\\numpy\\core\\_methods.py:206: RuntimeWarning: Degrees of freedom <= 0 for slice\n",
      "  ret = _var(a, axis=axis, dtype=dtype, out=out, ddof=ddof,\n",
      "c:\\Users\\user\\anaconda3\\lib\\site-packages\\numpy\\core\\_methods.py:163: RuntimeWarning: invalid value encountered in divide\n",
      "  arrmean = um.true_divide(arrmean, div, out=arrmean,\n",
      "c:\\Users\\user\\anaconda3\\lib\\site-packages\\numpy\\core\\_methods.py:198: RuntimeWarning: invalid value encountered in scalar divide\n",
      "  ret = ret.dtype.type(ret / rcount)\n",
      "No valid fits found.\n",
      "Not enough data. Returning nan\n",
      "Less than 2 unique data values left after xmin and xmax options! Cannot fit. Returning nans.\n",
      "Not enough data. Returning nan\n",
      "Not enough data. Returning nan\n",
      "No valid fits found.\n",
      "Not enough data. Returning nan\n",
      "Assuming nested distributions\n",
      "No valid fits found.\n",
      "Not enough data. Returning nan\n",
      "No valid fits found.\n",
      "Not enough data. Returning nan\n",
      "Less than 2 unique data values left after xmin and xmax options! Cannot fit. Returning nans.\n",
      "Not enough data. Returning nan\n",
      "Not enough data. Returning nan\n",
      "No valid fits found.\n",
      "Not enough data. Returning nan\n",
      "Assuming nested distributions\n",
      "No valid fits found.\n",
      "Not enough data. Returning nan\n",
      "No valid fits found.\n",
      "Not enough data. Returning nan\n",
      "Less than 2 unique data values left after xmin and xmax options! Cannot fit. Returning nans.\n",
      "Not enough data. Returning nan\n",
      "Not enough data. Returning nan\n",
      "No valid fits found.\n",
      "Not enough data. Returning nan\n",
      "Assuming nested distributions\n",
      "No valid fits found.\n",
      "Not enough data. Returning nan\n",
      "No valid fits found.\n",
      "Not enough data. Returning nan\n",
      "Less than 2 unique data values left after xmin and xmax options! Cannot fit. Returning nans.\n",
      "Not enough data. Returning nan\n",
      "Not enough data. Returning nan\n",
      "No valid fits found.\n",
      "Not enough data. Returning nan\n",
      "Assuming nested distributions\n",
      "No valid fits found.\n",
      "Not enough data. Returning nan\n",
      "No valid fits found.\n",
      "Not enough data. Returning nan\n",
      "Less than 2 unique data values left after xmin and xmax options! Cannot fit. Returning nans.\n",
      "c:\\Users\\user\\anaconda3\\lib\\site-packages\\powerlaw.py:1151: RuntimeWarning: invalid value encountered in scalar divide\n",
      "  self.alpha = 1 + (self.n / sum(log(data/self.xmin)))\n",
      "c:\\Users\\user\\anaconda3\\lib\\site-packages\\powerlaw.py:1170: RuntimeWarning: invalid value encountered in scalar divide\n",
      "  return 1 + len(data)/sum(log(data / (self.xmin)))\n",
      "Not enough data. Returning nan\n",
      "Not enough data. Returning nan\n",
      "c:\\Users\\user\\anaconda3\\lib\\site-packages\\numpy\\core\\fromnumeric.py:3504: RuntimeWarning: Mean of empty slice.\n",
      "  return _methods._mean(a, axis=axis, dtype=dtype,\n",
      "c:\\Users\\user\\anaconda3\\lib\\site-packages\\numpy\\core\\_methods.py:129: RuntimeWarning: invalid value encountered in scalar divide\n",
      "  ret = ret.dtype.type(ret / rcount)\n",
      "No valid fits found.\n",
      "Not enough data. Returning nan\n",
      "Assuming nested distributions\n",
      "c:\\Users\\user\\anaconda3\\lib\\site-packages\\powerlaw.py:1383: RuntimeWarning: invalid value encountered in scalar divide\n",
      "  alpha = 1 + len(data)/sum( log( data / (self.xmin) ))\n",
      "No valid fits found.\n",
      "Not enough data. Returning nan\n",
      "c:\\Users\\user\\anaconda3\\lib\\site-packages\\numpy\\core\\_methods.py:206: RuntimeWarning: Degrees of freedom <= 0 for slice\n",
      "  ret = _var(a, axis=axis, dtype=dtype, out=out, ddof=ddof,\n",
      "c:\\Users\\user\\anaconda3\\lib\\site-packages\\numpy\\core\\_methods.py:163: RuntimeWarning: invalid value encountered in divide\n",
      "  arrmean = um.true_divide(arrmean, div, out=arrmean,\n",
      "c:\\Users\\user\\anaconda3\\lib\\site-packages\\numpy\\core\\_methods.py:198: RuntimeWarning: invalid value encountered in scalar divide\n",
      "  ret = ret.dtype.type(ret / rcount)\n",
      "No valid fits found.\n",
      "Not enough data. Returning nan\n",
      "Less than 2 unique data values left after xmin and xmax options! Cannot fit. Returning nans.\n",
      "Not enough data. Returning nan\n",
      "Not enough data. Returning nan\n",
      "No valid fits found.\n",
      "Not enough data. Returning nan\n",
      "Assuming nested distributions\n",
      "No valid fits found.\n",
      "Not enough data. Returning nan\n",
      "No valid fits found.\n",
      "Not enough data. Returning nan\n",
      "Less than 2 unique data values left after xmin and xmax options! Cannot fit. Returning nans.\n",
      "Not enough data. Returning nan\n",
      "Not enough data. Returning nan\n",
      "No valid fits found.\n",
      "Not enough data. Returning nan\n",
      "Assuming nested distributions\n",
      "No valid fits found.\n",
      "Not enough data. Returning nan\n",
      "No valid fits found.\n",
      "Not enough data. Returning nan\n",
      "Less than 2 unique data values left after xmin and xmax options! Cannot fit. Returning nans.\n",
      "Not enough data. Returning nan\n",
      "Not enough data. Returning nan\n",
      "No valid fits found.\n",
      "Not enough data. Returning nan\n",
      "Assuming nested distributions\n",
      "No valid fits found.\n",
      "Not enough data. Returning nan\n",
      "No valid fits found.\n",
      "Not enough data. Returning nan\n",
      "Less than 2 unique data values left after xmin and xmax options! Cannot fit. Returning nans.\n",
      "Not enough data. Returning nan\n",
      "Not enough data. Returning nan\n",
      "No valid fits found.\n",
      "Not enough data. Returning nan\n",
      "Assuming nested distributions\n",
      "No valid fits found.\n",
      "Not enough data. Returning nan\n",
      "No valid fits found.\n",
      "Not enough data. Returning nan\n",
      "Less than 2 unique data values left after xmin and xmax options! Cannot fit. Returning nans.\n",
      "c:\\Users\\user\\anaconda3\\lib\\site-packages\\powerlaw.py:1151: RuntimeWarning: invalid value encountered in scalar divide\n",
      "  self.alpha = 1 + (self.n / sum(log(data/self.xmin)))\n",
      "c:\\Users\\user\\anaconda3\\lib\\site-packages\\powerlaw.py:1170: RuntimeWarning: invalid value encountered in scalar divide\n",
      "  return 1 + len(data)/sum(log(data / (self.xmin)))\n",
      "Not enough data. Returning nan\n",
      "Not enough data. Returning nan\n",
      "c:\\Users\\user\\anaconda3\\lib\\site-packages\\numpy\\core\\fromnumeric.py:3504: RuntimeWarning: Mean of empty slice.\n",
      "  return _methods._mean(a, axis=axis, dtype=dtype,\n",
      "c:\\Users\\user\\anaconda3\\lib\\site-packages\\numpy\\core\\_methods.py:129: RuntimeWarning: invalid value encountered in scalar divide\n",
      "  ret = ret.dtype.type(ret / rcount)\n",
      "No valid fits found.\n",
      "Not enough data. Returning nan\n",
      "Assuming nested distributions\n",
      "c:\\Users\\user\\anaconda3\\lib\\site-packages\\powerlaw.py:1383: RuntimeWarning: invalid value encountered in scalar divide\n",
      "  alpha = 1 + len(data)/sum( log( data / (self.xmin) ))\n",
      "No valid fits found.\n",
      "Not enough data. Returning nan\n",
      "c:\\Users\\user\\anaconda3\\lib\\site-packages\\numpy\\core\\_methods.py:206: RuntimeWarning: Degrees of freedom <= 0 for slice\n",
      "  ret = _var(a, axis=axis, dtype=dtype, out=out, ddof=ddof,\n",
      "c:\\Users\\user\\anaconda3\\lib\\site-packages\\numpy\\core\\_methods.py:163: RuntimeWarning: invalid value encountered in divide\n",
      "  arrmean = um.true_divide(arrmean, div, out=arrmean,\n",
      "c:\\Users\\user\\anaconda3\\lib\\site-packages\\numpy\\core\\_methods.py:198: RuntimeWarning: invalid value encountered in scalar divide\n",
      "  ret = ret.dtype.type(ret / rcount)\n",
      "No valid fits found.\n",
      "Not enough data. Returning nan\n",
      "Less than 2 unique data values left after xmin and xmax options! Cannot fit. Returning nans.\n",
      "Not enough data. Returning nan\n",
      "Not enough data. Returning nan\n",
      "No valid fits found.\n",
      "Not enough data. Returning nan\n",
      "Assuming nested distributions\n",
      "No valid fits found.\n",
      "Not enough data. Returning nan\n",
      "No valid fits found.\n",
      "Not enough data. Returning nan\n",
      "Less than 2 unique data values left after xmin and xmax options! Cannot fit. Returning nans.\n",
      "Not enough data. Returning nan\n",
      "Not enough data. Returning nan\n",
      "No valid fits found.\n",
      "Not enough data. Returning nan\n",
      "Assuming nested distributions\n",
      "No valid fits found.\n",
      "Not enough data. Returning nan\n",
      "No valid fits found.\n",
      "Not enough data. Returning nan\n",
      "Less than 2 unique data values left after xmin and xmax options! Cannot fit. Returning nans.\n",
      "Not enough data. Returning nan\n",
      "Not enough data. Returning nan\n",
      "No valid fits found.\n",
      "Not enough data. Returning nan\n",
      "Assuming nested distributions\n",
      "No valid fits found.\n",
      "Not enough data. Returning nan\n",
      "No valid fits found.\n",
      "Not enough data. Returning nan\n",
      "Less than 2 unique data values left after xmin and xmax options! Cannot fit. Returning nans.\n",
      "Not enough data. Returning nan\n",
      "Not enough data. Returning nan\n",
      "No valid fits found.\n",
      "Not enough data. Returning nan\n",
      "Assuming nested distributions\n",
      "No valid fits found.\n",
      "Not enough data. Returning nan\n",
      "No valid fits found.\n",
      "Not enough data. Returning nan\n",
      "Less than 2 unique data values left after xmin and xmax options! Cannot fit. Returning nans.\n",
      "c:\\Users\\user\\anaconda3\\lib\\site-packages\\powerlaw.py:1151: RuntimeWarning: invalid value encountered in scalar divide\n",
      "  self.alpha = 1 + (self.n / sum(log(data/self.xmin)))\n",
      "c:\\Users\\user\\anaconda3\\lib\\site-packages\\powerlaw.py:1170: RuntimeWarning: invalid value encountered in scalar divide\n",
      "  return 1 + len(data)/sum(log(data / (self.xmin)))\n",
      "Not enough data. Returning nan\n",
      "Not enough data. Returning nan\n",
      "c:\\Users\\user\\anaconda3\\lib\\site-packages\\numpy\\core\\fromnumeric.py:3504: RuntimeWarning: Mean of empty slice.\n",
      "  return _methods._mean(a, axis=axis, dtype=dtype,\n",
      "c:\\Users\\user\\anaconda3\\lib\\site-packages\\numpy\\core\\_methods.py:129: RuntimeWarning: invalid value encountered in scalar divide\n",
      "  ret = ret.dtype.type(ret / rcount)\n",
      "No valid fits found.\n",
      "Not enough data. Returning nan\n",
      "Assuming nested distributions\n",
      "c:\\Users\\user\\anaconda3\\lib\\site-packages\\powerlaw.py:1383: RuntimeWarning: invalid value encountered in scalar divide\n",
      "  alpha = 1 + len(data)/sum( log( data / (self.xmin) ))\n",
      "No valid fits found.\n",
      "Not enough data. Returning nan\n",
      "c:\\Users\\user\\anaconda3\\lib\\site-packages\\numpy\\core\\_methods.py:206: RuntimeWarning: Degrees of freedom <= 0 for slice\n",
      "  ret = _var(a, axis=axis, dtype=dtype, out=out, ddof=ddof,\n",
      "c:\\Users\\user\\anaconda3\\lib\\site-packages\\numpy\\core\\_methods.py:163: RuntimeWarning: invalid value encountered in divide\n",
      "  arrmean = um.true_divide(arrmean, div, out=arrmean,\n",
      "c:\\Users\\user\\anaconda3\\lib\\site-packages\\numpy\\core\\_methods.py:198: RuntimeWarning: invalid value encountered in scalar divide\n",
      "  ret = ret.dtype.type(ret / rcount)\n",
      "No valid fits found.\n",
      "Not enough data. Returning nan\n",
      "Less than 2 unique data values left after xmin and xmax options! Cannot fit. Returning nans.\n",
      "Not enough data. Returning nan\n",
      "Not enough data. Returning nan\n",
      "No valid fits found.\n",
      "Not enough data. Returning nan\n",
      "Assuming nested distributions\n",
      "No valid fits found.\n",
      "Not enough data. Returning nan\n",
      "No valid fits found.\n",
      "Not enough data. Returning nan\n",
      "Less than 2 unique data values left after xmin and xmax options! Cannot fit. Returning nans.\n",
      "Not enough data. Returning nan\n",
      "Not enough data. Returning nan\n",
      "No valid fits found.\n",
      "Not enough data. Returning nan\n",
      "Assuming nested distributions\n",
      "No valid fits found.\n",
      "Not enough data. Returning nan\n",
      "No valid fits found.\n",
      "Not enough data. Returning nan\n",
      "Less than 2 unique data values left after xmin and xmax options! Cannot fit. Returning nans.\n",
      "Not enough data. Returning nan\n",
      "Not enough data. Returning nan\n",
      "No valid fits found.\n",
      "Not enough data. Returning nan\n",
      "Assuming nested distributions\n",
      "No valid fits found.\n",
      "Not enough data. Returning nan\n",
      "No valid fits found.\n",
      "Not enough data. Returning nan\n",
      "Less than 2 unique data values left after xmin and xmax options! Cannot fit. Returning nans.\n",
      "Not enough data. Returning nan\n",
      "Not enough data. Returning nan\n",
      "No valid fits found.\n",
      "Not enough data. Returning nan\n",
      "Assuming nested distributions\n",
      "No valid fits found.\n",
      "Not enough data. Returning nan\n",
      "No valid fits found.\n",
      "Not enough data. Returning nan\n",
      "Less than 2 unique data values left after xmin and xmax options! Cannot fit. Returning nans.\n",
      "c:\\Users\\user\\anaconda3\\lib\\site-packages\\powerlaw.py:1151: RuntimeWarning: invalid value encountered in scalar divide\n",
      "  self.alpha = 1 + (self.n / sum(log(data/self.xmin)))\n",
      "c:\\Users\\user\\anaconda3\\lib\\site-packages\\powerlaw.py:1170: RuntimeWarning: invalid value encountered in scalar divide\n",
      "  return 1 + len(data)/sum(log(data / (self.xmin)))\n",
      "Not enough data. Returning nan\n",
      "Not enough data. Returning nan\n",
      "c:\\Users\\user\\anaconda3\\lib\\site-packages\\numpy\\core\\fromnumeric.py:3504: RuntimeWarning: Mean of empty slice.\n",
      "  return _methods._mean(a, axis=axis, dtype=dtype,\n",
      "c:\\Users\\user\\anaconda3\\lib\\site-packages\\numpy\\core\\_methods.py:129: RuntimeWarning: invalid value encountered in scalar divide\n",
      "  ret = ret.dtype.type(ret / rcount)\n",
      "No valid fits found.\n",
      "Not enough data. Returning nan\n",
      "Assuming nested distributions\n",
      "c:\\Users\\user\\anaconda3\\lib\\site-packages\\powerlaw.py:1383: RuntimeWarning: invalid value encountered in scalar divide\n",
      "  alpha = 1 + len(data)/sum( log( data / (self.xmin) ))\n",
      "No valid fits found.\n",
      "Not enough data. Returning nan\n",
      "c:\\Users\\user\\anaconda3\\lib\\site-packages\\numpy\\core\\_methods.py:206: RuntimeWarning: Degrees of freedom <= 0 for slice\n",
      "  ret = _var(a, axis=axis, dtype=dtype, out=out, ddof=ddof,\n",
      "c:\\Users\\user\\anaconda3\\lib\\site-packages\\numpy\\core\\_methods.py:163: RuntimeWarning: invalid value encountered in divide\n",
      "  arrmean = um.true_divide(arrmean, div, out=arrmean,\n",
      "c:\\Users\\user\\anaconda3\\lib\\site-packages\\numpy\\core\\_methods.py:198: RuntimeWarning: invalid value encountered in scalar divide\n",
      "  ret = ret.dtype.type(ret / rcount)\n",
      "No valid fits found.\n",
      "Not enough data. Returning nan\n",
      "Less than 2 unique data values left after xmin and xmax options! Cannot fit. Returning nans.\n",
      "Not enough data. Returning nan\n",
      "Not enough data. Returning nan\n",
      "No valid fits found.\n",
      "Not enough data. Returning nan\n",
      "Assuming nested distributions\n",
      "No valid fits found.\n",
      "Not enough data. Returning nan\n",
      "No valid fits found.\n",
      "Not enough data. Returning nan\n",
      "Less than 2 unique data values left after xmin and xmax options! Cannot fit. Returning nans.\n",
      "Not enough data. Returning nan\n",
      "Not enough data. Returning nan\n",
      "No valid fits found.\n",
      "Not enough data. Returning nan\n",
      "Assuming nested distributions\n",
      "No valid fits found.\n",
      "Not enough data. Returning nan\n",
      "No valid fits found.\n",
      "Not enough data. Returning nan\n",
      "Less than 2 unique data values left after xmin and xmax options! Cannot fit. Returning nans.\n",
      "Not enough data. Returning nan\n",
      "Not enough data. Returning nan\n",
      "No valid fits found.\n",
      "Not enough data. Returning nan\n",
      "Assuming nested distributions\n",
      "No valid fits found.\n",
      "Not enough data. Returning nan\n",
      "No valid fits found.\n",
      "Not enough data. Returning nan\n",
      "Less than 2 unique data values left after xmin and xmax options! Cannot fit. Returning nans.\n",
      "Not enough data. Returning nan\n",
      "Not enough data. Returning nan\n",
      "No valid fits found.\n",
      "Not enough data. Returning nan\n",
      "Assuming nested distributions\n",
      "No valid fits found.\n",
      "Not enough data. Returning nan\n",
      "No valid fits found.\n",
      "Not enough data. Returning nan\n",
      "Less than 2 unique data values left after xmin and xmax options! Cannot fit. Returning nans.\n",
      "c:\\Users\\user\\anaconda3\\lib\\site-packages\\powerlaw.py:1151: RuntimeWarning: invalid value encountered in scalar divide\n",
      "  self.alpha = 1 + (self.n / sum(log(data/self.xmin)))\n",
      "c:\\Users\\user\\anaconda3\\lib\\site-packages\\powerlaw.py:1170: RuntimeWarning: invalid value encountered in scalar divide\n",
      "  return 1 + len(data)/sum(log(data / (self.xmin)))\n",
      "Not enough data. Returning nan\n",
      "Not enough data. Returning nan\n",
      "c:\\Users\\user\\anaconda3\\lib\\site-packages\\numpy\\core\\fromnumeric.py:3504: RuntimeWarning: Mean of empty slice.\n",
      "  return _methods._mean(a, axis=axis, dtype=dtype,\n",
      "c:\\Users\\user\\anaconda3\\lib\\site-packages\\numpy\\core\\_methods.py:129: RuntimeWarning: invalid value encountered in scalar divide\n",
      "  ret = ret.dtype.type(ret / rcount)\n",
      "No valid fits found.\n",
      "Not enough data. Returning nan\n",
      "Assuming nested distributions\n",
      "c:\\Users\\user\\anaconda3\\lib\\site-packages\\powerlaw.py:1383: RuntimeWarning: invalid value encountered in scalar divide\n",
      "  alpha = 1 + len(data)/sum( log( data / (self.xmin) ))\n",
      "No valid fits found.\n",
      "Not enough data. Returning nan\n",
      "c:\\Users\\user\\anaconda3\\lib\\site-packages\\numpy\\core\\_methods.py:206: RuntimeWarning: Degrees of freedom <= 0 for slice\n",
      "  ret = _var(a, axis=axis, dtype=dtype, out=out, ddof=ddof,\n",
      "c:\\Users\\user\\anaconda3\\lib\\site-packages\\numpy\\core\\_methods.py:163: RuntimeWarning: invalid value encountered in divide\n",
      "  arrmean = um.true_divide(arrmean, div, out=arrmean,\n",
      "c:\\Users\\user\\anaconda3\\lib\\site-packages\\numpy\\core\\_methods.py:198: RuntimeWarning: invalid value encountered in scalar divide\n",
      "  ret = ret.dtype.type(ret / rcount)\n",
      "No valid fits found.\n",
      "Not enough data. Returning nan\n",
      "Less than 2 unique data values left after xmin and xmax options! Cannot fit. Returning nans.\n",
      "Not enough data. Returning nan\n",
      "Not enough data. Returning nan\n",
      "No valid fits found.\n",
      "Not enough data. Returning nan\n",
      "Assuming nested distributions\n",
      "No valid fits found.\n",
      "Not enough data. Returning nan\n",
      "No valid fits found.\n",
      "Not enough data. Returning nan\n",
      "Less than 2 unique data values left after xmin and xmax options! Cannot fit. Returning nans.\n",
      "Not enough data. Returning nan\n",
      "Not enough data. Returning nan\n",
      "No valid fits found.\n",
      "Not enough data. Returning nan\n",
      "Assuming nested distributions\n",
      "No valid fits found.\n",
      "Not enough data. Returning nan\n",
      "No valid fits found.\n",
      "Not enough data. Returning nan\n",
      "Less than 2 unique data values left after xmin and xmax options! Cannot fit. Returning nans.\n",
      "Not enough data. Returning nan\n",
      "Not enough data. Returning nan\n",
      "No valid fits found.\n",
      "Not enough data. Returning nan\n",
      "Assuming nested distributions\n",
      "No valid fits found.\n",
      "Not enough data. Returning nan\n",
      "No valid fits found.\n",
      "Not enough data. Returning nan\n",
      "Less than 2 unique data values left after xmin and xmax options! Cannot fit. Returning nans.\n",
      "Not enough data. Returning nan\n",
      "Not enough data. Returning nan\n",
      "No valid fits found.\n",
      "Not enough data. Returning nan\n",
      "Assuming nested distributions\n",
      "No valid fits found.\n",
      "Not enough data. Returning nan\n",
      "No valid fits found.\n",
      "Not enough data. Returning nan\n",
      "Less than 2 unique data values left after xmin and xmax options! Cannot fit. Returning nans.\n",
      "c:\\Users\\user\\anaconda3\\lib\\site-packages\\powerlaw.py:1151: RuntimeWarning: invalid value encountered in scalar divide\n",
      "  self.alpha = 1 + (self.n / sum(log(data/self.xmin)))\n",
      "c:\\Users\\user\\anaconda3\\lib\\site-packages\\powerlaw.py:1170: RuntimeWarning: invalid value encountered in scalar divide\n",
      "  return 1 + len(data)/sum(log(data / (self.xmin)))\n",
      "Not enough data. Returning nan\n",
      "Not enough data. Returning nan\n",
      "c:\\Users\\user\\anaconda3\\lib\\site-packages\\numpy\\core\\fromnumeric.py:3504: RuntimeWarning: Mean of empty slice.\n",
      "  return _methods._mean(a, axis=axis, dtype=dtype,\n",
      "c:\\Users\\user\\anaconda3\\lib\\site-packages\\numpy\\core\\_methods.py:129: RuntimeWarning: invalid value encountered in scalar divide\n",
      "  ret = ret.dtype.type(ret / rcount)\n",
      "No valid fits found.\n",
      "Not enough data. Returning nan\n",
      "Assuming nested distributions\n",
      "c:\\Users\\user\\anaconda3\\lib\\site-packages\\powerlaw.py:1383: RuntimeWarning: invalid value encountered in scalar divide\n",
      "  alpha = 1 + len(data)/sum( log( data / (self.xmin) ))\n",
      "No valid fits found.\n",
      "Not enough data. Returning nan\n",
      "c:\\Users\\user\\anaconda3\\lib\\site-packages\\numpy\\core\\_methods.py:206: RuntimeWarning: Degrees of freedom <= 0 for slice\n",
      "  ret = _var(a, axis=axis, dtype=dtype, out=out, ddof=ddof,\n",
      "c:\\Users\\user\\anaconda3\\lib\\site-packages\\numpy\\core\\_methods.py:163: RuntimeWarning: invalid value encountered in divide\n",
      "  arrmean = um.true_divide(arrmean, div, out=arrmean,\n",
      "c:\\Users\\user\\anaconda3\\lib\\site-packages\\numpy\\core\\_methods.py:198: RuntimeWarning: invalid value encountered in scalar divide\n",
      "  ret = ret.dtype.type(ret / rcount)\n",
      "No valid fits found.\n",
      "Not enough data. Returning nan\n",
      "Less than 2 unique data values left after xmin and xmax options! Cannot fit. Returning nans.\n",
      "Not enough data. Returning nan\n",
      "Not enough data. Returning nan\n",
      "No valid fits found.\n",
      "Not enough data. Returning nan\n",
      "Assuming nested distributions\n",
      "No valid fits found.\n",
      "Not enough data. Returning nan\n",
      "No valid fits found.\n",
      "Not enough data. Returning nan\n",
      "Less than 2 unique data values left after xmin and xmax options! Cannot fit. Returning nans.\n",
      "Not enough data. Returning nan\n",
      "Not enough data. Returning nan\n",
      "No valid fits found.\n",
      "Not enough data. Returning nan\n",
      "Assuming nested distributions\n",
      "No valid fits found.\n",
      "Not enough data. Returning nan\n",
      "No valid fits found.\n",
      "Not enough data. Returning nan\n",
      "Less than 2 unique data values left after xmin and xmax options! Cannot fit. Returning nans.\n",
      "Not enough data. Returning nan\n",
      "Not enough data. Returning nan\n",
      "No valid fits found.\n",
      "Not enough data. Returning nan\n",
      "Assuming nested distributions\n",
      "No valid fits found.\n",
      "Not enough data. Returning nan\n",
      "No valid fits found.\n",
      "Not enough data. Returning nan\n",
      "Less than 2 unique data values left after xmin and xmax options! Cannot fit. Returning nans.\n",
      "Not enough data. Returning nan\n",
      "Not enough data. Returning nan\n",
      "No valid fits found.\n",
      "Not enough data. Returning nan\n",
      "Assuming nested distributions\n",
      "No valid fits found.\n",
      "Not enough data. Returning nan\n",
      "No valid fits found.\n",
      "Not enough data. Returning nan\n",
      "Less than 2 unique data values left after xmin and xmax options! Cannot fit. Returning nans.\n",
      "c:\\Users\\user\\anaconda3\\lib\\site-packages\\powerlaw.py:1151: RuntimeWarning: invalid value encountered in scalar divide\n",
      "  self.alpha = 1 + (self.n / sum(log(data/self.xmin)))\n",
      "c:\\Users\\user\\anaconda3\\lib\\site-packages\\powerlaw.py:1170: RuntimeWarning: invalid value encountered in scalar divide\n",
      "  return 1 + len(data)/sum(log(data / (self.xmin)))\n",
      "Not enough data. Returning nan\n",
      "Not enough data. Returning nan\n",
      "c:\\Users\\user\\anaconda3\\lib\\site-packages\\numpy\\core\\fromnumeric.py:3504: RuntimeWarning: Mean of empty slice.\n",
      "  return _methods._mean(a, axis=axis, dtype=dtype,\n",
      "c:\\Users\\user\\anaconda3\\lib\\site-packages\\numpy\\core\\_methods.py:129: RuntimeWarning: invalid value encountered in scalar divide\n",
      "  ret = ret.dtype.type(ret / rcount)\n",
      "No valid fits found.\n",
      "Not enough data. Returning nan\n",
      "Assuming nested distributions\n",
      "c:\\Users\\user\\anaconda3\\lib\\site-packages\\powerlaw.py:1383: RuntimeWarning: invalid value encountered in scalar divide\n",
      "  alpha = 1 + len(data)/sum( log( data / (self.xmin) ))\n",
      "No valid fits found.\n",
      "Not enough data. Returning nan\n",
      "c:\\Users\\user\\anaconda3\\lib\\site-packages\\numpy\\core\\_methods.py:206: RuntimeWarning: Degrees of freedom <= 0 for slice\n",
      "  ret = _var(a, axis=axis, dtype=dtype, out=out, ddof=ddof,\n",
      "c:\\Users\\user\\anaconda3\\lib\\site-packages\\numpy\\core\\_methods.py:163: RuntimeWarning: invalid value encountered in divide\n",
      "  arrmean = um.true_divide(arrmean, div, out=arrmean,\n",
      "c:\\Users\\user\\anaconda3\\lib\\site-packages\\numpy\\core\\_methods.py:198: RuntimeWarning: invalid value encountered in scalar divide\n",
      "  ret = ret.dtype.type(ret / rcount)\n",
      "No valid fits found.\n",
      "Not enough data. Returning nan\n",
      "Less than 2 unique data values left after xmin and xmax options! Cannot fit. Returning nans.\n",
      "Not enough data. Returning nan\n",
      "Not enough data. Returning nan\n",
      "No valid fits found.\n",
      "Not enough data. Returning nan\n",
      "Assuming nested distributions\n",
      "No valid fits found.\n",
      "Not enough data. Returning nan\n",
      "No valid fits found.\n",
      "Not enough data. Returning nan\n",
      "Less than 2 unique data values left after xmin and xmax options! Cannot fit. Returning nans.\n",
      "Not enough data. Returning nan\n",
      "Not enough data. Returning nan\n",
      "No valid fits found.\n",
      "Not enough data. Returning nan\n",
      "Assuming nested distributions\n",
      "No valid fits found.\n",
      "Not enough data. Returning nan\n",
      "No valid fits found.\n",
      "Not enough data. Returning nan\n",
      "Less than 2 unique data values left after xmin and xmax options! Cannot fit. Returning nans.\n",
      "Not enough data. Returning nan\n",
      "Not enough data. Returning nan\n",
      "No valid fits found.\n",
      "Not enough data. Returning nan\n",
      "Assuming nested distributions\n",
      "No valid fits found.\n",
      "Not enough data. Returning nan\n",
      "No valid fits found.\n",
      "Not enough data. Returning nan\n",
      "Less than 2 unique data values left after xmin and xmax options! Cannot fit. Returning nans.\n",
      "Not enough data. Returning nan\n",
      "Not enough data. Returning nan\n",
      "No valid fits found.\n",
      "Not enough data. Returning nan\n",
      "Assuming nested distributions\n",
      "No valid fits found.\n",
      "Not enough data. Returning nan\n",
      "No valid fits found.\n",
      "Not enough data. Returning nan\n",
      "Less than 2 unique data values left after xmin and xmax options! Cannot fit. Returning nans.\n",
      "c:\\Users\\user\\anaconda3\\lib\\site-packages\\powerlaw.py:1151: RuntimeWarning: invalid value encountered in scalar divide\n",
      "  self.alpha = 1 + (self.n / sum(log(data/self.xmin)))\n",
      "c:\\Users\\user\\anaconda3\\lib\\site-packages\\powerlaw.py:1170: RuntimeWarning: invalid value encountered in scalar divide\n",
      "  return 1 + len(data)/sum(log(data / (self.xmin)))\n",
      "Not enough data. Returning nan\n",
      "Not enough data. Returning nan\n",
      "c:\\Users\\user\\anaconda3\\lib\\site-packages\\numpy\\core\\fromnumeric.py:3504: RuntimeWarning: Mean of empty slice.\n",
      "  return _methods._mean(a, axis=axis, dtype=dtype,\n",
      "c:\\Users\\user\\anaconda3\\lib\\site-packages\\numpy\\core\\_methods.py:129: RuntimeWarning: invalid value encountered in scalar divide\n",
      "  ret = ret.dtype.type(ret / rcount)\n",
      "No valid fits found.\n",
      "Not enough data. Returning nan\n",
      "Assuming nested distributions\n",
      "c:\\Users\\user\\anaconda3\\lib\\site-packages\\powerlaw.py:1383: RuntimeWarning: invalid value encountered in scalar divide\n",
      "  alpha = 1 + len(data)/sum( log( data / (self.xmin) ))\n",
      "No valid fits found.\n",
      "Not enough data. Returning nan\n",
      "c:\\Users\\user\\anaconda3\\lib\\site-packages\\numpy\\core\\_methods.py:206: RuntimeWarning: Degrees of freedom <= 0 for slice\n",
      "  ret = _var(a, axis=axis, dtype=dtype, out=out, ddof=ddof,\n",
      "c:\\Users\\user\\anaconda3\\lib\\site-packages\\numpy\\core\\_methods.py:163: RuntimeWarning: invalid value encountered in divide\n",
      "  arrmean = um.true_divide(arrmean, div, out=arrmean,\n",
      "c:\\Users\\user\\anaconda3\\lib\\site-packages\\numpy\\core\\_methods.py:198: RuntimeWarning: invalid value encountered in scalar divide\n",
      "  ret = ret.dtype.type(ret / rcount)\n",
      "No valid fits found.\n",
      "Not enough data. Returning nan\n",
      "Less than 2 unique data values left after xmin and xmax options! Cannot fit. Returning nans.\n",
      "Not enough data. Returning nan\n",
      "Not enough data. Returning nan\n",
      "No valid fits found.\n",
      "Not enough data. Returning nan\n",
      "Assuming nested distributions\n",
      "No valid fits found.\n",
      "Not enough data. Returning nan\n",
      "No valid fits found.\n",
      "Not enough data. Returning nan\n",
      "Less than 2 unique data values left after xmin and xmax options! Cannot fit. Returning nans.\n",
      "Not enough data. Returning nan\n",
      "Not enough data. Returning nan\n",
      "No valid fits found.\n",
      "Not enough data. Returning nan\n",
      "Assuming nested distributions\n",
      "No valid fits found.\n",
      "Not enough data. Returning nan\n",
      "No valid fits found.\n",
      "Not enough data. Returning nan\n",
      "Less than 2 unique data values left after xmin and xmax options! Cannot fit. Returning nans.\n",
      "Not enough data. Returning nan\n",
      "Not enough data. Returning nan\n",
      "No valid fits found.\n",
      "Not enough data. Returning nan\n",
      "Assuming nested distributions\n",
      "No valid fits found.\n",
      "Not enough data. Returning nan\n",
      "No valid fits found.\n",
      "Not enough data. Returning nan\n",
      "Less than 2 unique data values left after xmin and xmax options! Cannot fit. Returning nans.\n",
      "Not enough data. Returning nan\n",
      "Not enough data. Returning nan\n",
      "No valid fits found.\n",
      "Not enough data. Returning nan\n",
      "Assuming nested distributions\n",
      "No valid fits found.\n",
      "Not enough data. Returning nan\n",
      "No valid fits found.\n",
      "Not enough data. Returning nan\n",
      "Less than 2 unique data values left after xmin and xmax options! Cannot fit. Returning nans.\n",
      "c:\\Users\\user\\anaconda3\\lib\\site-packages\\powerlaw.py:1151: RuntimeWarning: invalid value encountered in scalar divide\n",
      "  self.alpha = 1 + (self.n / sum(log(data/self.xmin)))\n",
      "c:\\Users\\user\\anaconda3\\lib\\site-packages\\powerlaw.py:1170: RuntimeWarning: invalid value encountered in scalar divide\n",
      "  return 1 + len(data)/sum(log(data / (self.xmin)))\n",
      "Not enough data. Returning nan\n",
      "Not enough data. Returning nan\n",
      "c:\\Users\\user\\anaconda3\\lib\\site-packages\\numpy\\core\\fromnumeric.py:3504: RuntimeWarning: Mean of empty slice.\n",
      "  return _methods._mean(a, axis=axis, dtype=dtype,\n",
      "c:\\Users\\user\\anaconda3\\lib\\site-packages\\numpy\\core\\_methods.py:129: RuntimeWarning: invalid value encountered in scalar divide\n",
      "  ret = ret.dtype.type(ret / rcount)\n",
      "No valid fits found.\n",
      "Not enough data. Returning nan\n",
      "Assuming nested distributions\n",
      "c:\\Users\\user\\anaconda3\\lib\\site-packages\\powerlaw.py:1383: RuntimeWarning: invalid value encountered in scalar divide\n",
      "  alpha = 1 + len(data)/sum( log( data / (self.xmin) ))\n",
      "No valid fits found.\n",
      "Not enough data. Returning nan\n",
      "c:\\Users\\user\\anaconda3\\lib\\site-packages\\numpy\\core\\_methods.py:206: RuntimeWarning: Degrees of freedom <= 0 for slice\n",
      "  ret = _var(a, axis=axis, dtype=dtype, out=out, ddof=ddof,\n",
      "c:\\Users\\user\\anaconda3\\lib\\site-packages\\numpy\\core\\_methods.py:163: RuntimeWarning: invalid value encountered in divide\n",
      "  arrmean = um.true_divide(arrmean, div, out=arrmean,\n",
      "c:\\Users\\user\\anaconda3\\lib\\site-packages\\numpy\\core\\_methods.py:198: RuntimeWarning: invalid value encountered in scalar divide\n",
      "  ret = ret.dtype.type(ret / rcount)\n",
      "No valid fits found.\n",
      "Not enough data. Returning nan\n",
      "Less than 2 unique data values left after xmin and xmax options! Cannot fit. Returning nans.\n",
      "Not enough data. Returning nan\n",
      "Not enough data. Returning nan\n",
      "No valid fits found.\n",
      "Not enough data. Returning nan\n",
      "Assuming nested distributions\n",
      "No valid fits found.\n",
      "Not enough data. Returning nan\n",
      "No valid fits found.\n",
      "Not enough data. Returning nan\n",
      "Less than 2 unique data values left after xmin and xmax options! Cannot fit. Returning nans.\n",
      "Not enough data. Returning nan\n",
      "Not enough data. Returning nan\n",
      "No valid fits found.\n",
      "Not enough data. Returning nan\n",
      "Assuming nested distributions\n",
      "No valid fits found.\n",
      "Not enough data. Returning nan\n",
      "No valid fits found.\n",
      "Not enough data. Returning nan\n",
      "Less than 2 unique data values left after xmin and xmax options! Cannot fit. Returning nans.\n",
      "Not enough data. Returning nan\n",
      "Not enough data. Returning nan\n",
      "No valid fits found.\n",
      "Not enough data. Returning nan\n",
      "Assuming nested distributions\n",
      "No valid fits found.\n",
      "Not enough data. Returning nan\n",
      "No valid fits found.\n",
      "Not enough data. Returning nan\n",
      "Less than 2 unique data values left after xmin and xmax options! Cannot fit. Returning nans.\n",
      "Not enough data. Returning nan\n",
      "Not enough data. Returning nan\n",
      "No valid fits found.\n",
      "Not enough data. Returning nan\n",
      "Assuming nested distributions\n",
      "No valid fits found.\n",
      "Not enough data. Returning nan\n",
      "No valid fits found.\n",
      "Not enough data. Returning nan\n",
      "Less than 2 unique data values left after xmin and xmax options! Cannot fit. Returning nans.\n",
      "c:\\Users\\user\\anaconda3\\lib\\site-packages\\powerlaw.py:1151: RuntimeWarning: invalid value encountered in scalar divide\n",
      "  self.alpha = 1 + (self.n / sum(log(data/self.xmin)))\n",
      "c:\\Users\\user\\anaconda3\\lib\\site-packages\\powerlaw.py:1170: RuntimeWarning: invalid value encountered in scalar divide\n",
      "  return 1 + len(data)/sum(log(data / (self.xmin)))\n",
      "Not enough data. Returning nan\n",
      "Not enough data. Returning nan\n",
      "c:\\Users\\user\\anaconda3\\lib\\site-packages\\numpy\\core\\fromnumeric.py:3504: RuntimeWarning: Mean of empty slice.\n",
      "  return _methods._mean(a, axis=axis, dtype=dtype,\n",
      "c:\\Users\\user\\anaconda3\\lib\\site-packages\\numpy\\core\\_methods.py:129: RuntimeWarning: invalid value encountered in scalar divide\n",
      "  ret = ret.dtype.type(ret / rcount)\n",
      "No valid fits found.\n",
      "Not enough data. Returning nan\n",
      "Assuming nested distributions\n",
      "c:\\Users\\user\\anaconda3\\lib\\site-packages\\powerlaw.py:1383: RuntimeWarning: invalid value encountered in scalar divide\n",
      "  alpha = 1 + len(data)/sum( log( data / (self.xmin) ))\n",
      "No valid fits found.\n",
      "Not enough data. Returning nan\n",
      "c:\\Users\\user\\anaconda3\\lib\\site-packages\\numpy\\core\\_methods.py:206: RuntimeWarning: Degrees of freedom <= 0 for slice\n",
      "  ret = _var(a, axis=axis, dtype=dtype, out=out, ddof=ddof,\n",
      "c:\\Users\\user\\anaconda3\\lib\\site-packages\\numpy\\core\\_methods.py:163: RuntimeWarning: invalid value encountered in divide\n",
      "  arrmean = um.true_divide(arrmean, div, out=arrmean,\n",
      "c:\\Users\\user\\anaconda3\\lib\\site-packages\\numpy\\core\\_methods.py:198: RuntimeWarning: invalid value encountered in scalar divide\n",
      "  ret = ret.dtype.type(ret / rcount)\n",
      "No valid fits found.\n",
      "Not enough data. Returning nan\n",
      "Less than 2 unique data values left after xmin and xmax options! Cannot fit. Returning nans.\n",
      "Not enough data. Returning nan\n",
      "Not enough data. Returning nan\n",
      "No valid fits found.\n",
      "Not enough data. Returning nan\n",
      "Assuming nested distributions\n",
      "No valid fits found.\n",
      "Not enough data. Returning nan\n",
      "No valid fits found.\n",
      "Not enough data. Returning nan\n",
      "Less than 2 unique data values left after xmin and xmax options! Cannot fit. Returning nans.\n",
      "Not enough data. Returning nan\n",
      "Not enough data. Returning nan\n",
      "No valid fits found.\n",
      "Not enough data. Returning nan\n",
      "Assuming nested distributions\n",
      "No valid fits found.\n",
      "Not enough data. Returning nan\n",
      "No valid fits found.\n",
      "Not enough data. Returning nan\n",
      "Less than 2 unique data values left after xmin and xmax options! Cannot fit. Returning nans.\n",
      "Not enough data. Returning nan\n",
      "Not enough data. Returning nan\n",
      "No valid fits found.\n",
      "Not enough data. Returning nan\n",
      "Assuming nested distributions\n",
      "No valid fits found.\n",
      "Not enough data. Returning nan\n",
      "No valid fits found.\n",
      "Not enough data. Returning nan\n",
      "Less than 2 unique data values left after xmin and xmax options! Cannot fit. Returning nans.\n",
      "Not enough data. Returning nan\n",
      "Not enough data. Returning nan\n",
      "No valid fits found.\n",
      "Not enough data. Returning nan\n",
      "Assuming nested distributions\n",
      "No valid fits found.\n",
      "Not enough data. Returning nan\n",
      "No valid fits found.\n",
      "Not enough data. Returning nan\n",
      "Less than 2 unique data values left after xmin and xmax options! Cannot fit. Returning nans.\n",
      "c:\\Users\\user\\anaconda3\\lib\\site-packages\\powerlaw.py:1151: RuntimeWarning: invalid value encountered in scalar divide\n",
      "  self.alpha = 1 + (self.n / sum(log(data/self.xmin)))\n",
      "c:\\Users\\user\\anaconda3\\lib\\site-packages\\powerlaw.py:1170: RuntimeWarning: invalid value encountered in scalar divide\n",
      "  return 1 + len(data)/sum(log(data / (self.xmin)))\n",
      "Not enough data. Returning nan\n",
      "Not enough data. Returning nan\n",
      "c:\\Users\\user\\anaconda3\\lib\\site-packages\\numpy\\core\\fromnumeric.py:3504: RuntimeWarning: Mean of empty slice.\n",
      "  return _methods._mean(a, axis=axis, dtype=dtype,\n",
      "c:\\Users\\user\\anaconda3\\lib\\site-packages\\numpy\\core\\_methods.py:129: RuntimeWarning: invalid value encountered in scalar divide\n",
      "  ret = ret.dtype.type(ret / rcount)\n",
      "No valid fits found.\n",
      "Not enough data. Returning nan\n",
      "Assuming nested distributions\n",
      "c:\\Users\\user\\anaconda3\\lib\\site-packages\\powerlaw.py:1383: RuntimeWarning: invalid value encountered in scalar divide\n",
      "  alpha = 1 + len(data)/sum( log( data / (self.xmin) ))\n",
      "No valid fits found.\n",
      "Not enough data. Returning nan\n",
      "c:\\Users\\user\\anaconda3\\lib\\site-packages\\numpy\\core\\_methods.py:206: RuntimeWarning: Degrees of freedom <= 0 for slice\n",
      "  ret = _var(a, axis=axis, dtype=dtype, out=out, ddof=ddof,\n",
      "c:\\Users\\user\\anaconda3\\lib\\site-packages\\numpy\\core\\_methods.py:163: RuntimeWarning: invalid value encountered in divide\n",
      "  arrmean = um.true_divide(arrmean, div, out=arrmean,\n",
      "c:\\Users\\user\\anaconda3\\lib\\site-packages\\numpy\\core\\_methods.py:198: RuntimeWarning: invalid value encountered in scalar divide\n",
      "  ret = ret.dtype.type(ret / rcount)\n",
      "No valid fits found.\n",
      "Not enough data. Returning nan\n",
      "Less than 2 unique data values left after xmin and xmax options! Cannot fit. Returning nans.\n",
      "Not enough data. Returning nan\n",
      "Not enough data. Returning nan\n",
      "No valid fits found.\n",
      "Not enough data. Returning nan\n",
      "Assuming nested distributions\n",
      "No valid fits found.\n",
      "Not enough data. Returning nan\n",
      "No valid fits found.\n",
      "Not enough data. Returning nan\n",
      "Less than 2 unique data values left after xmin and xmax options! Cannot fit. Returning nans.\n",
      "Not enough data. Returning nan\n",
      "Not enough data. Returning nan\n",
      "No valid fits found.\n",
      "Not enough data. Returning nan\n",
      "Assuming nested distributions\n",
      "No valid fits found.\n",
      "Not enough data. Returning nan\n",
      "No valid fits found.\n",
      "Not enough data. Returning nan\n",
      "Less than 2 unique data values left after xmin and xmax options! Cannot fit. Returning nans.\n",
      "Not enough data. Returning nan\n",
      "Not enough data. Returning nan\n",
      "No valid fits found.\n",
      "Not enough data. Returning nan\n",
      "Assuming nested distributions\n",
      "No valid fits found.\n",
      "Not enough data. Returning nan\n",
      "No valid fits found.\n",
      "Not enough data. Returning nan\n",
      "Less than 2 unique data values left after xmin and xmax options! Cannot fit. Returning nans.\n",
      "Not enough data. Returning nan\n",
      "Not enough data. Returning nan\n",
      "No valid fits found.\n",
      "Not enough data. Returning nan\n",
      "Assuming nested distributions\n",
      "No valid fits found.\n",
      "Not enough data. Returning nan\n",
      "No valid fits found.\n",
      "Not enough data. Returning nan\n",
      "Less than 2 unique data values left after xmin and xmax options! Cannot fit. Returning nans.\n",
      "c:\\Users\\user\\anaconda3\\lib\\site-packages\\powerlaw.py:1151: RuntimeWarning: invalid value encountered in scalar divide\n",
      "  self.alpha = 1 + (self.n / sum(log(data/self.xmin)))\n",
      "c:\\Users\\user\\anaconda3\\lib\\site-packages\\powerlaw.py:1170: RuntimeWarning: invalid value encountered in scalar divide\n",
      "  return 1 + len(data)/sum(log(data / (self.xmin)))\n",
      "Not enough data. Returning nan\n",
      "Not enough data. Returning nan\n",
      "c:\\Users\\user\\anaconda3\\lib\\site-packages\\numpy\\core\\fromnumeric.py:3504: RuntimeWarning: Mean of empty slice.\n",
      "  return _methods._mean(a, axis=axis, dtype=dtype,\n",
      "c:\\Users\\user\\anaconda3\\lib\\site-packages\\numpy\\core\\_methods.py:129: RuntimeWarning: invalid value encountered in scalar divide\n",
      "  ret = ret.dtype.type(ret / rcount)\n",
      "No valid fits found.\n",
      "Not enough data. Returning nan\n",
      "Assuming nested distributions\n",
      "c:\\Users\\user\\anaconda3\\lib\\site-packages\\powerlaw.py:1383: RuntimeWarning: invalid value encountered in scalar divide\n",
      "  alpha = 1 + len(data)/sum( log( data / (self.xmin) ))\n",
      "No valid fits found.\n",
      "Not enough data. Returning nan\n",
      "c:\\Users\\user\\anaconda3\\lib\\site-packages\\numpy\\core\\_methods.py:206: RuntimeWarning: Degrees of freedom <= 0 for slice\n",
      "  ret = _var(a, axis=axis, dtype=dtype, out=out, ddof=ddof,\n",
      "c:\\Users\\user\\anaconda3\\lib\\site-packages\\numpy\\core\\_methods.py:163: RuntimeWarning: invalid value encountered in divide\n",
      "  arrmean = um.true_divide(arrmean, div, out=arrmean,\n",
      "c:\\Users\\user\\anaconda3\\lib\\site-packages\\numpy\\core\\_methods.py:198: RuntimeWarning: invalid value encountered in scalar divide\n",
      "  ret = ret.dtype.type(ret / rcount)\n",
      "No valid fits found.\n",
      "Not enough data. Returning nan\n",
      "Less than 2 unique data values left after xmin and xmax options! Cannot fit. Returning nans.\n",
      "Not enough data. Returning nan\n",
      "Not enough data. Returning nan\n",
      "No valid fits found.\n",
      "Not enough data. Returning nan\n",
      "Assuming nested distributions\n",
      "No valid fits found.\n",
      "Not enough data. Returning nan\n",
      "No valid fits found.\n",
      "Not enough data. Returning nan\n",
      "Less than 2 unique data values left after xmin and xmax options! Cannot fit. Returning nans.\n",
      "Not enough data. Returning nan\n",
      "Not enough data. Returning nan\n",
      "No valid fits found.\n",
      "Not enough data. Returning nan\n",
      "Assuming nested distributions\n",
      "No valid fits found.\n",
      "Not enough data. Returning nan\n",
      "No valid fits found.\n",
      "Not enough data. Returning nan\n",
      "Less than 2 unique data values left after xmin and xmax options! Cannot fit. Returning nans.\n",
      "Not enough data. Returning nan\n",
      "Not enough data. Returning nan\n",
      "No valid fits found.\n",
      "Not enough data. Returning nan\n",
      "Assuming nested distributions\n",
      "No valid fits found.\n",
      "Not enough data. Returning nan\n",
      "No valid fits found.\n",
      "Not enough data. Returning nan\n",
      "Less than 2 unique data values left after xmin and xmax options! Cannot fit. Returning nans.\n",
      "Not enough data. Returning nan\n",
      "Not enough data. Returning nan\n",
      "No valid fits found.\n",
      "Not enough data. Returning nan\n",
      "Assuming nested distributions\n",
      "No valid fits found.\n",
      "Not enough data. Returning nan\n",
      "No valid fits found.\n",
      "Not enough data. Returning nan\n",
      "Less than 2 unique data values left after xmin and xmax options! Cannot fit. Returning nans.\n",
      "c:\\Users\\user\\anaconda3\\lib\\site-packages\\powerlaw.py:1151: RuntimeWarning: invalid value encountered in scalar divide\n",
      "  self.alpha = 1 + (self.n / sum(log(data/self.xmin)))\n",
      "c:\\Users\\user\\anaconda3\\lib\\site-packages\\powerlaw.py:1170: RuntimeWarning: invalid value encountered in scalar divide\n",
      "  return 1 + len(data)/sum(log(data / (self.xmin)))\n",
      "Not enough data. Returning nan\n",
      "Not enough data. Returning nan\n",
      "c:\\Users\\user\\anaconda3\\lib\\site-packages\\numpy\\core\\fromnumeric.py:3504: RuntimeWarning: Mean of empty slice.\n",
      "  return _methods._mean(a, axis=axis, dtype=dtype,\n",
      "c:\\Users\\user\\anaconda3\\lib\\site-packages\\numpy\\core\\_methods.py:129: RuntimeWarning: invalid value encountered in scalar divide\n",
      "  ret = ret.dtype.type(ret / rcount)\n",
      "No valid fits found.\n",
      "Not enough data. Returning nan\n",
      "Assuming nested distributions\n",
      "c:\\Users\\user\\anaconda3\\lib\\site-packages\\powerlaw.py:1383: RuntimeWarning: invalid value encountered in scalar divide\n",
      "  alpha = 1 + len(data)/sum( log( data / (self.xmin) ))\n",
      "No valid fits found.\n",
      "Not enough data. Returning nan\n",
      "c:\\Users\\user\\anaconda3\\lib\\site-packages\\numpy\\core\\_methods.py:206: RuntimeWarning: Degrees of freedom <= 0 for slice\n",
      "  ret = _var(a, axis=axis, dtype=dtype, out=out, ddof=ddof,\n",
      "c:\\Users\\user\\anaconda3\\lib\\site-packages\\numpy\\core\\_methods.py:163: RuntimeWarning: invalid value encountered in divide\n",
      "  arrmean = um.true_divide(arrmean, div, out=arrmean,\n",
      "c:\\Users\\user\\anaconda3\\lib\\site-packages\\numpy\\core\\_methods.py:198: RuntimeWarning: invalid value encountered in scalar divide\n",
      "  ret = ret.dtype.type(ret / rcount)\n",
      "No valid fits found.\n",
      "Not enough data. Returning nan\n",
      "Less than 2 unique data values left after xmin and xmax options! Cannot fit. Returning nans.\n",
      "Not enough data. Returning nan\n",
      "Not enough data. Returning nan\n",
      "No valid fits found.\n",
      "Not enough data. Returning nan\n",
      "Assuming nested distributions\n",
      "No valid fits found.\n",
      "Not enough data. Returning nan\n",
      "No valid fits found.\n",
      "Not enough data. Returning nan\n",
      "Less than 2 unique data values left after xmin and xmax options! Cannot fit. Returning nans.\n",
      "Not enough data. Returning nan\n",
      "Not enough data. Returning nan\n",
      "No valid fits found.\n",
      "Not enough data. Returning nan\n",
      "Assuming nested distributions\n",
      "No valid fits found.\n",
      "Not enough data. Returning nan\n",
      "No valid fits found.\n",
      "Not enough data. Returning nan\n",
      "Less than 2 unique data values left after xmin and xmax options! Cannot fit. Returning nans.\n",
      "Not enough data. Returning nan\n",
      "Not enough data. Returning nan\n",
      "No valid fits found.\n",
      "Not enough data. Returning nan\n",
      "Assuming nested distributions\n",
      "No valid fits found.\n",
      "Not enough data. Returning nan\n",
      "No valid fits found.\n",
      "Not enough data. Returning nan\n",
      "Less than 2 unique data values left after xmin and xmax options! Cannot fit. Returning nans.\n",
      "Not enough data. Returning nan\n",
      "Not enough data. Returning nan\n",
      "No valid fits found.\n",
      "Not enough data. Returning nan\n",
      "Assuming nested distributions\n",
      "No valid fits found.\n",
      "Not enough data. Returning nan\n",
      "No valid fits found.\n",
      "Not enough data. Returning nan\n"
     ]
    }
   ],
   "source": [
    "# Lightning frequency\n",
    "L = 50\n",
    "f = 50\n",
    "parameter_to_change = 'f'\n",
    "range_min = 100\n",
    "range_max = 1000\n",
    "range_step = 50\n",
    "time_steps = 10 ** 5\n",
    "instances = 30\n",
    "include_lakes = False\n",
    "lake_proportion = 0\n",
    "\n",
    "sensitivity_f2 = SensitivityAnal(L,f,parameter_to_change, range_min, range_max, range_step, \n",
    "                                       time_steps, instances, include_lakes, lake_proportion)\n",
    "sensitivity_f2.run()\n"
   ]
  },
  {
   "cell_type": "code",
   "execution_count": 11,
   "metadata": {},
   "outputs": [
    {
     "data": {
      "image/png": "[encoded data removed]",
      "text/plain": [
       "<Figure size 432x288 with 1 Axes>"
      ]
     },
     "metadata": {
      "needs_background": "light"
     },
     "output_type": "display_data"
    },
    {
     "data": {
      "image/png": "[encoded data removed]",
      "text/plain": [
       "<Figure size 432x288 with 1 Axes>"
      ]
     },
     "metadata": {
      "needs_background": "light"
     },
     "output_type": "display_data"
    },
    {
     "data": {
      "image/png": "[encoded data removed]",
      "text/plain": [
       "<Figure size 720x432 with 1 Axes>"
      ]
     },
     "metadata": {
      "needs_background": "light"
     },
     "output_type": "display_data"
    },
    {
     "data": {
      "image/png": "[encoded data removed]",
      "text/plain": [
       "<Figure size 720x432 with 1 Axes>"
      ]
     },
     "metadata": {
      "needs_background": "light"
     },
     "output_type": "display_data"
    },
    {
     "data": {
      "text/plain": [
       "[<matplotlib.lines.Line2D at 0x1a1d2cffac0>]"
      ]
     },
     "execution_count": 11,
     "metadata": {},
     "output_type": "execute_result"
    },
    {
     "data": {
      "image/png": "[encoded data removed]",
      "text/plain": [
       "<Figure size 432x288 with 1 Axes>"
      ]
     },
     "metadata": {
      "needs_background": "light"
     },
     "output_type": "display_data"
    }
   ],
   "source": [
    "# Make plots for previous simulations\n",
    "sensitivity_f2.make_distributions_plots()\n",
    "sensitivity_f2.make_stability_plot()\n",
    "sensitivity_f2.plot_average_tree_densities()\n",
    "sensitivity_f2.make_mean_fire_size_boxplot()\n",
    "\n",
    "# Extra plot relating f and tree density variance\n",
    "y = [np.std(sensitivity_f2.average_tree_densities_data[i]) for i in range(len(sensitivity_f2.average_tree_densities_data))]\n",
    "plt.plot(sensitivity_f2.parameter_range, y)"
   ]
  }
 ],
 "metadata": {
  "kernelspec": {
   "display_name": "Python 3",
   "language": "python",
   "name": "python3"
  },
  "language_info": {
   "codemirror_mode": {
    "name": "ipython",
    "version": 3
   },
   "file_extension": ".py",
   "mimetype": "text/x-python",
   "name": "python",
   "nbconvert_exporter": "python",
   "pygments_lexer": "ipython3",
   "version": "3.9.7"
  }
 },
 "nbformat": 4,
 "nbformat_minor": 2
}
